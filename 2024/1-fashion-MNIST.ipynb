{
 "cells": [
  {
   "cell_type": "markdown",
   "metadata": {},
   "source": [
    "<h3>MNIST Dataset</h3>"
   ]
  },
  {
   "cell_type": "markdown",
   "metadata": {},
   "source": [
    "One of the most commonly used datasets for educational purposes is the MNIST dataset. You can download it from deep learning libraries such as keras and pytorch and it consists of 28x28 pixel greyscale images of handwritten digits. Each image has the corresponding label and it can be used to train and test neural network models for image classification."
   ]
  },
  {
   "cell_type": "code",
   "execution_count": 1,
   "metadata": {},
   "outputs": [],
   "source": [
    "import numpy as np\n",
    "a = np.zeros((3,4))\n",
    "b = np.zeros((3,4))"
   ]
  },
  {
   "cell_type": "code",
   "execution_count": 2,
   "metadata": {},
   "outputs": [
    {
     "data": {
      "text/plain": [
       "(3, 4, 2)"
      ]
     },
     "execution_count": 2,
     "metadata": {},
     "output_type": "execute_result"
    }
   ],
   "source": [
    "np.stack((a,b),2).shape"
   ]
  },
  {
   "cell_type": "code",
   "execution_count": 3,
   "metadata": {
    "id": "NLZathBN9php"
   },
   "outputs": [
    {
     "name": "stderr",
     "output_type": "stream",
     "text": [
      "/Users/guillemguigoicorominas/opt/anaconda3/envs/workspace/lib/python3.8/site-packages/tqdm/auto.py:22: TqdmWarning: IProgress not found. Please update jupyter and ipywidgets. See https://ipywidgets.readthedocs.io/en/stable/user_install.html\n",
      "  from .autonotebook import tqdm as notebook_tqdm\n"
     ]
    }
   ],
   "source": [
    "import numpy as np\n",
    "import torch\n",
    "import torch.nn as nn\n",
    "from torch.nn import functional as F\n",
    "import matplotlib.pyplot as plt\n",
    "\n",
    "from torchvision import datasets, transforms\n",
    "from torch.utils.data import DataLoader"
   ]
  },
  {
   "cell_type": "markdown",
   "metadata": {},
   "source": [
    "Here we will use PyTorch to build out deep learning models. The following cells are for you to get familiar with how pytorch tensors work.\n",
    "\n",
    "*The following cells are just for you to execute and observe the result. Jump to the section* **Working with Fashion-MNIST** *for the explanation of the code.*"
   ]
  },
  {
   "cell_type": "code",
   "execution_count": 4,
   "metadata": {
    "id": "FnAdkv7iO1X0"
   },
   "outputs": [],
   "source": [
    "# pytorch and numpy work well together\n",
    "some_numpy_array = np.array([1,2,3])\n",
    "some_torch_tensor = torch.tensor(some_numpy_array)\n",
    "some_numpy_array = some_torch_tensor.numpy()"
   ]
  },
  {
   "cell_type": "code",
   "execution_count": 5,
   "metadata": {
    "colab": {
     "base_uri": "https://localhost:8080/"
    },
    "id": "ddBnXjLvAdkH",
    "outputId": "24d61d3a-f4f0-48da-c674-76e685e25bd5"
   },
   "outputs": [
    {
     "data": {
      "text/plain": [
       "dtype('int64')"
      ]
     },
     "execution_count": 5,
     "metadata": {},
     "output_type": "execute_result"
    }
   ],
   "source": [
    "some_numpy_array.dtype"
   ]
  },
  {
   "cell_type": "code",
   "execution_count": 6,
   "metadata": {},
   "outputs": [
    {
     "data": {
      "text/plain": [
       "torch.int64"
      ]
     },
     "execution_count": 6,
     "metadata": {},
     "output_type": "execute_result"
    }
   ],
   "source": [
    "some_torch_tensor.dtype"
   ]
  },
  {
   "cell_type": "code",
   "execution_count": 7,
   "metadata": {
    "colab": {
     "base_uri": "https://localhost:8080/"
    },
    "id": "c8YVOSRCMqj8",
    "outputId": "f4bb60e0-fb80-4dca-fcba-398a4e211e8c"
   },
   "outputs": [
    {
     "name": "stdout",
     "output_type": "stream",
     "text": [
      "tensor([[[-0.9556, -0.8745, -0.1729, -1.6754, -0.2514,  2.7289,  0.7543,\n",
      "           1.6180, -0.2368,  1.0759,  1.7754,  2.0707, -0.0405,  0.2174,\n",
      "          -0.2416,  1.5176]]])\n",
      "torch.Size([1, 1, 16])\n"
     ]
    }
   ],
   "source": [
    "# define tensor of random numbers\n",
    "input_data = torch.randn(1,1,16)\n",
    "print(input_data)\n",
    "print(input_data.shape)"
   ]
  },
  {
   "cell_type": "code",
   "execution_count": 8,
   "metadata": {},
   "outputs": [],
   "source": [
    "matrix_1 = torch.ones((4,4))\n",
    "matrix_2 = torch.ones((4,4))"
   ]
  },
  {
   "cell_type": "code",
   "execution_count": 9,
   "metadata": {},
   "outputs": [
    {
     "data": {
      "text/plain": [
       "tensor([[1., 1., 1., 1.],\n",
       "        [1., 1., 1., 1.],\n",
       "        [1., 1., 1., 1.],\n",
       "        [1., 1., 1., 1.]])"
      ]
     },
     "execution_count": 9,
     "metadata": {},
     "output_type": "execute_result"
    }
   ],
   "source": [
    "matrix_1"
   ]
  },
  {
   "cell_type": "code",
   "execution_count": 10,
   "metadata": {},
   "outputs": [
    {
     "data": {
      "text/plain": [
       "tensor([[1., 1., 1., 1.],\n",
       "        [1., 1., 1., 1.],\n",
       "        [1., 1., 1., 1.],\n",
       "        [1., 1., 1., 1.]])"
      ]
     },
     "execution_count": 10,
     "metadata": {},
     "output_type": "execute_result"
    }
   ],
   "source": [
    "matrix_2"
   ]
  },
  {
   "cell_type": "code",
   "execution_count": 11,
   "metadata": {},
   "outputs": [
    {
     "data": {
      "text/plain": [
       "torch.Size([4, 8])"
      ]
     },
     "execution_count": 11,
     "metadata": {},
     "output_type": "execute_result"
    }
   ],
   "source": [
    "torch.hstack((matrix_1, matrix_2)).shape"
   ]
  },
  {
   "cell_type": "code",
   "execution_count": 12,
   "metadata": {},
   "outputs": [
    {
     "data": {
      "text/plain": [
       "torch.Size([8, 4])"
      ]
     },
     "execution_count": 12,
     "metadata": {},
     "output_type": "execute_result"
    }
   ],
   "source": [
    "torch.vstack((matrix_1, matrix_2)).shape"
   ]
  },
  {
   "cell_type": "code",
   "execution_count": 13,
   "metadata": {},
   "outputs": [
    {
     "data": {
      "text/plain": [
       "torch.Size([4, 4, 2])"
      ]
     },
     "execution_count": 13,
     "metadata": {},
     "output_type": "execute_result"
    }
   ],
   "source": [
    "torch.dstack((matrix_1, matrix_2)).shape"
   ]
  },
  {
   "cell_type": "code",
   "execution_count": 14,
   "metadata": {},
   "outputs": [
    {
     "data": {
      "text/plain": [
       "3"
      ]
     },
     "execution_count": 14,
     "metadata": {},
     "output_type": "execute_result"
    }
   ],
   "source": [
    "torch.dstack((matrix_1, matrix_2)).ndim"
   ]
  },
  {
   "cell_type": "code",
   "execution_count": 15,
   "metadata": {
    "colab": {
     "base_uri": "https://localhost:8080/"
    },
    "id": "GTd-KHAOM4qS",
    "outputId": "24c2579a-8ac0-4ff1-ff13-0a6f10a01462"
   },
   "outputs": [
    {
     "data": {
      "text/plain": [
       "OrderedDict([('weight',\n",
       "              tensor([[-0.0641, -0.1193,  0.2128,  0.0967,  0.0949,  0.2236,  0.0975,  0.1366,\n",
       "                       -0.1461,  0.0417, -0.1915, -0.0382,  0.2436,  0.0326,  0.1801,  0.1768],\n",
       "                      [-0.0898,  0.1683,  0.1672,  0.2459,  0.0456,  0.0933, -0.0588, -0.0522,\n",
       "                       -0.2043, -0.1723, -0.0819,  0.2251,  0.1659,  0.1871, -0.2073,  0.0096],\n",
       "                      [ 0.2062,  0.1518, -0.2454, -0.0708,  0.2373, -0.2323, -0.0026, -0.1778,\n",
       "                        0.2220, -0.0834, -0.0674,  0.0488,  0.1159, -0.2165, -0.2328, -0.2049],\n",
       "                      [ 0.0134, -0.0971, -0.2213, -0.0780, -0.1399, -0.1320, -0.0127,  0.0945,\n",
       "                       -0.0829, -0.1397, -0.0744, -0.1428,  0.0624, -0.0375, -0.0675, -0.0622],\n",
       "                      [-0.1736,  0.1409, -0.1115,  0.2349,  0.0693, -0.1960,  0.2180, -0.0740,\n",
       "                        0.0016,  0.2177,  0.0333,  0.0662,  0.0642, -0.1858, -0.1004,  0.0258],\n",
       "                      [ 0.2062, -0.0454,  0.0374, -0.2065,  0.1901,  0.1865, -0.0223,  0.1347,\n",
       "                        0.0302, -0.1390, -0.1299,  0.0099,  0.2430, -0.0189,  0.1954,  0.1771],\n",
       "                      [ 0.0454,  0.1375,  0.0634,  0.0876,  0.0747, -0.2150, -0.2079,  0.1102,\n",
       "                        0.0067, -0.1785, -0.1147, -0.1364, -0.0742, -0.2200,  0.0307,  0.1923],\n",
       "                      [-0.1315,  0.0068, -0.1001, -0.1855,  0.0336, -0.1520,  0.1087, -0.2175,\n",
       "                        0.0208, -0.0635,  0.1715,  0.2243,  0.0235, -0.1267,  0.1841,  0.1201]])),\n",
       "             ('bias',\n",
       "              tensor([-0.0361, -0.0103, -0.0767, -0.0859, -0.1203, -0.2146,  0.2182,  0.1475]))])"
      ]
     },
     "execution_count": 15,
     "metadata": {},
     "output_type": "execute_result"
    }
   ],
   "source": [
    "# define linear layer\n",
    "linear = nn.Linear(16, 8)\n",
    "linear.state_dict()"
   ]
  },
  {
   "cell_type": "code",
   "execution_count": 16,
   "metadata": {},
   "outputs": [
    {
     "ename": "NameError",
     "evalue": "name 'input_data_1' is not defined",
     "output_type": "error",
     "traceback": [
      "\u001b[0;31m---------------------------------------------------------------------------\u001b[0m",
      "\u001b[0;31mNameError\u001b[0m                                 Traceback (most recent call last)",
      "Input \u001b[0;32mIn [16]\u001b[0m, in \u001b[0;36m<cell line: 1>\u001b[0;34m()\u001b[0m\n\u001b[0;32m----> 1\u001b[0m linear(\u001b[43minput_data_1\u001b[49m)\n",
      "\u001b[0;31mNameError\u001b[0m: name 'input_data_1' is not defined"
     ]
    }
   ],
   "source": [
    "linear(input_data_1)"
   ]
  },
  {
   "cell_type": "code",
   "execution_count": null,
   "metadata": {},
   "outputs": [],
   "source": [
    "torch.matmul(input_data_1, linear.state_dict()['weight'].T) + linear.state_dict()['bias']"
   ]
  },
  {
   "cell_type": "code",
   "execution_count": null,
   "metadata": {},
   "outputs": [],
   "source": [
    "torch.sum(linear.state_dict()['weight'][0] * input_data) + 0.2358"
   ]
  },
  {
   "cell_type": "code",
   "execution_count": null,
   "metadata": {},
   "outputs": [],
   "source": [
    "torch.matmul(input_data, linear.state_dict()['weight'].T) + linear.state_dict()['bias']"
   ]
  },
  {
   "cell_type": "code",
   "execution_count": null,
   "metadata": {
    "colab": {
     "base_uri": "https://localhost:8080/"
    },
    "id": "slgJLHZiOOyL",
    "outputId": "c33c3e6f-b304-4f95-b83c-32180e74b796"
   },
   "outputs": [],
   "source": [
    "output = linear(input_data)\n",
    "print(output.shape)\n",
    "print(output)"
   ]
  },
  {
   "cell_type": "code",
   "execution_count": null,
   "metadata": {
    "colab": {
     "base_uri": "https://localhost:8080/"
    },
    "id": "RvQc8Z7rB4dT",
    "outputId": "0efbe844-db22-44f7-9c47-26fc9b7f75bd"
   },
   "outputs": [],
   "source": [
    "input_data.shape"
   ]
  },
  {
   "cell_type": "code",
   "execution_count": null,
   "metadata": {
    "colab": {
     "base_uri": "https://localhost:8080/"
    },
    "id": "npITLguRB3Ab",
    "outputId": "52bc4c40-90e7-4c1e-a6c6-90121d250285"
   },
   "outputs": [],
   "source": [
    "output"
   ]
  },
  {
   "cell_type": "code",
   "execution_count": null,
   "metadata": {
    "colab": {
     "base_uri": "https://localhost:8080/"
    },
    "id": "ySThG-I1OsWR",
    "outputId": "1d9104ad-4e7b-4ed1-ff9c-f5a5972b87ee"
   },
   "outputs": [],
   "source": [
    "# obtain the same output using matrix multiplication (torch.matmul(t1, t2))\n",
    "torch.matmul(input_data, linear.state_dict()['weight'].T) + linear.state_dict()['bias']"
   ]
  },
  {
   "cell_type": "markdown",
   "metadata": {},
   "source": [
    "<h3>Working with Fashion-MNIST</h3>"
   ]
  },
  {
   "cell_type": "markdown",
   "metadata": {},
   "source": [
    "MNIST is the \"hello, world!\" of datasets for image classification. Since it is arguably overused, today we will download the Fashion-MNIST dataset. As explained by the authors:\n",
    "\n",
    "\"Fashion-MNIST is a dataset of Zalando's article images—consisting of a training set of 60,000 examples and a test set of 10,000 examples. Each example is a 28x28 grayscale image, associated with a label from 10 classes. We intend Fashion-MNIST to serve as a direct drop-in replacement for the original MNIST dataset for benchmarking machine learning algorithms. It shares the same image size and structure of training and testing splits.\"\n",
    "\n",
    "You can find the original repository [here](https://github.com/zalandoresearch/fashion-mnist)"
   ]
  },
  {
   "cell_type": "code",
   "execution_count": 17,
   "metadata": {
    "id": "jOs6qq-_Mkm7"
   },
   "outputs": [],
   "source": [
    "def transform_labels(label):\n",
    "    label_vector = torch.zeros(10)\n",
    "    label_vector[label] = 1\n",
    "    return label_vector\n",
    "\n",
    "train_dataset = datasets.FashionMNIST('./fmnist_data', download=True, train=True, transform=transforms.Compose([\n",
    "                                                transforms.ToTensor(), # first, convert image to PyTorch tensor\n",
    "                                                transforms.Normalize((0.1307,), (0.3081,)) # normalize inputs\n",
    "                                                ]), target_transform=transform_labels)\n",
    "\n",
    "test_dataset = datasets.FashionMNIST('./fmnist_data', download=True, train=False, transform=transforms.Compose([\n",
    "                                                              transforms.ToTensor(), # first, convert image to PyTorch tensor\n",
    "                                                              transforms.Normalize((0.1307,), (0.3081,)) # normalize inputs\n",
    "                                                          ]), target_transform=transform_labels)"
   ]
  },
  {
   "cell_type": "markdown",
   "metadata": {},
   "source": [
    "The first time you execute this code PyTorch will download the dataset and store it in the specified folder (./fmnist_data). You can load it afterwards at any time without having to download it again."
   ]
  },
  {
   "cell_type": "code",
   "execution_count": 18,
   "metadata": {},
   "outputs": [
    {
     "data": {
      "text/plain": [
       "Dataset FashionMNIST\n",
       "    Number of datapoints: 60000\n",
       "    Root location: ./fmnist_data\n",
       "    Split: Train\n",
       "    StandardTransform\n",
       "Transform: Compose(\n",
       "               ToTensor()\n",
       "               Normalize(mean=(0.1307,), std=(0.3081,))\n",
       "           )\n",
       "Target transform: <function transform_labels at 0x7fc1fd25f670>"
      ]
     },
     "execution_count": 18,
     "metadata": {},
     "output_type": "execute_result"
    }
   ],
   "source": [
    "train_dataset"
   ]
  },
  {
   "cell_type": "code",
   "execution_count": 19,
   "metadata": {},
   "outputs": [
    {
     "data": {
      "text/plain": [
       "Dataset FashionMNIST\n",
       "    Number of datapoints: 10000\n",
       "    Root location: ./fmnist_data\n",
       "    Split: Test\n",
       "    StandardTransform\n",
       "Transform: Compose(\n",
       "               ToTensor()\n",
       "               Normalize(mean=(0.1307,), std=(0.3081,))\n",
       "           )\n",
       "Target transform: <function transform_labels at 0x7fc1fd25f670>"
      ]
     },
     "execution_count": 19,
     "metadata": {},
     "output_type": "execute_result"
    }
   ],
   "source": [
    "test_dataset"
   ]
  },
  {
   "cell_type": "markdown",
   "metadata": {},
   "source": [
    "Digital images consist of pixels that (typically) range from 0 to 255 in value, consisting of an 8-bit representation of color ($2^8=256$ values). Most digital images are RGB, which combine different values for Red, Green and Blue pixels between 0 and 255. You can imagine this as three images superimposed on top of eachother that combined make the colors of the visible spectrum. These are called *channels*, and a typical RGB image has 3. The images in the current dataset have a single channel, as they are grayscale. The pixel values in the raw images range from 0 to 255, but here we already normalized the data with mean 0.1307 and standard deviation 0.3081 in the loading step. These are arbitrary values taken from PyTorch's own tutorial on how to work with the Fashion-MNIST dataset (https://pytorch.org/tutorials/beginner/basics/data_tutorial.html).\n",
    "\n",
    "Each element in the train and test datasets is a tuple that contains both the image in tensor form and the label:"
   ]
  },
  {
   "cell_type": "code",
   "execution_count": 20,
   "metadata": {},
   "outputs": [],
   "source": [
    "image, label = train_dataset[0]"
   ]
  },
  {
   "cell_type": "code",
   "execution_count": 21,
   "metadata": {},
   "outputs": [
    {
     "data": {
      "text/plain": [
       "torch.Size([28, 28])"
      ]
     },
     "execution_count": 21,
     "metadata": {},
     "output_type": "execute_result"
    }
   ],
   "source": [
    "image[0].shape"
   ]
  },
  {
   "cell_type": "code",
   "execution_count": 22,
   "metadata": {},
   "outputs": [
    {
     "data": {
      "text/plain": [
       "<matplotlib.image.AxesImage at 0x7fc1e52ea370>"
      ]
     },
     "execution_count": 22,
     "metadata": {},
     "output_type": "execute_result"
    },
    {
     "data": {
      "image/png": "[encoded data removed]",
      "text/plain": [
       "<Figure size 432x288 with 1 Axes>"
      ]
     },
     "metadata": {
      "needs_background": "light"
     },
     "output_type": "display_data"
    }
   ],
   "source": [
    "plt.imshow(image.numpy()[0], cmap='Greys')"
   ]
  },
  {
   "cell_type": "code",
   "execution_count": 23,
   "metadata": {},
   "outputs": [
    {
     "name": "stdout",
     "output_type": "stream",
     "text": [
      "<class 'torch.Tensor'>\n",
      "torch.Size([1, 28, 28])\n",
      "tensor([0., 0., 0., 0., 0., 0., 0., 0., 0., 1.])\n"
     ]
    }
   ],
   "source": [
    "print(type(image))\n",
    "print(image.shape)\n",
    "print(label)"
   ]
  },
  {
   "cell_type": "markdown",
   "metadata": {},
   "source": [
    "The size of [1, 28, 28] specifies that the image has a height and width of 28 pixels and a single channel."
   ]
  },
  {
   "cell_type": "markdown",
   "metadata": {},
   "source": [
    "In PyTorch's tutorial page we can find the following labels map, which tells us the classes that correspond to each numeric label:"
   ]
  },
  {
   "cell_type": "code",
   "execution_count": 24,
   "metadata": {},
   "outputs": [],
   "source": [
    "image, label = train_dataset[1]"
   ]
  },
  {
   "cell_type": "code",
   "execution_count": 25,
   "metadata": {},
   "outputs": [],
   "source": [
    "labels_map = {\n",
    "    0: \"T-Shirt\",\n",
    "    1: \"Trouser\",\n",
    "    2: \"Pullover\",\n",
    "    3: \"Dress\",\n",
    "    4: \"Coat\",\n",
    "    5: \"Sandal\",\n",
    "    6: \"Shirt\",\n",
    "    7: \"Sneaker\",\n",
    "    8: \"Bag\",\n",
    "    9: \"Ankle Boot\",\n",
    "}"
   ]
  },
  {
   "cell_type": "code",
   "execution_count": 26,
   "metadata": {},
   "outputs": [
    {
     "data": {
      "text/plain": [
       "'T-Shirt'"
      ]
     },
     "execution_count": 26,
     "metadata": {},
     "output_type": "execute_result"
    }
   ],
   "source": [
    "labels_map.get(torch.argmax(label).item())"
   ]
  },
  {
   "cell_type": "markdown",
   "metadata": {},
   "source": [
    "We can see that the first image in the training set is an Ankle Boot:"
   ]
  },
  {
   "cell_type": "code",
   "execution_count": 27,
   "metadata": {},
   "outputs": [
    {
     "data": {
      "text/plain": [
       "Text(0.5, 1.02, 'T-Shirt')"
      ]
     },
     "execution_count": 27,
     "metadata": {},
     "output_type": "execute_result"
    },
    {
     "data": {
      "image/png": "[encoded data removed]",
      "text/plain": [
       "<Figure size 432x288 with 1 Axes>"
      ]
     },
     "metadata": {
      "needs_background": "light"
     },
     "output_type": "display_data"
    }
   ],
   "source": [
    "plt.imshow(image.squeeze(), cmap='gray')\n",
    "plt.title(labels_map.get(torch.argmax(label).item()), fontsize=14, y=1.02)"
   ]
  },
  {
   "cell_type": "code",
   "execution_count": 28,
   "metadata": {},
   "outputs": [
    {
     "data": {
      "text/plain": [
       "torch.Size([60000, 28, 28])"
      ]
     },
     "execution_count": 28,
     "metadata": {},
     "output_type": "execute_result"
    }
   ],
   "source": [
    "train_dataset.data.shape"
   ]
  },
  {
   "cell_type": "code",
   "execution_count": 29,
   "metadata": {},
   "outputs": [
    {
     "data": {
      "text/plain": [
       "torch.Size([10000, 28, 28])"
      ]
     },
     "execution_count": 29,
     "metadata": {},
     "output_type": "execute_result"
    }
   ],
   "source": [
    "test_dataset.data.shape"
   ]
  },
  {
   "cell_type": "markdown",
   "metadata": {},
   "source": [
    "The shape of the data in the train and test datasets tells us that there are 60.000 images in the train set and 10.000 images in the test set.\n",
    "\n",
    "We will use PyTorch's DataLoader to iterate over the samples in the training and test sets. Here is where we will select the batch size, i.e. the number of samples that we will use as input to the model at once. The batch size is "
   ]
  },
  {
   "cell_type": "code",
   "execution_count": 30,
   "metadata": {
    "id": "3QuJIOzePM8s"
   },
   "outputs": [],
   "source": [
    "batch_size = 512\n",
    "\n",
    "train_loader = DataLoader(train_dataset, batch_size=batch_size, shuffle=True)\n",
    "test_loader = DataLoader(test_dataset, batch_size=batch_size, shuffle=False)"
   ]
  },
  {
   "cell_type": "markdown",
   "metadata": {},
   "source": [
    "Now it is time to define our model. "
   ]
  },
  {
   "cell_type": "code",
   "execution_count": 31,
   "metadata": {},
   "outputs": [
    {
     "name": "stdout",
     "output_type": "stream",
     "text": [
      "tensor([[[-0.6899,  0.4674, -0.8456, -1.5089, -1.7153,  0.3057, -0.3905,\n",
      "           1.1778,  1.4188, -0.0906]]])\n",
      "tensor([[[0.0000, 0.4674, 0.0000, 0.0000, 0.0000, 0.3057, 0.0000, 1.1778,\n",
      "          1.4188, 0.0000]]])\n"
     ]
    }
   ],
   "source": [
    "dropout = nn.Dropout(0.6)\n",
    "random_tensor = torch.randn(1,1,10)\n",
    "print(random_tensor)\n",
    "print(F.relu(random_tensor))\n"
   ]
  },
  {
   "cell_type": "code",
   "execution_count": 32,
   "metadata": {
    "id": "VgPtwoVVQVSL"
   },
   "outputs": [],
   "source": [
    "class FullyConnected(nn.Module):\n",
    "    def __init__(self, use_dropout: bool = True) -> None:\n",
    "        super(FullyConnected, self).__init__()\n",
    "        self.linear_1 = nn.Linear(784, 64)\n",
    "        self.linear_2 = nn.Linear(64, 32)\n",
    "        self.output = nn.Linear(32, 10)\n",
    "        self.softmax = nn.LogSoftmax(dim=1)\n",
    "        self.dropout = nn.Dropout(0.25)\n",
    "        self.use_dropout = use_dropout\n",
    "\n",
    "    def forward(self, x):\n",
    "        x = F.relu(self.linear_1(x))\n",
    "        if self.use_dropout:\n",
    "            x = self.dropout(x)\n",
    "        x = F.relu(self.linear_2(x))\n",
    "        x = self.softmax(self.output(x))\n",
    "        return x"
   ]
  },
  {
   "cell_type": "code",
   "execution_count": 33,
   "metadata": {
    "id": "iDDq_Q4ERh_9"
   },
   "outputs": [],
   "source": [
    "# here we specify that we want to use the GPU\n",
    "device = torch.device('cuda' if torch.cuda.is_available() else 'cpu')\n",
    "\n",
    "model = FullyConnected().to(device)"
   ]
  },
  {
   "cell_type": "code",
   "execution_count": 34,
   "metadata": {
    "id": "jlmYAqqETXUc"
   },
   "outputs": [],
   "source": [
    "# define optimizer\n",
    "learning_rate = 1e-3\n",
    "\n",
    "optimizer = torch.optim.Adam(model.parameters(), lr=learning_rate, weight_decay=5e-4)\n",
    "loss_function = nn.CrossEntropyLoss()"
   ]
  },
  {
   "cell_type": "markdown",
   "metadata": {},
   "source": [
    "Finally, we move onto the training loop:"
   ]
  },
  {
   "cell_type": "code",
   "execution_count": 37,
   "metadata": {},
   "outputs": [
    {
     "name": "stdout",
     "output_type": "stream",
     "text": [
      "epoch: 1, training loss: 0.7443296682026427, test loss: 0.5129877403378487\n",
      "epoch: 1, training accuracy: 0.7581333333333333, test accuracy: 0.8161 \n",
      "\n",
      "epoch: 2, training loss: 0.4457270828849178, test loss: 0.44353802800178527\n",
      "epoch: 2, training accuracy: 0.8440833333333333, test accuracy: 0.8428 \n",
      "\n",
      "epoch: 3, training loss: 0.3995730922383777, test loss: 0.42952619194984437\n",
      "epoch: 3, training accuracy: 0.8585333333333334, test accuracy: 0.8454 \n",
      "\n",
      "epoch: 4, training loss: 0.37231819306389763, test loss: 0.40394589900970457\n",
      "epoch: 4, training accuracy: 0.8681666666666666, test accuracy: 0.8559 \n",
      "\n",
      "epoch: 5, training loss: 0.35277937630475575, test loss: 0.39405733048915864\n",
      "epoch: 5, training accuracy: 0.87405, test accuracy: 0.8569 \n",
      "\n",
      "epoch: 6, training loss: 0.3394458192889973, test loss: 0.382901431620121\n",
      "epoch: 6, training accuracy: 0.87805, test accuracy: 0.8636 \n",
      "\n",
      "epoch: 7, training loss: 0.32897387040873705, test loss: 0.37257121652364733\n",
      "epoch: 7, training accuracy: 0.8812, test accuracy: 0.8666 \n",
      "\n",
      "epoch: 8, training loss: 0.3138749947992422, test loss: 0.36538894325494764\n",
      "epoch: 8, training accuracy: 0.8876833333333334, test accuracy: 0.8675 \n",
      "\n",
      "epoch: 9, training loss: 0.3049380236257941, test loss: 0.35669270604848863\n",
      "epoch: 9, training accuracy: 0.8908333333333334, test accuracy: 0.8727 \n",
      "\n",
      "epoch: 10, training loss: 0.29686323502811335, test loss: 0.3548991471529007\n",
      "epoch: 10, training accuracy: 0.8929, test accuracy: 0.8733 \n",
      "\n"
     ]
    }
   ],
   "source": [
    "from copy import deepcopy\n",
    "\n",
    "epochs = 10\n",
    "train_loss, test_loss = [], []\n",
    "train_accuracy, test_accuracy = [], []\n",
    "best_model = deepcopy(model)\n",
    "best_test_loss = torch.inf\n",
    "\n",
    "for epoch in range(epochs):\n",
    "    correct = 0\n",
    "    total = 0\n",
    "    loss_epoch_train, loss_epoch_test = 0, 0\n",
    "    for i, (img, labels) in enumerate(train_loader):\n",
    "        input_data = img.to(device).reshape(-1,784)\n",
    "        labels = labels.to(device)\n",
    "        # Make predictions for this batch\n",
    "        outputs = model(input_data)\n",
    "        # Compute the loss and its gradients\n",
    "        loss = loss_function(outputs, labels)\n",
    "        loss.backward()\n",
    "        # Adjust learning weights\n",
    "        optimizer.step()\n",
    "        optimizer.zero_grad()\n",
    "        # Add loss values for this epoch\n",
    "        loss_epoch_train += loss.item()\n",
    "        for im, lab in zip(outputs, labels):\n",
    "            if im.argmax() == lab.argmax():\n",
    "                correct += 1\n",
    "            total += 1\n",
    "    accuracy_train_epoch = correct / total\n",
    "    correct = 0\n",
    "    total = 0\n",
    "    for j, (img, labels) in enumerate(test_loader):\n",
    "        input_data = img.to(device).reshape(-1,784)\n",
    "        labels = labels.to(device)\n",
    "        outputs = model(input_data)\n",
    "        loss = loss_function(outputs, labels)\n",
    "        loss_epoch_test += loss.item()\n",
    "        for im, lab in zip(outputs, labels):\n",
    "            if im.argmax() == lab.argmax():\n",
    "                correct += 1\n",
    "            total += 1\n",
    "        accuracy_test_epoch = correct / total\n",
    "        if loss_epoch_test < best_test_loss:\n",
    "            best_test_loss = loss_epoch_test\n",
    "            best_model = deepcopy(model)\n",
    "    print(f'epoch: {epoch + 1}, training loss: {loss_epoch_train / (i+1)}, test loss: {loss_epoch_test / (j+1)}')\n",
    "    print(f'epoch: {epoch + 1}, training accuracy: {accuracy_train_epoch}, test accuracy: {accuracy_test_epoch} \\n')"
   ]
  },
  {
   "cell_type": "code",
   "execution_count": 36,
   "metadata": {},
   "outputs": [
    {
     "data": {
      "text/plain": [
       "Text(0.5, 1.02, 'Coat')"
      ]
     },
     "execution_count": 36,
     "metadata": {},
     "output_type": "execute_result"
    },
    {
     "data": {
      "image/png": "[encoded data removed]",
      "text/plain": [
       "<Figure size 864x360 with 2 Axes>"
      ]
     },
     "metadata": {
      "needs_background": "light"
     },
     "output_type": "display_data"
    }
   ],
   "source": [
    "test_example = 18\n",
    "image, label = train_dataset[test_example]\n",
    "\n",
    "model.use_dropout = False\n",
    "\n",
    "prediction = model(image.reshape(1,-1))\n",
    "\n",
    "fig, ax = plt.subplots(1,2,figsize=(12,5))\n",
    "\n",
    "ax[0].imshow(image.squeeze(), cmap='gray')\n",
    "ax[1].imshow(image.squeeze(), cmap='gray')\n",
    "\n",
    "ax[0].set_title(labels_map.get(torch.argmax(label).item()), fontsize=14, y=1.02)\n",
    "ax[1].set_title(labels_map.get(torch.argmax(prediction).item()), fontsize=14, y=1.02)"
   ]
  },
  {
   "cell_type": "markdown",
   "metadata": {
    "id": "hRxUBGKyPgpJ"
   },
   "source": [
    "<h3>Exercise</h3>\n",
    "Repeat all the steps above using the original MNIST dataset. It is up to you to decide the architecture of the network and hyperparameters (learning rate, number of epochs and batch size). Can you get over 95% accuracy on the test set?"
   ]
  },
  {
   "cell_type": "code",
   "execution_count": null,
   "metadata": {},
   "outputs": [],
   "source": [
    "def transform_labels(label):\n",
    "    label_vector = torch.zeros(10)\n",
    "    label_vector[label] = 1\n",
    "    return label_vector\n",
    "\n",
    "train_dataset = datasets.MNIST('./mnist_data', download=True, train=True, transform=transforms.Compose([\n",
    "                                                transforms.ToTensor(), # first, convert image to PyTorch tensor\n",
    "                                                transforms.Normalize((0.1307,), (0.3081,)) # normalize inputs\n",
    "                                                ]), target_transform=transform_labels)\n",
    "\n",
    "test_dataset = datasets.MNIST('./mnist_data', download=True, train=False, transform=transforms.Compose([\n",
    "                                                              transforms.ToTensor(), # first, convert image to PyTorch tensor\n",
    "                                                              transforms.Normalize((0.1307,), (0.3081,)) # normalize inputs\n",
    "                                                          ]), target_transform=transform_labels)"
   ]
  }
 ],
 "metadata": {
  "accelerator": "GPU",
  "colab": {
   "gpuType": "T4",
   "provenance": []
  },
  "kernelspec": {
   "display_name": "Python 3 (ipykernel)",
   "language": "python",
   "name": "python3"
  },
  "language_info": {
   "codemirror_mode": {
    "name": "ipython",
    "version": 3
   },
   "file_extension": ".py",
   "mimetype": "text/x-python",
   "name": "python",
   "nbconvert_exporter": "python",
   "pygments_lexer": "ipython3",
   "version": "3.8.10"
  }
 },
 "nbformat": 4,
 "nbformat_minor": 4
}
