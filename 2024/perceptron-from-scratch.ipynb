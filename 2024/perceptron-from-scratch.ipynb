{
 "cells": [
  {
   "cell_type": "markdown",
   "id": "3147bb98-a665-4e76-b9bd-22af4260d017",
   "metadata": {},
   "source": [
    "<h3> The Perceptron </h3>"
   ]
  },
  {
   "cell_type": "markdown",
   "id": "b8d38fe9-56b3-4daf-b014-332bc98b23e5",
   "metadata": {},
   "source": [
    "Today we will build a perceptron that will allow us to determine whether a patient has a sleep disorder or not. We will build it and train it from scratch using only the numpy library, with the additional support of pandas to load the data and matplotlib to visualize the training process and results."
   ]
  },
  {
   "cell_type": "markdown",
   "id": "2e5a3c59-88c3-4a7e-b53c-971e87089f87",
   "metadata": {},
   "source": [
    "<center>\n",
    "    <figure>\n",
    "    <img src=\"perceptron-diagram.png\" alt=\"perceptron\" width=\"75%\"/>\n",
    "      <figcaption>Schematic representation of a Perceptron</figcaption>\n",
    "    </figure>\n",
    "</center>"
   ]
  },
  {
   "cell_type": "code",
   "execution_count": 1,
   "id": "0d1c081e-ec3c-4225-a1ff-28f35d38c3ef",
   "metadata": {},
   "outputs": [],
   "source": [
    "import matplotlib.pyplot as plt\n",
    "import numpy as np\n",
    "import pandas as pd"
   ]
  },
  {
   "cell_type": "markdown",
   "id": "661aa0a6-8f5c-43db-ae43-cc109f631acf",
   "metadata": {},
   "source": [
    "**Exercise 1** - Load the data from the sleep_disorder_data.csv file with pandas and visualize it in the notebook."
   ]
  },
  {
   "cell_type": "code",
   "execution_count": 2,
   "id": "e6842ebe-e38f-4d10-8d2c-7769650fba57",
   "metadata": {},
   "outputs": [
    {
     "data": {
      "text/html": [
       "<div>\n",
       "<style scoped>\n",
       "    .dataframe tbody tr th:only-of-type {\n",
       "        vertical-align: middle;\n",
       "    }\n",
       "\n",
       "    .dataframe tbody tr th {\n",
       "        vertical-align: top;\n",
       "    }\n",
       "\n",
       "    .dataframe thead th {\n",
       "        text-align: right;\n",
       "    }\n",
       "</style>\n",
       "<table border=\"1\" class=\"dataframe\">\n",
       "  <thead>\n",
       "    <tr style=\"text-align: right;\">\n",
       "      <th></th>\n",
       "      <th>Person ID</th>\n",
       "      <th>Gender</th>\n",
       "      <th>Age</th>\n",
       "      <th>Occupation</th>\n",
       "      <th>Sleep Duration</th>\n",
       "      <th>Quality of Sleep</th>\n",
       "      <th>Physical Activity Level</th>\n",
       "      <th>Stress Level</th>\n",
       "      <th>BMI Category</th>\n",
       "      <th>Blood Pressure</th>\n",
       "      <th>Heart Rate</th>\n",
       "      <th>Daily Steps</th>\n",
       "      <th>Sleep Disorder</th>\n",
       "    </tr>\n",
       "  </thead>\n",
       "  <tbody>\n",
       "    <tr>\n",
       "      <th>0</th>\n",
       "      <td>1</td>\n",
       "      <td>Male</td>\n",
       "      <td>27</td>\n",
       "      <td>Software Engineer</td>\n",
       "      <td>6.1</td>\n",
       "      <td>6</td>\n",
       "      <td>42</td>\n",
       "      <td>6</td>\n",
       "      <td>Overweight</td>\n",
       "      <td>126/83</td>\n",
       "      <td>77</td>\n",
       "      <td>4200</td>\n",
       "      <td>None</td>\n",
       "    </tr>\n",
       "    <tr>\n",
       "      <th>1</th>\n",
       "      <td>2</td>\n",
       "      <td>Male</td>\n",
       "      <td>28</td>\n",
       "      <td>Doctor</td>\n",
       "      <td>6.2</td>\n",
       "      <td>6</td>\n",
       "      <td>60</td>\n",
       "      <td>8</td>\n",
       "      <td>Normal</td>\n",
       "      <td>125/80</td>\n",
       "      <td>75</td>\n",
       "      <td>10000</td>\n",
       "      <td>None</td>\n",
       "    </tr>\n",
       "    <tr>\n",
       "      <th>2</th>\n",
       "      <td>3</td>\n",
       "      <td>Male</td>\n",
       "      <td>28</td>\n",
       "      <td>Doctor</td>\n",
       "      <td>6.2</td>\n",
       "      <td>6</td>\n",
       "      <td>60</td>\n",
       "      <td>8</td>\n",
       "      <td>Normal</td>\n",
       "      <td>125/80</td>\n",
       "      <td>75</td>\n",
       "      <td>10000</td>\n",
       "      <td>None</td>\n",
       "    </tr>\n",
       "    <tr>\n",
       "      <th>3</th>\n",
       "      <td>4</td>\n",
       "      <td>Male</td>\n",
       "      <td>28</td>\n",
       "      <td>Sales Representative</td>\n",
       "      <td>5.9</td>\n",
       "      <td>4</td>\n",
       "      <td>30</td>\n",
       "      <td>8</td>\n",
       "      <td>Obese</td>\n",
       "      <td>140/90</td>\n",
       "      <td>85</td>\n",
       "      <td>3000</td>\n",
       "      <td>Sleep Apnea</td>\n",
       "    </tr>\n",
       "    <tr>\n",
       "      <th>4</th>\n",
       "      <td>5</td>\n",
       "      <td>Male</td>\n",
       "      <td>28</td>\n",
       "      <td>Sales Representative</td>\n",
       "      <td>5.9</td>\n",
       "      <td>4</td>\n",
       "      <td>30</td>\n",
       "      <td>8</td>\n",
       "      <td>Obese</td>\n",
       "      <td>140/90</td>\n",
       "      <td>85</td>\n",
       "      <td>3000</td>\n",
       "      <td>Sleep Apnea</td>\n",
       "    </tr>\n",
       "  </tbody>\n",
       "</table>\n",
       "</div>"
      ],
      "text/plain": [
       "   Person ID Gender  Age            Occupation  Sleep Duration  \\\n",
       "0          1   Male   27     Software Engineer             6.1   \n",
       "1          2   Male   28                Doctor             6.2   \n",
       "2          3   Male   28                Doctor             6.2   \n",
       "3          4   Male   28  Sales Representative             5.9   \n",
       "4          5   Male   28  Sales Representative             5.9   \n",
       "\n",
       "   Quality of Sleep  Physical Activity Level  Stress Level BMI Category  \\\n",
       "0                 6                       42             6   Overweight   \n",
       "1                 6                       60             8       Normal   \n",
       "2                 6                       60             8       Normal   \n",
       "3                 4                       30             8        Obese   \n",
       "4                 4                       30             8        Obese   \n",
       "\n",
       "  Blood Pressure  Heart Rate  Daily Steps Sleep Disorder  \n",
       "0         126/83          77         4200           None  \n",
       "1         125/80          75        10000           None  \n",
       "2         125/80          75        10000           None  \n",
       "3         140/90          85         3000    Sleep Apnea  \n",
       "4         140/90          85         3000    Sleep Apnea  "
      ]
     },
     "execution_count": 2,
     "metadata": {},
     "output_type": "execute_result"
    }
   ],
   "source": [
    "data = pd.read_csv('sleep_disorder_data.csv')\n",
    "data.head()"
   ]
  },
  {
   "cell_type": "markdown",
   "id": "7ce9cb92-4b44-45ca-819d-07b9dd2c09f7",
   "metadata": {},
   "source": [
    "**Exercise 2** - Select the columns 'Quality of Sleep', 'Physical Activity Level' and 'Stress Level' as your input data `X` and the column 'Sleep Disorder' as your target `y`"
   ]
  },
  {
   "cell_type": "code",
   "execution_count": 3,
   "id": "dbe95959-5f03-4f79-9303-0a56ea31dda6",
   "metadata": {},
   "outputs": [],
   "source": [
    "X = data[['Quality of Sleep', 'Physical Activity Level', 'Stress Level']].to_numpy()\n",
    "y = data['Sleep Disorder'].to_numpy()"
   ]
  },
  {
   "cell_type": "code",
   "execution_count": 4,
   "id": "8c996ec0-bf7c-4f82-a80b-17de68001bd1",
   "metadata": {},
   "outputs": [
    {
     "data": {
      "text/plain": [
       "array([[ 6, 42,  6],\n",
       "       [ 6, 60,  8],\n",
       "       [ 6, 60,  8],\n",
       "       ...,\n",
       "       [ 9, 75,  3],\n",
       "       [ 9, 75,  3],\n",
       "       [ 9, 75,  3]])"
      ]
     },
     "execution_count": 4,
     "metadata": {},
     "output_type": "execute_result"
    }
   ],
   "source": [
    "X"
   ]
  },
  {
   "cell_type": "markdown",
   "id": "3e09c7d9-2c9b-4f91-96f6-6322a190941a",
   "metadata": {},
   "source": [
    "**Exercise 3** - You should see that you have three different labels: 'Sleep Apnea', 'Insomnia' and 'None'. The first two correspond to sleeping disorders, while the label 'None' refers to the absence of sleep disorder (normal sleep). Convert the labels to numerical values such that each 'None' becomes 0 and 'Sleep Apnea' and 'Insomnia' both become 1. Convert your numpy array to integer data type."
   ]
  },
  {
   "cell_type": "code",
   "execution_count": 5,
   "id": "5ac389ef-edfc-4e64-9ed1-1be33accaaa4",
   "metadata": {},
   "outputs": [],
   "source": [
    "y[y == 'None'] = 0\n",
    "y[y == 'Sleep Apnea'] = 1\n",
    "y[y == 'Insomnia'] = 1\n",
    "y = y.astype(np.int64)"
   ]
  },
  {
   "cell_type": "code",
   "execution_count": 6,
   "id": "8bab3715-189d-4987-bdec-62cb723b7fbb",
   "metadata": {},
   "outputs": [
    {
     "data": {
      "text/plain": [
       "array([0, 0, 0, 1, 1, 1, 1, 0, 0, 0, 0, 0, 0, 0, 0, 0, 1, 1, 1, 0, 0, 0,\n",
       "       0, 0, 0, 0, 0, 0, 0, 0, 1, 1, 0, 0, 0, 0, 0, 0, 0, 0, 0, 0, 0, 0,\n",
       "       0, 0, 0, 0, 0, 1, 0, 0, 0, 0, 0, 0, 0, 0, 0, 0, 0, 0, 0, 0, 0, 0,\n",
       "       0, 1, 0, 0, 0, 0, 0, 0, 0, 0, 0, 0, 0, 0, 1, 1, 0, 0, 0, 0, 0, 0,\n",
       "       0, 0, 0, 0, 0, 1, 1, 0, 0, 0, 0, 0, 0, 0, 0, 1, 1, 1, 0, 0, 0, 0,\n",
       "       0, 0, 0, 0, 0, 0, 0, 0, 0, 0, 0, 0, 0, 0, 0, 0, 0, 0, 0, 0, 0, 0,\n",
       "       0, 0, 0, 0, 0, 0, 0, 0, 0, 0, 0, 0, 1, 1, 1, 1, 0, 0, 0, 0, 0, 0,\n",
       "       0, 0, 0, 0, 0, 0, 0, 0, 0, 0, 0, 1, 0, 0, 0, 0, 0, 0, 0, 0, 0, 0,\n",
       "       0, 1, 0, 0, 0, 0, 0, 0, 1, 1, 1, 1, 1, 1, 1, 1, 1, 1, 1, 1, 1, 1,\n",
       "       1, 1, 1, 1, 1, 0, 0, 0, 0, 0, 0, 0, 0, 0, 0, 0, 0, 0, 0, 0, 1, 1,\n",
       "       1, 1, 1, 1, 1, 1, 1, 1, 1, 1, 1, 1, 1, 1, 1, 1, 1, 1, 1, 1, 1, 1,\n",
       "       1, 1, 1, 1, 1, 1, 0, 0, 1, 1, 1, 1, 1, 1, 1, 1, 1, 1, 1, 0, 0, 0,\n",
       "       1, 1, 1, 0, 1, 1, 1, 1, 1, 1, 1, 1, 1, 1, 1, 0, 0, 1, 1, 1, 1, 1,\n",
       "       1, 1, 1, 1, 1, 1, 1, 1, 1, 1, 1, 1, 0, 0, 0, 0, 0, 1, 1, 1, 1, 1,\n",
       "       1, 1, 1, 1, 0, 0, 0, 1, 0, 0, 0, 0, 0, 0, 0, 0, 0, 0, 0, 0, 0, 0,\n",
       "       0, 0, 0, 0, 0, 0, 0, 0, 0, 1, 1, 0, 0, 0, 1, 1, 1, 1, 1, 1, 1, 1,\n",
       "       1, 1, 1, 1, 1, 1, 0, 0, 1, 1, 1, 1, 1, 1, 1, 1, 1, 1, 1, 1, 1, 1])"
      ]
     },
     "execution_count": 6,
     "metadata": {},
     "output_type": "execute_result"
    }
   ],
   "source": [
    "y"
   ]
  },
  {
   "cell_type": "code",
   "execution_count": 7,
   "id": "ab1e7288-dd03-4b78-9dea-f89a3e3ee09d",
   "metadata": {},
   "outputs": [
    {
     "data": {
      "text/plain": [
       "dtype('int64')"
      ]
     },
     "execution_count": 7,
     "metadata": {},
     "output_type": "execute_result"
    }
   ],
   "source": [
    "y.dtype"
   ]
  },
  {
   "cell_type": "code",
   "execution_count": 8,
   "id": "b96b98d8-3f02-4232-b2a7-b451e2077eea",
   "metadata": {},
   "outputs": [
    {
     "data": {
      "text/plain": [
       "array([[ 6, 42,  6],\n",
       "       [ 6, 60,  8],\n",
       "       [ 6, 60,  8],\n",
       "       ...,\n",
       "       [ 9, 75,  3],\n",
       "       [ 9, 75,  3],\n",
       "       [ 9, 75,  3]])"
      ]
     },
     "execution_count": 8,
     "metadata": {},
     "output_type": "execute_result"
    }
   ],
   "source": [
    "X"
   ]
  },
  {
   "cell_type": "code",
   "execution_count": 9,
   "id": "9fd775be-ef7f-4cdd-b0b9-a478c576d1c1",
   "metadata": {},
   "outputs": [
    {
     "data": {
      "text/plain": [
       "(374, 3)"
      ]
     },
     "execution_count": 9,
     "metadata": {},
     "output_type": "execute_result"
    }
   ],
   "source": [
    "X.shape"
   ]
  },
  {
   "cell_type": "markdown",
   "id": "bbf578ae-1c50-4309-9c99-a10c8604da8d",
   "metadata": {},
   "source": [
    "**Exercise 4** - Standardize the data matrix `X` such that each element in the resulting matrix is the following:\n",
    "\n",
    "\\begin{equation}\n",
    "x_i^j:=\\frac{x_i^j-\\mu^j}{\\sigma^j},\n",
    "\\end{equation}\n",
    "\n",
    "where $x_i^j$ is the $i$th data point in the $j$th column and $\\mu_j$ and $\\sigma_j$ are the mean and standard deviation, respectively, of the $j$th column (note that $\\sigma_j$ refers to the standard deviation of column $j$ of the feature space and is not related to the sigmoid function $\\sigma$)"
   ]
  },
  {
   "cell_type": "code",
   "execution_count": 10,
   "id": "12ca34e7-1ca0-4e40-80e1-520e9752051e",
   "metadata": {},
   "outputs": [
    {
     "data": {
      "text/plain": [
       "array([[1., 2., 3.],\n",
       "       [1., 2., 3.],\n",
       "       [1., 2., 3.],\n",
       "       [1., 2., 3.]])"
      ]
     },
     "execution_count": 10,
     "metadata": {},
     "output_type": "execute_result"
    }
   ],
   "source": [
    "my_matrix = np.ones((4,3))\n",
    "my_matrix * np.array([1,2,3])"
   ]
  },
  {
   "cell_type": "code",
   "execution_count": 11,
   "id": "2adfe05e-c237-4975-a6a3-1bf6dd4b5f30",
   "metadata": {},
   "outputs": [
    {
     "data": {
      "text/plain": [
       "array([[ 6, 42,  6],\n",
       "       [ 6, 60,  8],\n",
       "       [ 6, 60,  8],\n",
       "       ...,\n",
       "       [ 9, 75,  3],\n",
       "       [ 9, 75,  3],\n",
       "       [ 9, 75,  3]])"
      ]
     },
     "execution_count": 11,
     "metadata": {},
     "output_type": "execute_result"
    }
   ],
   "source": [
    "X"
   ]
  },
  {
   "cell_type": "code",
   "execution_count": 12,
   "id": "ace1e9f1-5f0c-4904-b657-7dde74bbff79",
   "metadata": {},
   "outputs": [
    {
     "data": {
      "text/plain": [
       "array([ 7.31283422, 59.17112299,  5.38502674])"
      ]
     },
     "execution_count": 12,
     "metadata": {},
     "output_type": "execute_result"
    }
   ],
   "source": [
    "np.mean(X, axis=0)"
   ]
  },
  {
   "cell_type": "code",
   "execution_count": 13,
   "id": "be7618fa-51c6-48b0-ba39-9422c3984d4f",
   "metadata": {},
   "outputs": [],
   "source": [
    "X_standardized = (X - np.mean(X, axis=0)) / np.std(X, axis=0)"
   ]
  },
  {
   "cell_type": "code",
   "execution_count": 14,
   "id": "b94a28ec-9851-45f1-8e2e-dab9393eb17e",
   "metadata": {},
   "outputs": [
    {
     "data": {
      "text/plain": [
       "array([[ 6, 42,  6],\n",
       "       [ 6, 60,  8],\n",
       "       [ 6, 60,  8],\n",
       "       ...,\n",
       "       [ 9, 75,  3],\n",
       "       [ 9, 75,  3],\n",
       "       [ 9, 75,  3]])"
      ]
     },
     "execution_count": 14,
     "metadata": {},
     "output_type": "execute_result"
    }
   ],
   "source": [
    "X"
   ]
  },
  {
   "cell_type": "code",
   "execution_count": 15,
   "id": "c73cf2ec-fbee-49cf-823b-77462f7b32cc",
   "metadata": {},
   "outputs": [
    {
     "data": {
      "text/plain": [
       "1.2032363618040912e-16"
      ]
     },
     "execution_count": 15,
     "metadata": {},
     "output_type": "execute_result"
    }
   ],
   "source": [
    "X_standardized.mean()"
   ]
  },
  {
   "cell_type": "markdown",
   "id": "8ed6585d-ed43-450d-9777-485c10c59c24",
   "metadata": {},
   "source": [
    "Now it is time to start building the model. Since the elements in the training set are 3 dimensional (we are looking at 3 features: Sleep Quality, Exercise and Stress Level) our single neuron model will have 3 weights and 1 bias.\n",
    "\n",
    "**Exercise 5** - Initialize a matrix of random weights of shape (3,1) and a bias of shape (1,) between -1 and 1, store them in two variables called `weights` and `bias` and print them. Use the random seed 6 for reproducibility."
   ]
  },
  {
   "cell_type": "code",
   "execution_count": 40,
   "id": "345f8c6b-2a94-4885-b099-dd519c091ba8",
   "metadata": {},
   "outputs": [
    {
     "name": "stdout",
     "output_type": "stream",
     "text": [
      "[[ 0.7857203 ]\n",
      " [-0.33604039]\n",
      " [ 0.64245825]]\n",
      "[0.04169663]\n"
     ]
    }
   ],
   "source": [
    "np.random.seed(6)\n",
    "weights = np.random.uniform(-1, 1, (3,1))\n",
    "print(weights)\n",
    "bias = np.random.rand(1)\n",
    "print(bias)"
   ]
  },
  {
   "cell_type": "markdown",
   "id": "19f60470-a35e-4878-ae4a-982ac7216690",
   "metadata": {},
   "source": [
    "The next step is to define the forward function. The output is given by the weighted sum of the inputs plus the bias, which then goes through a sigmoid function to produce the final prediction $\\hat{y}$:\n",
    "\n",
    "\\begin{equation}\n",
    "\\hat{y}=\\sigma(w_1x_1+w_2x_2+w_3x_3+b)\n",
    "\\end{equation}\n",
    "\n",
    "Given an input column vector $\\vec{x}=\\begin{bmatrix}x_1 \\\\ x_2 \\\\ x_3\\end{bmatrix}$, a weight matrix $W=\\begin{bmatrix}w_1 \\\\ w_2 \\\\ w_3\\end{bmatrix}$ and a bias $b$ we can express the linear combination of the weights and inputs plus the bias in matrix form as\n",
    "\n",
    "\\begin{equation}\n",
    "W^T\\vec{x}+b=\\begin{bmatrix}w_1 & w_2 & w_3\\end{bmatrix}\\begin{bmatrix}x_1 \\\\ x_2 \\\\ x_3\\end{bmatrix}+b=w_1x_1+w_2x_2+w_3x_3+b\n",
    "\\end{equation}\n",
    "\n",
    "which gives the following expression for the prediction:\n",
    "\n",
    "\\begin{equation}\n",
    "\\hat{y}=\\sigma(W^T\\vec{x}+b)\n",
    "\\end{equation}\n",
    "\n",
    "In our case, since each column represents a feature and observations are represented by rows, we also need to transpose the input matrix `X`."
   ]
  },
  {
   "cell_type": "markdown",
   "id": "2a9bba5c-7b77-4a85-8171-e49a9905803c",
   "metadata": {},
   "source": [
    "**Exercise 6** - Define a function called `sigmoid` that takes an input `x` and returns the following:\n",
    "\n",
    "\\begin{equation}\n",
    "\\sigma(x)=\\frac{1}{1+e^{-x}}\n",
    "\\end{equation}\n",
    "\n",
    "remember that you can use `np.exp(x)` to raise $e^x$"
   ]
  },
  {
   "cell_type": "code",
   "execution_count": 41,
   "id": "128234f0-e465-46c2-b1a9-89f2de59f9df",
   "metadata": {},
   "outputs": [],
   "source": [
    "def sigmoid(x):\n",
    "    return 1 / (1 + np.exp(-x))"
   ]
  },
  {
   "cell_type": "code",
   "execution_count": 42,
   "id": "5e952986-b21e-4a9c-8449-97d86fb81a0d",
   "metadata": {},
   "outputs": [
    {
     "data": {
      "text/plain": [
       "4.5397868702434395e-05"
      ]
     },
     "execution_count": 42,
     "metadata": {},
     "output_type": "execute_result"
    }
   ],
   "source": [
    "sigmoid(-10)"
   ]
  },
  {
   "cell_type": "markdown",
   "id": "e637ced9-03bf-461b-8d1c-4b025ae5bc63",
   "metadata": {},
   "source": [
    "**Exercise 7** - Define a function called `forward` that takes 3 inputs: the weights, the bias and the data matrix `X` and returns the output of the perceptron:\n",
    "\n",
    "\\begin{equation}\n",
    "\\hat{y}=\\sigma(W^TX+b)\n",
    "\\end{equation}\n",
    "\n",
    "Tip: use the previously defined `sigmoid` function."
   ]
  },
  {
   "cell_type": "code",
   "execution_count": 43,
   "id": "150a3538-9e85-4293-a179-b0ab7fbe9e9d",
   "metadata": {},
   "outputs": [
    {
     "data": {
      "text/plain": [
       "array([[ 6, 42,  6],\n",
       "       [ 6, 60,  8],\n",
       "       [ 6, 60,  8],\n",
       "       ...,\n",
       "       [ 9, 75,  3],\n",
       "       [ 9, 75,  3],\n",
       "       [ 9, 75,  3]])"
      ]
     },
     "execution_count": 43,
     "metadata": {},
     "output_type": "execute_result"
    }
   ],
   "source": [
    "X"
   ]
  },
  {
   "cell_type": "code",
   "execution_count": 44,
   "id": "221101ed-3ff4-41bf-be11-7fc9d4f69544",
   "metadata": {},
   "outputs": [],
   "source": [
    "def forward(weights, bias, X):\n",
    "    return sigmoid(np.dot(weights.T, X.T) + bias)"
   ]
  },
  {
   "cell_type": "markdown",
   "id": "c59c16a4-70d9-44eb-afb8-cf0c84cf6c29",
   "metadata": {},
   "source": [
    "**Exercise 8** - Make an initial prediction with the untrained model using the `forward` function that you just defined. You should visualize two outputs: the plain output and the rounded output, which will be 1 or 0 for each data point. Compare your predictions with the target $y$. How many did you get right?"
   ]
  },
  {
   "cell_type": "code",
   "execution_count": 45,
   "id": "ea9226cf-16ad-4958-9582-7c010cdb5dd4",
   "metadata": {},
   "outputs": [
    {
     "name": "stdout",
     "output_type": "stream",
     "text": [
      "[[0.42045051 0.52831277 0.52831277 0.32813213 0.32813213 0.32813213\n",
      "  0.51846974 0.45098824 0.45098824 0.45098824 0.64519347 0.45098824\n",
      "  0.64519347 0.64519347 0.64519347 0.64519347 0.35815089 0.64519347\n",
      "  0.35815089 0.45098824 0.45098824 0.45098824 0.45098824 0.45098824\n",
      "  0.45098824 0.45098824 0.45098824 0.45098824 0.45098824 0.45098824\n",
      "  0.3769225  0.3769225  0.43427579 0.64519347 0.45098824 0.64519347\n",
      "  0.64519347 0.45098824 0.45098824 0.45098824 0.45098824 0.45098824\n",
      "  0.45098824 0.45098824 0.45098824 0.45098824 0.45098824 0.45098824\n",
      "  0.45098824 0.45098824 0.46447208 0.46447208 0.64519347 0.45098824\n",
      "  0.64519347 0.64519347 0.45098824 0.64519347 0.64519347 0.45098824\n",
      "  0.64519347 0.64519347 0.64519347 0.64519347 0.64519347 0.64519347\n",
      "  0.70359383 0.64519347 0.38932454 0.38932454 0.64519347 0.64519347\n",
      "  0.64519347 0.64519347 0.64519347 0.64519347 0.64519347 0.64519347\n",
      "  0.64519347 0.64519347 0.32104962 0.32104962 0.50154107 0.50154107\n",
      "  0.58428904 0.49446915 0.49446915 0.49446915 0.49446915 0.49446915\n",
      "  0.49446915 0.49446915 0.58428904 0.42143    0.49446915 0.49446915\n",
      "  0.49446915 0.49446915 0.49446915 0.49446915 0.49446915 0.49446915\n",
      "  0.49446915 0.3769225  0.49446915 0.3769225  0.42045051 0.45421379\n",
      "  0.45421379 0.58428904 0.49446915 0.58428904 0.49446915 0.58428904\n",
      "  0.49446915 0.49446915 0.49446915 0.49446915 0.49446915 0.49446915\n",
      "  0.49446915 0.49446915 0.49446915 0.49446915 0.49446915 0.49446915\n",
      "  0.58428904 0.49446915 0.58428904 0.58428904 0.49446915 0.58428904\n",
      "  0.58428904 0.49446915 0.58428904 0.58428904 0.49446915 0.58428904\n",
      "  0.49446915 0.58428904 0.49446915 0.58428904 0.49446915 0.49446915\n",
      "  0.58428904 0.42143    0.58428904 0.35815089 0.55160535 0.48739945\n",
      "  0.48739945 0.58428904 0.58428904 0.58428904 0.58428904 0.58428904\n",
      "  0.58428904 0.58428904 0.58428904 0.58428904 0.58428904 0.68647765\n",
      "  0.68647765 0.46401243 0.46401243 0.46401243 0.63213813 0.53155589\n",
      "  0.53155589 0.46401243 0.46401243 0.46401243 0.46401243 0.46401243\n",
      "  0.46401243 0.46401243 0.46401243 0.49828627 0.46401243 0.46401243\n",
      "  0.46401243 0.46401243 0.46401243 0.46401243 0.49828627 0.49828627\n",
      "  0.3924243  0.49828627 0.3924243  0.49828627 0.3924243  0.49828627\n",
      "  0.49828627 0.49828627 0.49828627 0.49828627 0.49828627 0.49828627\n",
      "  0.49828627 0.49828627 0.49828627 0.46401243 0.46401243 0.49021076\n",
      "  0.43427579 0.46401243 0.46401243 0.46401243 0.46401243 0.46401243\n",
      "  0.46401243 0.46401243 0.46401243 0.46401243 0.46401243 0.46401243\n",
      "  0.46401243 0.46401243 0.46401243 0.49828627 0.3924243  0.49828627\n",
      "  0.49828627 0.49828627 0.3924243  0.49828627 0.3924243  0.49828627\n",
      "  0.3924243  0.49828627 0.3924243  0.49828627 0.3924243  0.49828627\n",
      "  0.3924243  0.49828627 0.49828627 0.3924243  0.49828627 0.49828627\n",
      "  0.3924243  0.49828627 0.49828627 0.3924243  0.49828627 0.3924243\n",
      "  0.49828627 0.65711333 0.49828627 0.49828627 0.62953658 0.62953658\n",
      "  0.3924243  0.3924243  0.3924243  0.3924243  0.3924243  0.3924243\n",
      "  0.3924243  0.3924243  0.3924243  0.3924243  0.3924243  0.44123822\n",
      "  0.40187146 0.40824315 0.40187146 0.40824315 0.40824315 0.40824315\n",
      "  0.40824315 0.40824315 0.40824315 0.40824315 0.40824315 0.40824315\n",
      "  0.46725184 0.46725184 0.40824315 0.6807591  0.40824315 0.40824315\n",
      "  0.40824315 0.40824315 0.40824315 0.40824315 0.40824315 0.40824315\n",
      "  0.40824315 0.40824315 0.40824315 0.40824315 0.40824315 0.40824315\n",
      "  0.40824315 0.40824315 0.40824315 0.40824315 0.6807591  0.6807591\n",
      "  0.6807591  0.6807591  0.53155589 0.40824315 0.40824315 0.40824315\n",
      "  0.65711333 0.65711333 0.65711333 0.65711333 0.65711333 0.65711333\n",
      "  0.6807591  0.6807591  0.6807591  0.6807591  0.6807591  0.6807591\n",
      "  0.6807591  0.6807591  0.6807591  0.6807591  0.6807591  0.6807591\n",
      "  0.6807591  0.6807591  0.6807591  0.6807591  0.6807591  0.6807591\n",
      "  0.6807591  0.6807591  0.6807591  0.6807591  0.6807591  0.6807591\n",
      "  0.6807591  0.6807591  0.6807591  0.5969769  0.5969769  0.44721048\n",
      "  0.44721048 0.50758808 0.50758808 0.50758808 0.50758808 0.50758808\n",
      "  0.50758808 0.50758808 0.50758808 0.50758808 0.50758808 0.50758808\n",
      "  0.50758808 0.50758808 0.50758808 0.50758808 0.50758808 0.50758808\n",
      "  0.50758808 0.50758808 0.50758808 0.50758808 0.50758808 0.50758808\n",
      "  0.50758808 0.50758808 0.50758808 0.50758808 0.50758808 0.50758808\n",
      "  0.50758808 0.50758808]]\n"
     ]
    }
   ],
   "source": [
    "y_pred = forward(weights, bias, X_standardized)\n",
    "print(y_pred)"
   ]
  },
  {
   "cell_type": "code",
   "execution_count": 46,
   "id": "01af3e29-415a-4b40-ab0a-b317d98d24c2",
   "metadata": {},
   "outputs": [
    {
     "name": "stdout",
     "output_type": "stream",
     "text": [
      "[[0. 1. 1. 0. 0. 0. 1. 0. 0. 0. 1. 0. 1. 1. 1. 1. 0. 1. 0. 0. 0. 0. 0. 0.\n",
      "  0. 0. 0. 0. 0. 0. 0. 0. 0. 1. 0. 1. 1. 0. 0. 0. 0. 0. 0. 0. 0. 0. 0. 0.\n",
      "  0. 0. 0. 0. 1. 0. 1. 1. 0. 1. 1. 0. 1. 1. 1. 1. 1. 1. 1. 1. 0. 0. 1. 1.\n",
      "  1. 1. 1. 1. 1. 1. 1. 1. 0. 0. 1. 1. 1. 0. 0. 0. 0. 0. 0. 0. 1. 0. 0. 0.\n",
      "  0. 0. 0. 0. 0. 0. 0. 0. 0. 0. 0. 0. 0. 1. 0. 1. 0. 1. 0. 0. 0. 0. 0. 0.\n",
      "  0. 0. 0. 0. 0. 0. 1. 0. 1. 1. 0. 1. 1. 0. 1. 1. 0. 1. 0. 1. 0. 1. 0. 0.\n",
      "  1. 0. 1. 0. 1. 0. 0. 1. 1. 1. 1. 1. 1. 1. 1. 1. 1. 1. 1. 0. 0. 0. 1. 1.\n",
      "  1. 0. 0. 0. 0. 0. 0. 0. 0. 0. 0. 0. 0. 0. 0. 0. 0. 0. 0. 0. 0. 0. 0. 0.\n",
      "  0. 0. 0. 0. 0. 0. 0. 0. 0. 0. 0. 0. 0. 0. 0. 0. 0. 0. 0. 0. 0. 0. 0. 0.\n",
      "  0. 0. 0. 0. 0. 0. 0. 0. 0. 0. 0. 0. 0. 0. 0. 0. 0. 0. 0. 0. 0. 0. 0. 0.\n",
      "  0. 0. 0. 0. 0. 0. 0. 1. 0. 0. 1. 1. 0. 0. 0. 0. 0. 0. 0. 0. 0. 0. 0. 0.\n",
      "  0. 0. 0. 0. 0. 0. 0. 0. 0. 0. 0. 0. 0. 0. 0. 1. 0. 0. 0. 0. 0. 0. 0. 0.\n",
      "  0. 0. 0. 0. 0. 0. 0. 0. 0. 0. 1. 1. 1. 1. 1. 0. 0. 0. 1. 1. 1. 1. 1. 1.\n",
      "  1. 1. 1. 1. 1. 1. 1. 1. 1. 1. 1. 1. 1. 1. 1. 1. 1. 1. 1. 1. 1. 1. 1. 1.\n",
      "  1. 1. 1. 1. 1. 0. 0. 1. 1. 1. 1. 1. 1. 1. 1. 1. 1. 1. 1. 1. 1. 1. 1. 1.\n",
      "  1. 1. 1. 1. 1. 1. 1. 1. 1. 1. 1. 1. 1. 1.]]\n"
     ]
    }
   ],
   "source": [
    "print(np.round(y_pred))"
   ]
  },
  {
   "cell_type": "code",
   "execution_count": 47,
   "id": "b29b993d-05ba-48da-b42b-ec85025edf97",
   "metadata": {},
   "outputs": [
    {
     "data": {
      "text/plain": [
       "(1, 374)"
      ]
     },
     "execution_count": 47,
     "metadata": {},
     "output_type": "execute_result"
    }
   ],
   "source": [
    "y_pred.shape"
   ]
  },
  {
   "cell_type": "code",
   "execution_count": 48,
   "id": "35fb81d9-a5c8-49c0-98ed-828f72a09a9b",
   "metadata": {},
   "outputs": [
    {
     "data": {
      "text/plain": [
       "0.0"
      ]
     },
     "execution_count": 48,
     "metadata": {},
     "output_type": "execute_result"
    }
   ],
   "source": [
    "(y == y_pred).sum() / len(y)"
   ]
  },
  {
   "cell_type": "markdown",
   "id": "874f42b0-8a46-438c-83f7-0fa76a5c763e",
   "metadata": {},
   "source": [
    "**Exercise 9** - Define a function called `mse_loss` that calculates the mean squared error:\n",
    "\n",
    "\\begin{equation}\n",
    "L=MSE=\\frac{1}{n}\\sum(y-\\hat{y})^2\n",
    "\\end{equation}"
   ]
  },
  {
   "cell_type": "code",
   "execution_count": 49,
   "id": "c62871d7-d6e1-4b6e-a5a6-0f6b90928be2",
   "metadata": {},
   "outputs": [
    {
     "name": "stdout",
     "output_type": "stream",
     "text": [
      "0.29649905848342456\n"
     ]
    }
   ],
   "source": [
    "def mse_loss(y, y_pred):\n",
    "    return np.mean((y - y_pred) ** 2)\n",
    "\n",
    "print(mse_loss(y, y_pred))"
   ]
  },
  {
   "cell_type": "markdown",
   "id": "529f0883-3685-4253-8ec7-6f022bbc31be",
   "metadata": {},
   "source": [
    "Before moving on to the final training loop, we need to define a function that updates the weights according to the value of the gradient, which gives us information about which direction we have to move in order to minimize the loss function. The derivative of the sigmoid function is $\\sigma(z)'=\\sigma(z)(1-\\sigma(z))$ and the gradient of the loss function $L$ for some input vector $\\vec{x}$ and target $y$ is given by \n",
    "\n",
    "\\begin{equation}\n",
    "\\nabla L(x,y)=\\begin{bmatrix}\n",
    "           \\frac{\\partial L}{\\partial w_1} \\\\\n",
    "           \\frac{\\partial L}{\\partial w_2} \\\\\n",
    "           \\frac{\\partial L}{\\partial w_3} \\\\\n",
    "           \\frac{\\partial L}{\\partial b} \n",
    "         \\end{bmatrix}=\\begin{bmatrix}\n",
    "         -2x_1\\left[\\left(1-\\sigma(x)\\right)\\sigma(x)\\right]\\left[y-\\sigma(x)\\right] \\\\\n",
    "         -2x_2\\left[\\left(1-\\sigma(x)\\right)\\sigma(x)\\right]\\left[y-\\sigma(x)\\right] \\\\\n",
    "         -2x_3\\left[\\left(1-\\sigma(x)\\right)\\sigma(x)\\right]\\left[y-\\sigma(x)\\right] \\\\\n",
    "         -2\\left[\\left(1-\\sigma(x)\\right)\\sigma(x)\\right]\\left[y-\\sigma(x)\\right]\n",
    "         \\end{bmatrix}\n",
    "         \\end{equation}"
   ]
  },
  {
   "cell_type": "markdown",
   "id": "85cd16ad-bd6f-4b80-bc1c-e3cf02c35730",
   "metadata": {},
   "source": [
    "**Exercise 10** - Define a function called `compute_gradient` that takes as input the weights, bias, input data $X$ and target $y$ and returns the gradient of the loss function $L$ as a tuple: the first value is an array with three entries consisting of the derivative of the loss function with respect to each weight and the second value is the derivative of the loss function with respect to the bias."
   ]
  },
  {
   "cell_type": "code",
   "execution_count": 50,
   "id": "4898df88-ff1d-4623-a9fc-36b1198b8c24",
   "metadata": {},
   "outputs": [
    {
     "data": {
      "text/plain": [
       "array([[ 0.7857203 ],\n",
       "       [-0.33604039],\n",
       "       [ 0.64245825]])"
      ]
     },
     "execution_count": 50,
     "metadata": {},
     "output_type": "execute_result"
    }
   ],
   "source": [
    "weights"
   ]
  },
  {
   "cell_type": "code",
   "execution_count": 51,
   "id": "ed0db36f-3c17-40aa-9514-0e80cd81c282",
   "metadata": {},
   "outputs": [
    {
     "data": {
      "text/plain": [
       "array([0.04169663])"
      ]
     },
     "execution_count": 51,
     "metadata": {},
     "output_type": "execute_result"
    }
   ],
   "source": [
    "bias"
   ]
  },
  {
   "cell_type": "code",
   "execution_count": 52,
   "id": "62ef8499-0b67-4818-b3f9-c98530ba8faa",
   "metadata": {},
   "outputs": [],
   "source": [
    "output = forward(weights, bias, X)"
   ]
  },
  {
   "cell_type": "code",
   "execution_count": 53,
   "id": "2bd62be2-f7ad-418f-ab70-021fffee7536",
   "metadata": {},
   "outputs": [],
   "source": [
    "grad = -2 * ((1 - output) * output) * (y - output)"
   ]
  },
  {
   "cell_type": "code",
   "execution_count": 54,
   "id": "71758e0c-5f96-48dc-af06-c8dbbe531e54",
   "metadata": {},
   "outputs": [
    {
     "data": {
      "text/plain": [
       "array([[ 0.98274862, -9.69486611,  2.93700094]])"
      ]
     },
     "execution_count": 54,
     "metadata": {},
     "output_type": "execute_result"
    }
   ],
   "source": [
    "np.dot(grad, X_standardized)"
   ]
  },
  {
   "cell_type": "code",
   "execution_count": 55,
   "id": "a5037e97-ea90-4db4-ad6d-1acd0936bf5c",
   "metadata": {},
   "outputs": [],
   "source": [
    "def compute_gradient(weights, bias, X, y):\n",
    "    output = forward(weights, bias, X)\n",
    "    grad = -2 * ((1 - output) * output) * (y - output)\n",
    "    weights_grad = np.dot(grad, X).T\n",
    "    bias_grad = np.mean(grad)\n",
    "    return weights_grad, bias_grad"
   ]
  },
  {
   "cell_type": "code",
   "execution_count": 56,
   "id": "07fef182-4545-4938-9e1a-678b3004abec",
   "metadata": {},
   "outputs": [
    {
     "data": {
      "text/plain": [
       "(array([[ 32.56511072],\n",
       "        [-13.20803254],\n",
       "        [-17.67080887]]),\n",
       " 0.043522592864611916)"
      ]
     },
     "execution_count": 56,
     "metadata": {},
     "output_type": "execute_result"
    }
   ],
   "source": [
    "compute_gradient(weights, bias, X_standardized, y)"
   ]
  },
  {
   "cell_type": "markdown",
   "id": "a58ae12b-89eb-4ecd-ac79-81c61fd8d073",
   "metadata": {},
   "source": [
    "Finally, we need to define the training loop. At each step, we will use `X` as the input and `y` as the target that we will compare to the output, and we will update the weights such that the error decreases.\n",
    "\n",
    "**Exercise 11** - Define a training loop with 30 epochs and learning rate $\\alpha=0.1$. Use the previously defined `compute_gradient` function and update the weights accordingly. At each step, print the loss and store it in a list."
   ]
  },
  {
   "cell_type": "code",
   "execution_count": 57,
   "id": "6173a3a5-bdc1-47d5-bdfd-a2421e686441",
   "metadata": {},
   "outputs": [],
   "source": [
    "learning_rate = 0.1\n",
    "loss_per_epoch = []\n",
    "\n",
    "for epoch in range(100):\n",
    "    output = forward(weights, bias, X_standardized)\n",
    "    loss = mse_loss(y, output)\n",
    "    loss_per_epoch.append(loss)\n",
    "    weights_gradient, bias_gradient = (compute_gradient(\n",
    "        weights, bias, X_standardized, y\n",
    "    ))\n",
    "    weights -= learning_rate * weights_gradient\n",
    "    bias -= learning_rate * bias_gradient\n",
    "\n",
    "output = forward(weights, bias, X_standardized)\n",
    "loss = mse_loss(y, output)\n",
    "loss_per_epoch.append(loss)"
   ]
  },
  {
   "cell_type": "markdown",
   "id": "f8d6487a-24c4-43e7-ac92-28c0b34a726e",
   "metadata": {},
   "source": [
    "**Exercise 12** - Plot the loss per epoch. Is the perceptron learning from the training data?"
   ]
  },
  {
   "cell_type": "code",
   "execution_count": 58,
   "id": "8dc12b0b-4dd6-4e91-b72a-1fb120928f55",
   "metadata": {},
   "outputs": [
    {
     "data": {
      "text/plain": [
       "Text(0, 0.5, 'MSE Loss')"
      ]
     },
     "execution_count": 58,
     "metadata": {},
     "output_type": "execute_result"
    },
    {
     "data": {
      "image/png": "[encoded data removed]",
      "text/plain": [
       "<Figure size 432x288 with 1 Axes>"
      ]
     },
     "metadata": {
      "needs_background": "light"
     },
     "output_type": "display_data"
    }
   ],
   "source": [
    "plt.plot(loss_per_epoch)\n",
    "plt.xlabel('epoch', fontsize=14)\n",
    "plt.ylabel('MSE Loss', fontsize=14)"
   ]
  },
  {
   "cell_type": "markdown",
   "id": "8ff4f608-677a-4008-9ffd-344c8ca8551b",
   "metadata": {},
   "source": [
    "**Exercise 13** - Print the final weights matrix and the bias. How do they compare with the initial weights and bias from exercise 4? Which features are positively correlated and which ones negatively correlated with the presence of a sleep disorder?"
   ]
  },
  {
   "cell_type": "code",
   "execution_count": 59,
   "id": "79d629a5-70c7-421b-a619-7bead2231286",
   "metadata": {},
   "outputs": [
    {
     "name": "stdout",
     "output_type": "stream",
     "text": [
      "[[-6.13173198]\n",
      " [-4.4739929 ]\n",
      " [ 1.21437532]]\n"
     ]
    }
   ],
   "source": [
    "print(weights)"
   ]
  },
  {
   "cell_type": "code",
   "execution_count": 60,
   "id": "dd4b930a-4c16-41c1-b11b-cb14a770cd6f",
   "metadata": {},
   "outputs": [
    {
     "name": "stdout",
     "output_type": "stream",
     "text": [
      "[-0.03063533]\n"
     ]
    }
   ],
   "source": [
    "print(bias)"
   ]
  },
  {
   "cell_type": "markdown",
   "id": "b802f8b0-1a67-4e63-b658-0418626dc8ad",
   "metadata": {},
   "source": [
    "**Exercise 14** - Make a final prediction with the trained model and compare it to the target $y$. How many of your predictions are correct? What is the accuracy of your model?"
   ]
  },
  {
   "cell_type": "code",
   "execution_count": 61,
   "id": "35dc80e2-73f3-4698-8d34-7f0f0ce52073",
   "metadata": {},
   "outputs": [
    {
     "name": "stdout",
     "output_type": "stream",
     "text": [
      "0.5855614973262032\n"
     ]
    }
   ],
   "source": [
    "y_pred = np.round(forward(weights, bias, X))\n",
    "accuracy = (y_pred == y).sum() / len(y)\n",
    "print(accuracy)"
   ]
  },
  {
   "cell_type": "code",
   "execution_count": null,
   "id": "41cd77d4-8d7e-43ab-a994-5d7f96622b85",
   "metadata": {},
   "outputs": [],
   "source": []
  }
 ],
 "metadata": {
  "kernelspec": {
   "display_name": "Python 3 (ipykernel)",
   "language": "python",
   "name": "python3"
  },
  "language_info": {
   "codemirror_mode": {
    "name": "ipython",
    "version": 3
   },
   "file_extension": ".py",
   "mimetype": "text/x-python",
   "name": "python",
   "nbconvert_exporter": "python",
   "pygments_lexer": "ipython3",
   "version": "3.8.10"
  }
 },
 "nbformat": 4,
 "nbformat_minor": 5
}
