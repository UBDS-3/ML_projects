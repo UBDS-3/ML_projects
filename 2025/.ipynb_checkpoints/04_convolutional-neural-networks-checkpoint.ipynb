{
 "cells": [
  {
   "cell_type": "markdown",
   "id": "c3f9b863-bd3b-4b4c-abb6-c03097cd3c20",
   "metadata": {},
   "source": [
    "<h4>Image classification with Convolutional Neural Networks</h4>"
   ]
  },
  {
   "cell_type": "markdown",
   "id": "39292b1c-ef0e-4819-a2f6-eb1b967fccaf",
   "metadata": {},
   "source": [
    "**Download the blood cell dataset**\n",
    "Go to https://www.kaggle.com/datasets/paultimothymooney/blood-cells and download the dataset. The link includes a description explaining the context and content of the dataset.\n",
    "\n",
    "Inside the downloaded folder you have two directories: dataset-master and dataset2-master. Inside dataset2-master you have another folder called dataset2-master which contains the images and labels inside. We will ignore the labels file for now.\n",
    "\n",
    "To load a file that is located in a different folder we need to give the path to that file. From the root of the dataset the relative path is 'dataset2-master/dataset2-master/labels.csv'. If we are one folder above then the relative path is 'blood-cell-dataset/dataset2-master/dataset2-master/labels.csv'. Giving the relative path in string format might be problematic, since the directory separator in windows is different than in mac or linux (\\ vs /). To avoid problems we will use the python built-in library `os`, which stands for operating system. We will use two different `os` methods:"
   ]
  },
  {
   "cell_type": "code",
   "execution_count": 1,
   "id": "008b8d71-b6d3-4ffe-a692-15732e15cf78",
   "metadata": {},
   "outputs": [
    {
     "name": "stdout",
     "output_type": "stream",
     "text": [
      "blood-cell-dataset/dataset2-master/dataset2-master/images/TRAIN\n"
     ]
    }
   ],
   "source": [
    "import os\n",
    "\n",
    "path_to_train = os.path.join('blood-cell-dataset','dataset2-master', 'dataset2-master', 'images', 'TRAIN')\n",
    "print(path_to_train)"
   ]
  },
  {
   "cell_type": "markdown",
   "id": "e3e02d1e-a57b-4ebf-b23f-4569c12ed46d",
   "metadata": {},
   "source": [
    "We can use `os.listdir` to list all the files inside a folder"
   ]
  },
  {
   "cell_type": "code",
   "execution_count": 2,
   "id": "177a4225-a212-4522-b4d3-caba76cecf0b",
   "metadata": {},
   "outputs": [
    {
     "name": "stdout",
     "output_type": "stream",
     "text": [
      "00_introduction_to_numpy.ipynb          04_convolutional-neural-networks.ipynb\n",
      "01_ensemble_methods.ipynb               PCA.png\n",
      "02_NN-from-scratch.ipynb                \u001b[34mdata\u001b[m\u001b[m/\n",
      "03_MNIST-classification.ipynb\n"
     ]
    }
   ],
   "source": [
    "ls"
   ]
  },
  {
   "cell_type": "code",
   "execution_count": 3,
   "id": "2ce1a524-0c83-4201-8642-8f0b2f4d0db9",
   "metadata": {},
   "outputs": [
    {
     "ename": "FileNotFoundError",
     "evalue": "[Errno 2] No such file or directory: 'blood-cell-dataset/dataset2-master/dataset2-master/images/TRAIN/EOSINOPHIL'",
     "output_type": "error",
     "traceback": [
      "\u001b[0;31m---------------------------------------------------------------------------\u001b[0m",
      "\u001b[0;31mFileNotFoundError\u001b[0m                         Traceback (most recent call last)",
      "Input \u001b[0;32mIn [3]\u001b[0m, in \u001b[0;36m<cell line: 2>\u001b[0;34m()\u001b[0m\n\u001b[1;32m      1\u001b[0m cell_type \u001b[38;5;241m=\u001b[39m os\u001b[38;5;241m.\u001b[39mpath\u001b[38;5;241m.\u001b[39mjoin(path_to_train, \u001b[38;5;124m'\u001b[39m\u001b[38;5;124mEOSINOPHIL\u001b[39m\u001b[38;5;124m'\u001b[39m)\n\u001b[0;32m----> 2\u001b[0m \u001b[38;5;28;01mfor\u001b[39;00m image_path \u001b[38;5;129;01min\u001b[39;00m \u001b[43mos\u001b[49m\u001b[38;5;241;43m.\u001b[39;49m\u001b[43mlistdir\u001b[49m\u001b[43m(\u001b[49m\u001b[43mcell_type\u001b[49m\u001b[43m)\u001b[49m:\n\u001b[1;32m      3\u001b[0m     \u001b[38;5;28mprint\u001b[39m(image_path)\n\u001b[1;32m      4\u001b[0m     \u001b[38;5;28;01mbreak\u001b[39;00m\n",
      "\u001b[0;31mFileNotFoundError\u001b[0m: [Errno 2] No such file or directory: 'blood-cell-dataset/dataset2-master/dataset2-master/images/TRAIN/EOSINOPHIL'"
     ]
    }
   ],
   "source": [
    "cell_type = os.path.join(path_to_train, 'EOSINOPHIL')\n",
    "for image_path in os.listdir(cell_type):\n",
    "    print(image_path)\n",
    "    break # we break because we would get too many images"
   ]
  },
  {
   "cell_type": "markdown",
   "id": "774b7488-9182-4cf5-b1c5-2914c4ebd1ce",
   "metadata": {},
   "source": [
    "Inside the images directory you have 3 directories: TEST, TEST_SIMPLE and TRAIN. We will ignore the TEST_SIMPLE for now and use the images in the TEST and TRAIN directories. Inside each of the directories you have new directories with the cell types: EOSINOPHIL, LYMPHOCYTE, MONOCYTE, NEUTROPHIL. We will use python image library (PIL) to load the images. To load an image we use im = Image.open(image_path), which we can then concert to a numpy array with np.array(im).\n",
    "\n",
    "Using the lists `splits` and `cell_types`, create four lists: One with the images of the training set (X_train), in which each element will be a (HxWx3) array, one with the labels of the training set (y_train) with the cell type names, and the same for X_test and y_test"
   ]
  },
  {
   "cell_type": "code",
   "execution_count": 4,
   "id": "21bcf62f-6640-409c-b178-a372f129a0ff",
   "metadata": {},
   "outputs": [
    {
     "ename": "FileNotFoundError",
     "evalue": "[Errno 2] No such file or directory: 'blood-cell-dataset/dataset2-master/dataset2-master/images/TRAIN/EOSINOPHIL'",
     "output_type": "error",
     "traceback": [
      "\u001b[0;31m---------------------------------------------------------------------------\u001b[0m",
      "\u001b[0;31mFileNotFoundError\u001b[0m                         Traceback (most recent call last)",
      "Input \u001b[0;32mIn [4]\u001b[0m, in \u001b[0;36m<cell line: 11>\u001b[0;34m()\u001b[0m\n\u001b[1;32m     13\u001b[0m \u001b[38;5;28;01mfor\u001b[39;00m cell_type \u001b[38;5;129;01min\u001b[39;00m cell_types:\n\u001b[1;32m     14\u001b[0m     cell_type_path \u001b[38;5;241m=\u001b[39m os\u001b[38;5;241m.\u001b[39mpath\u001b[38;5;241m.\u001b[39mjoin(split_path, cell_type)\n\u001b[0;32m---> 15\u001b[0m     \u001b[38;5;28;01mfor\u001b[39;00m image \u001b[38;5;129;01min\u001b[39;00m \u001b[43mos\u001b[49m\u001b[38;5;241;43m.\u001b[39;49m\u001b[43mlistdir\u001b[49m\u001b[43m(\u001b[49m\u001b[43mcell_type_path\u001b[49m\u001b[43m)\u001b[49m:\n\u001b[1;32m     16\u001b[0m         \u001b[38;5;28;01mif\u001b[39;00m image\u001b[38;5;241m.\u001b[39mendswith(\u001b[38;5;124m'\u001b[39m\u001b[38;5;124m.jpeg\u001b[39m\u001b[38;5;124m'\u001b[39m):\n\u001b[1;32m     17\u001b[0m             image_path \u001b[38;5;241m=\u001b[39m os\u001b[38;5;241m.\u001b[39mpath\u001b[38;5;241m.\u001b[39mjoin(cell_type_path, image)\n",
      "\u001b[0;31mFileNotFoundError\u001b[0m: [Errno 2] No such file or directory: 'blood-cell-dataset/dataset2-master/dataset2-master/images/TRAIN/EOSINOPHIL'"
     ]
    }
   ],
   "source": [
    "import numpy as np\n",
    "from PIL import Image\n",
    "\n",
    "splits = ['TRAIN', 'TEST']\n",
    "cell_types = ['EOSINOPHIL', 'LYMPHOCYTE', 'MONOCYTE', 'NEUTROPHIL']\n",
    "\n",
    "path_to_images = os.path.join('blood-cell-dataset','dataset2-master', 'dataset2-master', 'images') # write this path\n",
    "\n",
    "X_train, X_test, y_train, y_test = [], [], [], []\n",
    "\n",
    "for split in splits:\n",
    "    split_path = os.path.join(path_to_images, split)\n",
    "    for cell_type in cell_types:\n",
    "        cell_type_path = os.path.join(split_path, cell_type)\n",
    "        for image in os.listdir(cell_type_path):\n",
    "            if image.endswith('.jpeg'):\n",
    "                image_path = os.path.join(cell_type_path, image)\n",
    "                im = np.array(Image.open(image_path))\n",
    "                if split == 'TRAIN':\n",
    "                    X_train.append(im)\n",
    "                    y_train.append(cell_type)\n",
    "                if split == 'TEST':\n",
    "                    X_test.append(im)\n",
    "                    y_test.append(cell_type)"
   ]
  },
  {
   "cell_type": "markdown",
   "id": "74598a28-6089-475d-b75f-c6b0834bec99",
   "metadata": {},
   "source": [
    "Stack all the images in a single numpy array. The shape of the array must be: (n_observations, height, width, n_channels). Use np.stack() to stack the images along the first dimension."
   ]
  },
  {
   "cell_type": "code",
   "execution_count": 5,
   "id": "56411e5b-275d-4a6b-b3f8-6b72a84eb977",
   "metadata": {},
   "outputs": [
    {
     "data": {
      "text/plain": [
       "(240, 320, 3)"
      ]
     },
     "execution_count": 5,
     "metadata": {},
     "output_type": "execute_result"
    }
   ],
   "source": [
    "im.shape"
   ]
  },
  {
   "cell_type": "code",
   "execution_count": 6,
   "id": "f511b8fa-0f0d-4848-85f9-963df1a53cde",
   "metadata": {},
   "outputs": [],
   "source": [
    "X_train = np.stack(X_train).astype('float32')"
   ]
  },
  {
   "cell_type": "code",
   "execution_count": 7,
   "id": "390c5a64-27a3-4d16-8152-23e2dcdac2f5",
   "metadata": {},
   "outputs": [],
   "source": [
    "# X_test = np.stack(X_test).astype('float32')"
   ]
  },
  {
   "cell_type": "code",
   "execution_count": 8,
   "id": "d2f255da-9b24-4620-978c-dc27dc83308f",
   "metadata": {},
   "outputs": [],
   "source": [
    "# your code goes here"
   ]
  },
  {
   "cell_type": "markdown",
   "id": "25cfe516-8ac2-46b5-8f18-a1c093fa4f77",
   "metadata": {},
   "source": [
    "Normalize the images such that their maximum value is 1. Visualize the values of your images (max, min values) if you have any doubts about how to normalize them"
   ]
  },
  {
   "cell_type": "code",
   "execution_count": 9,
   "id": "69de56f0-ba01-42f2-9300-115eaf11a618",
   "metadata": {},
   "outputs": [],
   "source": [
    "# your code goes here"
   ]
  },
  {
   "cell_type": "markdown",
   "id": "eb271e7c-1194-4eee-97d3-c0e82a256fd3",
   "metadata": {},
   "source": [
    "After this step, your X_train and X_test dimensions should be: (n_observations, height, width, n_channels). The y_train and y_test should be a vector with (n_observations,) shape. Check the shape of your Xs and ys to make sure that you loaded the data correctly"
   ]
  },
  {
   "cell_type": "markdown",
   "id": "7836f1a9-3990-450d-a018-e1f18c667462",
   "metadata": {},
   "source": [
    "Use matplotlib's `.imshow` method to visualize the first image in the training set."
   ]
  },
  {
   "cell_type": "code",
   "execution_count": 10,
   "id": "c48d4bf1-6701-4ee3-a6a8-8e6dbb7e0c6d",
   "metadata": {},
   "outputs": [],
   "source": [
    "import matplotlib.pyplot as plt\n",
    "\n",
    "# your code goes here"
   ]
  },
  {
   "cell_type": "markdown",
   "id": "ff78cc30-8bdb-4a03-be55-fcb126d28298",
   "metadata": {},
   "source": [
    "Apply a sepia filter to the first image of the training set and visualize it. Remember to convert it to np.unit8() before plotting it. Use np.dot to multiply the image with the transpose of the sepia filter."
   ]
  },
  {
   "cell_type": "code",
   "execution_count": 11,
   "id": "38ba4c87-df36-4824-83f9-3e9d592e01c0",
   "metadata": {},
   "outputs": [],
   "source": [
    "sepia_filter = np.array([[.393, .769, .189],\n",
    "                         [.349, .686, .168],\n",
    "                         [.272, .534, .131]])\n",
    "\n",
    "# your code goes here"
   ]
  },
  {
   "cell_type": "markdown",
   "id": "5e3f1f1f-c2e0-4097-a8b2-6ac8a9fb729f",
   "metadata": {},
   "source": [
    "Select one of the channels (R, G, B) and apply an edge detection filter. Using scipy's `convolve2d` function. Read the documentation https://docs.scipy.org/doc/scipy/reference/generated/scipy.signal.convolve2d.html if you have doubts about how to use it."
   ]
  },
  {
   "cell_type": "code",
   "execution_count": 12,
   "id": "b9df9e28-bb09-4956-b423-b67c74abd55e",
   "metadata": {},
   "outputs": [],
   "source": [
    "from scipy.signal import convolve2d\n",
    "\n",
    "# your code goes here"
   ]
  },
  {
   "cell_type": "markdown",
   "id": "e9139e80-28d4-4323-b923-15d1b6d85dd6",
   "metadata": {},
   "source": [
    "<h4> Neural Network </h4>"
   ]
  },
  {
   "cell_type": "markdown",
   "id": "ec2cd207-d9a2-4de4-a1d3-ebcd5ca17eac",
   "metadata": {
    "tags": []
   },
   "source": [
    "Build a convolutional neural network in keras for image classification. Your task is to classify the red blood cell images in different cell types. Use the X_train, y_train, X_test and y_test that you loaded before. There is flexibility in the structure, loss function and hyperparameters of your network. Make sure to monitor the accuracy as you train so use metrics=['accuracy'] when you compile your model."
   ]
  },
  {
   "cell_type": "code",
   "execution_count": 13,
   "id": "44599fbd-6528-4765-85c1-1005a8e16b3f",
   "metadata": {
    "tags": []
   },
   "outputs": [
    {
     "name": "stdout",
     "output_type": "stream",
     "text": [
      "\n"
     ]
    }
   ],
   "source": [
    "from keras.models import Sequential\n",
    "import keras.layers as layers\n",
    "from keras.layers import Dense, Conv2D\n",
    "\n",
    "# your code goes here\n",
    "model = Sequential()\n",
    "\n",
    "model.add(Conv2D(kernel_size=(5,5),\n",
    "                ))"
   ]
  },
  {
   "cell_type": "markdown",
   "id": "3c727c82-0360-49e3-96e9-5c9171d7d99f",
   "metadata": {},
   "source": [
    "Visualize the structure of your model with `model.summary()`:"
   ]
  },
  {
   "cell_type": "code",
   "execution_count": 14,
   "id": "b0062188-6f5c-4afd-8992-8657a8314d33",
   "metadata": {},
   "outputs": [],
   "source": [
    "# your code goes here"
   ]
  },
  {
   "cell_type": "markdown",
   "id": "ea5f65f0-cb20-4b63-9061-7c7e18986e2e",
   "metadata": {},
   "source": [
    "Train the network and monitor the training process. With the history that you stored, use the following function to plot the training curve:"
   ]
  },
  {
   "cell_type": "code",
   "execution_count": 15,
   "id": "7b09221a-e985-4262-b1e4-56e07072917b",
   "metadata": {},
   "outputs": [],
   "source": [
    "def plot_loss_curves(history):\n",
    "    loss = history.history['loss']\n",
    "    val_loss = history.history['val_loss']\n",
    "\n",
    "    accuracy = history.history['accuracy']\n",
    "    val_accuracy = history.history['val_accuracy']\n",
    "\n",
    "    epochs = range(len(history.history['loss']))\n",
    "\n",
    "    plt.plot(epochs, loss, label='training_loss')\n",
    "    plt.plot(epochs, val_loss, label='val_loss')\n",
    "    plt.title('loss')\n",
    "    plt.xlabel('Epochs')\n",
    "    plt.legend()\n",
    "\n",
    "    plt.figure()\n",
    "    plt.plot(epochs, accuracy, label='training_accuracy')\n",
    "    plt.plot(epochs, val_accuracy, label='val_accuracy')\n",
    "    plt.title('Accuracy')\n",
    "    plt.xlabel('Epochs')\n",
    "    plt.legend()\n",
    "    \n",
    "# your code goes here"
   ]
  },
  {
   "cell_type": "markdown",
   "id": "94d14b30-a337-4fcc-8cb2-a3e73f7dff53",
   "metadata": {},
   "source": [
    "Evaluate your network. Compute the accuracy and plot some of your predictions and results. Use `print` and matplotlib's `show` function"
   ]
  },
  {
   "cell_type": "code",
   "execution_count": 16,
   "id": "17499db9-ee01-47e1-9cc3-2e6cf1d16df9",
   "metadata": {},
   "outputs": [],
   "source": [
    "# your code goes here"
   ]
  },
  {
   "cell_type": "markdown",
   "id": "4a3e7819-a57b-4a4c-b511-da2bd82227c4",
   "metadata": {},
   "source": [
    "Choose different parameters and hyperparameters and retrain your network. Monitor the results and see if you can improve your predictions by tuning the parameters"
   ]
  },
  {
   "cell_type": "code",
   "execution_count": 17,
   "id": "3ead00ad-3455-43aa-9d40-1893b4f27b46",
   "metadata": {},
   "outputs": [],
   "source": [
    "# your code goes here"
   ]
  }
 ],
 "metadata": {
  "kernelspec": {
   "display_name": "Python 3 (ipykernel)",
   "language": "python",
   "name": "python3"
  },
  "language_info": {
   "codemirror_mode": {
    "name": "ipython",
    "version": 3
   },
   "file_extension": ".py",
   "mimetype": "text/x-python",
   "name": "python",
   "nbconvert_exporter": "python",
   "pygments_lexer": "ipython3",
   "version": "3.8.10"
  }
 },
 "nbformat": 4,
 "nbformat_minor": 5
}
