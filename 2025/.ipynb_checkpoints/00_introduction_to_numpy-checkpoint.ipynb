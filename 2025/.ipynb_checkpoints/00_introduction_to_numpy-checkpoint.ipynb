{
 "cells": [
  {
   "cell_type": "markdown",
   "id": "f2ee1674-e0a1-47b8-8a23-7a67373279cf",
   "metadata": {
    "tags": []
   },
   "source": [
    "# Introduction to NumPy: The Foundation for Efficient Array Operations\n",
    "\n",
    "NumPy is a powerful Python package that serves as the fundamental building block for a wide range of scientific computing and data analysis tasks. Its name stands for \"Numerical Python,\" reflecting its ability to efficiently handle numerical data.\n",
    "\n",
    "At its core, NumPy provides a high-performance multidimensional array object, ndarray, which enables you to store and manipulate large amounts of homogeneous data efficiently. This array data structure is essential for many other popular Python packages used in data science and machine learning, such as pandas, scikit-learn, and TensorFlow.\n",
    "\n",
    "One of the key advantages of NumPy lies in its efficient implementation. The underlying array operations are written in C, making them considerably faster than equivalent operations implemented in pure Python. This performance boost is crucial when dealing with large datasets, complex mathematical computations, or time-sensitive applications.\n",
    "\n",
    "A central concept in NumPy is the ability to vectorize operations, which allows you to perform mathematical operations on entire arrays rather than iterating through each element individually. By leveraging this feature, you can write concise and expressive code, often eliminating the need for explicit loops. This not only simplifies the code but also significantly improves execution speed.\n",
    "\n",
    "NumPy offers a comprehensive suite of functions for mathematical operations, random number generation, linear algebra, Fourier transformations, and more. Additionally, it provides tools for reading and writing array data to disk, enabling seamless integration with various file formats.\n",
    "\n",
    "In this practical course, we will delve into the essential functionalities of NumPy, exploring its powerful array manipulation capabilities, mathematical functions, and data analysis techniques. By the end of the course, you will have a solid foundation in NumPy, allowing you to efficiently work with numerical data and pave the way for advanced data science tasks.\n",
    "\n",
    "Let's embark on this exciting journey of scientific computing with NumPy!\n",
    "\n",
    "*Generated with ChatGTPv3.5 May 24th Version, prompt: \"Hi, buddy. I am helping with some practical courses in python using a Jupyter notebook in a summer school. I need to generate some introductory text about numpy, a python package. I want to remark that is the base for much other python packages, that is efficient because of its implementation and that allows to vectorize operations.\"*"
   ]
  },
  {
   "cell_type": "code",
   "execution_count": 1,
   "id": "6fe6a6b1-85a7-4d84-99eb-88f87cc9d6b2",
   "metadata": {},
   "outputs": [],
   "source": [
    "# First of all, we need to load the package. BE SURE TO HAVE IT INSTALLED!\n",
    "import numpy as np"
   ]
  },
  {
   "cell_type": "markdown",
   "id": "58c0a240-6e26-4a4c-b8d5-f71e6bdc846e",
   "metadata": {},
   "source": [
    "<h2> Data types </h2>"
   ]
  },
  {
   "cell_type": "markdown",
   "id": "7e49113a-e0e7-4f09-8903-05df6924336d",
   "metadata": {},
   "source": [
    "NumPy, the numerical computing package for Python, offers a rich set of objects and data types that are essential for efficient array manipulation and scientific computing. Let's take a brief look at some of the key components:\n",
    "\n",
    "1. **ndarray (N-dimensional Array):** The `ndarray` is the fundamental object in NumPy, providing a powerful data structure to represent homogeneous, multi-dimensional arrays. It enables efficient storage and manipulation of numerical data, supporting various mathematical and logical operations. With NumPy's ndarray, you can effortlessly handle large datasets and perform vectorized computations.\n",
    "\n",
    "2. **Scalars:** NumPy introduces scalar data types that extend beyond Python's built-in types. These include integers (`int`), floating-point numbers (`float`), complex numbers (`complex`), and boolean values (`bool`). NumPy's scalars offer increased precision and optimized memory utilization compared to the standard Python equivalents.\n",
    "\n",
    "3. **Data Type Objects (dtype):** NumPy introduces its own data type objects, allowing you to define the precise characteristics of elements within arrays. These dtype objects specify the size, byte order, and data format of the elements. By utilizing specific dtypes, you can ensure the desired level of precision and control over memory allocation.\n",
    "\n",
    "4. **Structured Arrays:** NumPy provides the ability to create structured arrays, where each element can be a composite of multiple fields or attributes. This feature is particularly useful when working with structured data, such as CSV files, where elements may have different data types and sizes. Structured arrays enable efficient handling of heterogeneous data in a tabular format.\n",
    "\n",
    "5. **Universal Functions (ufuncs):** NumPy's ufuncs are functions that operate element-wise on ndarrays, enabling efficient and fast mathematical operations. These functions are highly optimized and implemented in compiled C code, providing significant performance advantages over equivalent Python loops. Ufuncs cover a wide range of mathematical operations, including arithmetic, trigonometry, exponential functions, and more.\n",
    "\n",
    "NumPy's rich collection of objects and data types forms the backbone of scientific computing in Python. By leveraging these powerful tools, you can efficiently work with arrays, perform complex calculations, handle structured data, and manipulate numerical data with ease.\n",
    "\n",
    "*Generated with ChatGTPv3.5 May 24th Version, prompt: \"Hi, buddy! Now I will like you to generate a short review of the objects and data types of numpy. Could you please format it for markdown?\"*"
   ]
  },
  {
   "cell_type": "markdown",
   "id": "ac6d212b-d2b4-4c2d-a886-4acce8b1a590",
   "metadata": {},
   "source": [
    "### 1) ndarray (N-dimensional Array) and 2) Scalars 3) Data Type Objects (dtype)"
   ]
  },
  {
   "cell_type": "markdown",
   "id": "f4a190ae-2fe1-4f8a-8e14-37c4eb11dfeb",
   "metadata": {},
   "source": [
    "#### 1D arrays"
   ]
  },
  {
   "cell_type": "markdown",
   "id": "1da3eecd-e07b-4521-a03a-61cf1428452d",
   "metadata": {},
   "source": [
    "Similarly to a list, a 1D array is a sequence of elements. All elements in a numpy array are of the same data type. We can define the precision in bytes of the elements "
   ]
  },
  {
   "cell_type": "code",
   "execution_count": 2,
   "id": "05f8cd8e-87e6-4bec-86c2-854894b50382",
   "metadata": {},
   "outputs": [
    {
     "name": "stdout",
     "output_type": "stream",
     "text": [
      "int16\n"
     ]
    }
   ],
   "source": [
    "int_array_1 = np.array([3,4,5,6,7], np.int16)\n",
    "print(int_array_1.dtype)"
   ]
  },
  {
   "cell_type": "code",
   "execution_count": 3,
   "id": "cd0d374b-f669-419b-981a-7e8480bbdb65",
   "metadata": {},
   "outputs": [
    {
     "name": "stdout",
     "output_type": "stream",
     "text": [
      "int32\n"
     ]
    }
   ],
   "source": [
    "int_array_2 = np.array([11,13,2,1], np.int32)\n",
    "print(int_array_2.dtype)"
   ]
  },
  {
   "cell_type": "code",
   "execution_count": 4,
   "id": "4ef8f84a-24b7-4b29-bb8a-986f06ab4acc",
   "metadata": {},
   "outputs": [
    {
     "name": "stdout",
     "output_type": "stream",
     "text": [
      "int64\n"
     ]
    }
   ],
   "source": [
    "int_array_3 = np.array([11,13,2,1], np.int64)\n",
    "print(int_array_3.dtype)"
   ]
  },
  {
   "cell_type": "code",
   "execution_count": 5,
   "id": "c188ee5c-a5d2-4b40-a582-a68c2021430b",
   "metadata": {},
   "outputs": [
    {
     "name": "stdout",
     "output_type": "stream",
     "text": [
      "uint8\n"
     ]
    }
   ],
   "source": [
    "my_int_array = np.array([3,4,5,6,7,8,9], np.uint8)\n",
    "print(my_int_array.dtype)"
   ]
  },
  {
   "cell_type": "markdown",
   "id": "b34f3541-7c80-413d-ab29-0ff36b2a312b",
   "metadata": {},
   "source": [
    "Let's look into this data type:\n",
    "\n",
    "- `int64` is a 64-bit signed integer, equivalent to the basic scalar type `int` in numpy (`dtype=int` in NumPy, it is equivalent to `dtype=np.int64`), allowing for larger integer values. It has a wider range, enabling the representation of integers from approximately -9 quintillion to +9 quintillion. It uses 8 bytes of memory per element.\n",
    "\n",
    "There are other data types that you can use, such as `int32`:\n",
    "\n",
    "\n",
    "- `int32` (in fact, the built-in `int` type in basic Python is equivalent to this dtype) is a 32-bit signed integer, capable of representing integers in the range from approximately -2 billion to +2 billion. It uses 4 bytes of memory per element.\n",
    "\n",
    "The choice between `int32` and `int64` depends on the range of values you need to represent, with `int32` being suitable for smaller integers and `int64` necessary for larger ones or precise calculations.\n",
    "\n",
    "\n",
    "*Modified from ChatGTPv3.5 May 24th Version, prompt: \"Could you please give me a short explanation between int32 and int64 and between float32 and float64 data types? Could you please format it for markdown?\"*"
   ]
  },
  {
   "cell_type": "code",
   "execution_count": 6,
   "id": "b4569c3d-784e-4e90-b48d-5c0d8af22107",
   "metadata": {},
   "outputs": [
    {
     "name": "stdout",
     "output_type": "stream",
     "text": [
      "float16\n"
     ]
    }
   ],
   "source": [
    "float_array_1 = np.array([2.3, 4.3, 1.3], dtype=np.float16)\n",
    "print(float_array_1.dtype)"
   ]
  },
  {
   "cell_type": "code",
   "execution_count": 7,
   "id": "800d5dc3-f485-45f9-8fac-33f11d7af3af",
   "metadata": {},
   "outputs": [
    {
     "name": "stdout",
     "output_type": "stream",
     "text": [
      "float32\n"
     ]
    }
   ],
   "source": [
    "float_array_2 = np.array([2.3, 4.3, 1.3], dtype=np.float32)\n",
    "print(float_array_2.dtype)"
   ]
  },
  {
   "cell_type": "code",
   "execution_count": 8,
   "id": "e58b295d-2f20-4318-8b39-6f2cde0a1f34",
   "metadata": {},
   "outputs": [
    {
     "name": "stdout",
     "output_type": "stream",
     "text": [
      "float64\n"
     ]
    }
   ],
   "source": [
    "my_float_array = np.array([32.3,43.1,9])\n",
    "print(my_float_array.dtype)"
   ]
  },
  {
   "cell_type": "markdown",
   "id": "ebffcff9-0172-4f0b-96a7-44dd58b0849a",
   "metadata": {},
   "source": [
    "`float16`, `float32` and `float64` are floating-point data types used to represent decimal numbers with fractional parts.\n",
    "\n",
    " - `float16` is a 16-bit floating-point number, utilizing 2 bytes of memory per element. It provides lower precision compared to `float32` and `float64`, with approximately 3-4 decimal digits of precision. `float16` is commonly used in scenarios where memory usage is critical, such as on resource-constrained devices or when dealing with large datasets.\n",
    " \n",
    "\n",
    " - `float32` (or `float` in Python) is a 32-bit floating-point number, utilizing 4 bytes of memory per element. It provides approximately 7 decimal digits of precision.\n",
    " \n",
    "  \n",
    " - `float64` is a 64-bit floating-point number, utilizing 8 bytes of memory per element. It offers higher precision and can represent decimal numbers with approximately 15 decimal digits of precision.\n",
    "  \n",
    "The choice between `float32` and `float64` depends on the required precision of your calculations. `float64` is generally recommended for more accurate and precise calculations in scientific or financial applications, while `float32` suffices for many general-purpose applications, consuming less memory. When working with numerical data, it is crucial to select the appropriate data type based on the desired range and precision of the values to ensure accurate computations while managing memory efficiently.\n",
    "\n",
    "*Modified from ChatGTPv3.5 May 24th Version, prompt: \"Could you please give me a short explanation between int32 and int64 and between float32 and float64 data types? Could you please format it for markdown?\"*"
   ]
  },
  {
   "cell_type": "markdown",
   "id": "6159b3f0-5bc1-470d-9089-4eaa84661d90",
   "metadata": {},
   "source": [
    "<h4> Indexing and slicing </h4>\n",
    "To access elements inside a numpy array we use indexing:"
   ]
  },
  {
   "cell_type": "code",
   "execution_count": 9,
   "id": "7c236c4f-7ba3-4d03-b051-f111490b96ac",
   "metadata": {},
   "outputs": [
    {
     "name": "stdout",
     "output_type": "stream",
     "text": [
      "[3 4 5 6 7 8 9]\n",
      "3\n",
      "5\n",
      "9\n",
      "7\n"
     ]
    }
   ],
   "source": [
    "print(my_int_array)\n",
    "print(my_int_array[0])\n",
    "print(my_int_array[2])\n",
    "print(my_int_array[-1])\n",
    "print(my_int_array[-3])"
   ]
  },
  {
   "cell_type": "markdown",
   "id": "f7a28aac-76bd-4df6-b72b-1553d2547be2",
   "metadata": {},
   "source": [
    "To access multiple elements at a time we use slicing:"
   ]
  },
  {
   "cell_type": "code",
   "execution_count": 10,
   "id": "1cebdaa3-e1bd-483b-9762-4b0344bfda9b",
   "metadata": {},
   "outputs": [
    {
     "name": "stdout",
     "output_type": "stream",
     "text": [
      "[3 4 5 6 7 8 9]\n",
      "[5 6]\n",
      "[4 5 6 7]\n",
      "[3 4 5 6]\n",
      "[5 6 7 8 9]\n",
      "[7 8 9]\n"
     ]
    }
   ],
   "source": [
    "print(my_int_array)\n",
    "print(my_int_array[2:4])\n",
    "print(my_int_array[1:5])\n",
    "print(my_int_array[:4])\n",
    "print(my_int_array[2:])\n",
    "print(my_int_array[-3:])"
   ]
  },
  {
   "cell_type": "markdown",
   "id": "8967ddda-c618-4f83-a485-74b2c00ca225",
   "metadata": {},
   "source": [
    "We can redefine an element in an array by selecting its index and assigning it to a new value:"
   ]
  },
  {
   "cell_type": "code",
   "execution_count": 11,
   "id": "976072b6-a430-43a1-8711-9b2efbc559ea",
   "metadata": {},
   "outputs": [
    {
     "name": "stdout",
     "output_type": "stream",
     "text": [
      "[3. 4. 5. 6. 7. 8. 9.]\n",
      "modify 4th element\n",
      "[ 3.  4.  5. 11.  7.  8.  9.]\n"
     ]
    }
   ],
   "source": [
    "new_array = np.array([3,4,5,6,7,8,9], np.float32)\n",
    "print(new_array)\n",
    "new_array[3] = 11\n",
    "print('modify 4th element')\n",
    "print(new_array)"
   ]
  },
  {
   "cell_type": "markdown",
   "id": "cbcf9b1c-f4ee-4194-8eab-8ffb4a3a4b12",
   "metadata": {
    "tags": []
   },
   "source": [
    "Similarly, with multiple indices:"
   ]
  },
  {
   "cell_type": "code",
   "execution_count": 12,
   "id": "6efe17fa-2efa-4b12-9cdb-ef9e904a2427",
   "metadata": {},
   "outputs": [
    {
     "name": "stdout",
     "output_type": "stream",
     "text": [
      "[ 3.  4.  5. 11. 13. 14.]\n"
     ]
    }
   ],
   "source": [
    "new_array[-3:] = [12,13,14]\n",
    "new_array = np.delete(new_array, 4)\n",
    "print(new_array)"
   ]
  },
  {
   "cell_type": "markdown",
   "id": "1766c6ee-28eb-47e9-8cb4-0c725e914615",
   "metadata": {
    "tags": []
   },
   "source": [
    "# Introduction to NumPy: The Foundation for Efficient Array Operations\n",
    "\n",
    "NumPy is a powerful Python package that serves as the fundamental building block for a wide range of scientific computing and data analysis tasks. Its name stands for \"Numerical Python,\" reflecting its ability to efficiently handle numerical data.\n",
    "\n",
    "At its core, NumPy provides a high-performance multidimensional array object, ndarray, which enables you to store and manipulate large amounts of homogeneous data efficiently. This array data structure is essential for many other popular Python packages used in data science and machine learning, such as pandas, scikit-learn, and TensorFlow.\n",
    "\n",
    "One of the key advantages of NumPy lies in its efficient implementation. The underlying array operations are written in C, making them considerably faster than equivalent operations implemented in pure Python. This performance boost is crucial when dealing with large datasets, complex mathematical computations, or time-sensitive applications.\n",
    "\n",
    "A central concept in NumPy is the ability to vectorize operations, which allows you to perform mathematical operations on entire arrays rather than iterating through each element individually. By leveraging this feature, you can write concise and expressive code, often eliminating the need for explicit loops. This not only simplifies the code but also significantly improves execution speed.\n",
    "\n",
    "NumPy offers a comprehensive suite of functions for mathematical operations, random number generation, linear algebra, Fourier transformations, and more. Additionally, it provides tools for reading and writing array data to disk, enabling seamless integration with various file formats.\n",
    "\n",
    "In this practical course, we will delve into the essential functionalities of NumPy, exploring its powerful array manipulation capabilities, mathematical functions, and data analysis techniques. By the end of the course, you will have a solid foundation in NumPy, allowing you to efficiently work with numerical data and pave the way for advanced data science tasks.\n",
    "\n",
    "Let's embark on this exciting journey of scientific computing with NumPy!\n",
    "\n",
    "*Generated with ChatGTPv3.5 May 24th Version, prompt: \"Hi, buddy. I am helping with some practical courses in python using a Jupyter notebook in a summer school. I need to generate some introductory text about numpy, a python package. I want to remark that is the base for much other python packages, that is efficient because of its implementation and that allows to vectorize operations.\"*"
   ]
  },
  {
   "cell_type": "markdown",
   "id": "229611a1-cfb2-4032-9d5a-59d56fbb21b7",
   "metadata": {},
   "source": [
    "<h4>Multi-dimensional arrays</h4>"
   ]
  },
  {
   "cell_type": "code",
   "execution_count": 13,
   "id": "a248c14f-55c6-4aeb-a2a7-c7667968c871",
   "metadata": {},
   "outputs": [
    {
     "name": "stdout",
     "output_type": "stream",
     "text": [
      "[[ 1  2  3]\n",
      " [ 4  5  6]\n",
      " [ 7  8  9]\n",
      " [10 11 12]]\n"
     ]
    }
   ],
   "source": [
    "my_matrix = np.array([[1,2,3],[4,5,6],[7,8,9],[10,11,12]])\n",
    "print(my_matrix)"
   ]
  },
  {
   "cell_type": "markdown",
   "id": "2719131f-f576-49f6-b3e3-37476f1e0e0e",
   "metadata": {},
   "source": [
    "We use multiple indices to access elements of multidimensional arrays. In the case of a 2D matrix, the first index refers to the row index, while the second one is for the columns:"
   ]
  },
  {
   "cell_type": "code",
   "execution_count": 14,
   "id": "f00e1e34-aaba-4842-a813-9740c74472b4",
   "metadata": {},
   "outputs": [
    {
     "name": "stdout",
     "output_type": "stream",
     "text": [
      "6\n",
      "12\n"
     ]
    }
   ],
   "source": [
    "print(my_matrix[1,2])\n",
    "print(my_matrix[-1,-1])"
   ]
  },
  {
   "cell_type": "markdown",
   "id": "6d3067dd-dd43-446d-b453-a9de1c0e1a2f",
   "metadata": {},
   "source": [
    "If we use only one index we can select entire rows:"
   ]
  },
  {
   "cell_type": "code",
   "execution_count": 15,
   "id": "5d89f1c0-6f8f-4138-a74d-9d0325051a48",
   "metadata": {},
   "outputs": [
    {
     "name": "stdout",
     "output_type": "stream",
     "text": [
      "[1 2 3]\n",
      "[[4 5 6]\n",
      " [7 8 9]]\n"
     ]
    }
   ],
   "source": [
    "print(my_matrix[0])\n",
    "print(my_matrix[1:3])"
   ]
  },
  {
   "cell_type": "markdown",
   "id": "d5369017-8810-4073-9ab1-96adb9038848",
   "metadata": {},
   "source": [
    "If we want to select an entire column:"
   ]
  },
  {
   "cell_type": "code",
   "execution_count": 16,
   "id": "36dac818-1a17-4e89-82ea-2b54069fcece",
   "metadata": {},
   "outputs": [
    {
     "name": "stdout",
     "output_type": "stream",
     "text": [
      "[ 3  6  9 12]\n"
     ]
    }
   ],
   "source": [
    "print(my_matrix[:,2])"
   ]
  },
  {
   "cell_type": "markdown",
   "id": "d8c2d493-5668-49c9-b8c6-5098956c344f",
   "metadata": {},
   "source": [
    "Similarly, for 3 dimensional arrays:"
   ]
  },
  {
   "cell_type": "code",
   "execution_count": 17,
   "id": "3ed08db8-e1c8-4a45-b12c-67d78abbbe72",
   "metadata": {},
   "outputs": [],
   "source": [
    "multidim_array = np.array([\n",
    "    [[3,4,2],[5,4,4]],\n",
    "    [[7,8,7],[6,6,6]]\n",
    "])"
   ]
  },
  {
   "cell_type": "markdown",
   "id": "e48716e6-c4a7-4d83-ac01-298415d46ad4",
   "metadata": {},
   "source": [
    "Now our array consists of 2 2x3 matrices. This means that element at index 0 is the first 2x3 matrix, and element at index 1 is the second 2x3 matrix. We can then access the elements of the matrix as before:"
   ]
  },
  {
   "cell_type": "code",
   "execution_count": 18,
   "id": "b3532370-ba4c-4d18-8745-a46fe42d1288",
   "metadata": {},
   "outputs": [
    {
     "data": {
      "text/plain": [
       "(2, 2, 3)"
      ]
     },
     "execution_count": 18,
     "metadata": {},
     "output_type": "execute_result"
    }
   ],
   "source": [
    "multidim_array.shape"
   ]
  },
  {
   "cell_type": "code",
   "execution_count": 19,
   "id": "313588f1-dd24-4f83-a09a-9a0f0ba58f1f",
   "metadata": {},
   "outputs": [
    {
     "name": "stdout",
     "output_type": "stream",
     "text": [
      "[[[3 4 2]\n",
      "  [5 4 4]]\n",
      "\n",
      " [[7 8 7]\n",
      "  [6 6 6]]]\n",
      "\n",
      "[[3 4 2]\n",
      " [5 4 4]]\n",
      "(2, 3)\n",
      "\n",
      "[4 4]\n",
      "[6 6 6]\n"
     ]
    }
   ],
   "source": [
    "print(multidim_array)\n",
    "print('')\n",
    "print(multidim_array[0])\n",
    "print(multidim_array[0].shape)\n",
    "print('')\n",
    "print(multidim_array[0,:,1])\n",
    "print(multidim_array[1,-1])"
   ]
  },
  {
   "cell_type": "markdown",
   "id": "da525b2d-4168-458f-98ab-f9d073ea4691",
   "metadata": {},
   "source": [
    "<h4>Dimensions</h4>"
   ]
  },
  {
   "cell_type": "markdown",
   "id": "874ebf79-50ee-479c-a20a-9775c2bbad82",
   "metadata": {},
   "source": [
    "A convenient way to keep track of the operations that we perform is to check the dimension of input, intermediate or output arrays. Numpy provides an easy way to see the shape of an array:"
   ]
  },
  {
   "cell_type": "code",
   "execution_count": 20,
   "id": "5f9872e2-c147-43ae-af08-4f3e0127c125",
   "metadata": {},
   "outputs": [
    {
     "data": {
      "text/plain": [
       "(4, 3)"
      ]
     },
     "execution_count": 20,
     "metadata": {},
     "output_type": "execute_result"
    }
   ],
   "source": [
    "my_matrix.shape"
   ]
  },
  {
   "cell_type": "code",
   "execution_count": 21,
   "id": "0439bc64-5674-485f-8689-f321b05ea64c",
   "metadata": {},
   "outputs": [
    {
     "data": {
      "text/plain": [
       "(2, 2, 3)"
      ]
     },
     "execution_count": 21,
     "metadata": {},
     "output_type": "execute_result"
    }
   ],
   "source": [
    "multidim_array.shape"
   ]
  },
  {
   "cell_type": "markdown",
   "id": "e09f552a-0a1f-40ef-afb2-b7a27b91f5cb",
   "metadata": {},
   "source": [
    "To look at the number of dimensions:"
   ]
  },
  {
   "cell_type": "code",
   "execution_count": 22,
   "id": "46fc478a-a50d-4cf8-984d-a83b271fe4b1",
   "metadata": {},
   "outputs": [
    {
     "data": {
      "text/plain": [
       "2"
      ]
     },
     "execution_count": 22,
     "metadata": {},
     "output_type": "execute_result"
    }
   ],
   "source": [
    "my_matrix.ndim"
   ]
  },
  {
   "cell_type": "code",
   "execution_count": 23,
   "id": "decd833c-33c0-4485-9276-5630e402e668",
   "metadata": {},
   "outputs": [
    {
     "data": {
      "text/plain": [
       "3"
      ]
     },
     "execution_count": 23,
     "metadata": {},
     "output_type": "execute_result"
    }
   ],
   "source": [
    "multidim_array.ndim"
   ]
  },
  {
   "cell_type": "code",
   "execution_count": 24,
   "id": "2a8e7099-46a0-4c80-b1c8-29535cca81eb",
   "metadata": {},
   "outputs": [
    {
     "data": {
      "text/plain": [
       "1"
      ]
     },
     "execution_count": 24,
     "metadata": {},
     "output_type": "execute_result"
    }
   ],
   "source": [
    "my_int_array.ndim"
   ]
  },
  {
   "cell_type": "markdown",
   "id": "b65e2d5a-9f6a-4e19-b645-beb21d1c1112",
   "metadata": {},
   "source": [
    "<h4>Zeros, ones, arange</h4>"
   ]
  },
  {
   "cell_type": "markdown",
   "id": "f5dadb7a-38a2-480e-9125-be4725134bf3",
   "metadata": {},
   "source": [
    "With numpy we can easily create arrays of zeros, ones and evenly spaced values:"
   ]
  },
  {
   "cell_type": "code",
   "execution_count": 25,
   "id": "03c6948c-4b6e-4112-8962-cdff12547e83",
   "metadata": {},
   "outputs": [
    {
     "name": "stdout",
     "output_type": "stream",
     "text": [
      "[0. 0. 0. 0. 0. 0. 0. 0. 0. 0.]\n"
     ]
    },
    {
     "data": {
      "text/plain": [
       "array([[0., 0., 0., 0., 0.],\n",
       "       [0., 0., 0., 0., 0.],\n",
       "       [0., 0., 0., 0., 0.],\n",
       "       [0., 0., 0., 0., 0.],\n",
       "       [0., 0., 0., 0., 0.]])"
      ]
     },
     "execution_count": 25,
     "metadata": {},
     "output_type": "execute_result"
    }
   ],
   "source": [
    "array_zeros = np.zeros(10)\n",
    "print(array_zeros)\n",
    "matrix_zeros = np.zeros((5,5))\n",
    "matrix_zeros"
   ]
  },
  {
   "cell_type": "code",
   "execution_count": 26,
   "id": "6120551d-c02a-4ea3-bdaf-b96bfb181f04",
   "metadata": {},
   "outputs": [
    {
     "name": "stdout",
     "output_type": "stream",
     "text": [
      "[1. 1. 1. 1. 1. 1. 1. 1. 1. 1.]\n"
     ]
    },
    {
     "data": {
      "text/plain": [
       "array([[1., 1., 1., 1., 1.],\n",
       "       [1., 1., 1., 1., 1.],\n",
       "       [1., 1., 1., 1., 1.],\n",
       "       [1., 1., 1., 1., 1.],\n",
       "       [1., 1., 1., 1., 1.]])"
      ]
     },
     "execution_count": 26,
     "metadata": {},
     "output_type": "execute_result"
    }
   ],
   "source": [
    "array_ones = np.ones(10)\n",
    "print(array_ones)\n",
    "matrix_ones = np.ones((5,5))\n",
    "matrix_ones"
   ]
  },
  {
   "cell_type": "code",
   "execution_count": 27,
   "id": "1686ce02-bbf1-4eae-a1e5-dae9e2645e95",
   "metadata": {},
   "outputs": [
    {
     "data": {
      "text/plain": [
       "array([0, 1, 2, 3, 4, 5, 6, 7, 8, 9])"
      ]
     },
     "execution_count": 27,
     "metadata": {},
     "output_type": "execute_result"
    }
   ],
   "source": [
    "np.arange(10)"
   ]
  },
  {
   "cell_type": "code",
   "execution_count": 28,
   "id": "159b9f5c-346e-422b-9019-b6bc00d26e41",
   "metadata": {},
   "outputs": [
    {
     "data": {
      "text/plain": [
       "array([4, 5, 6, 7, 8, 9])"
      ]
     },
     "execution_count": 28,
     "metadata": {},
     "output_type": "execute_result"
    }
   ],
   "source": [
    "np.arange(4,10)"
   ]
  },
  {
   "cell_type": "code",
   "execution_count": 29,
   "id": "bfae441d-7e1b-4d83-b046-5630dd457c12",
   "metadata": {},
   "outputs": [
    {
     "data": {
      "text/plain": [
       "array([4, 6, 8])"
      ]
     },
     "execution_count": 29,
     "metadata": {},
     "output_type": "execute_result"
    }
   ],
   "source": [
    "np.arange(4,10,2)"
   ]
  },
  {
   "cell_type": "markdown",
   "id": "a5fbe7e6-37d1-406a-96dc-7958149f67e5",
   "metadata": {},
   "source": [
    "The third argument in `np.arange` is the step size."
   ]
  },
  {
   "cell_type": "markdown",
   "id": "bf854782-2ea4-4225-aa04-b52e8927b05a",
   "metadata": {},
   "source": [
    "<h4> Reshape </h4>"
   ]
  },
  {
   "cell_type": "code",
   "execution_count": 30,
   "id": "143093bf-244e-4d22-8da2-f937e07a42b7",
   "metadata": {},
   "outputs": [
    {
     "data": {
      "text/plain": [
       "array([0.    , 0.2   , 0.4   , 0.5996, 0.8   , 1.    , 1.199 , 1.399 ],\n",
       "      dtype=float16)"
      ]
     },
     "execution_count": 30,
     "metadata": {},
     "output_type": "execute_result"
    }
   ],
   "source": [
    "# We can define a 1-dimension array of low precision floats FROM 0 to 1.4 by 0.2 steps\n",
    "unidim_array = np.arange(0, 1.6, 0.2, dtype='float16')\n",
    "unidim_array"
   ]
  },
  {
   "cell_type": "code",
   "execution_count": 31,
   "id": "d93e8eed-1378-41d6-86f4-fd5fba9aca2f",
   "metadata": {},
   "outputs": [
    {
     "data": {
      "text/plain": [
       "array([[0.    ],\n",
       "       [0.2   ],\n",
       "       [0.4   ],\n",
       "       [0.5996],\n",
       "       [0.8   ],\n",
       "       [1.    ],\n",
       "       [1.199 ],\n",
       "       [1.399 ]], dtype=float16)"
      ]
     },
     "execution_count": 31,
     "metadata": {},
     "output_type": "execute_result"
    }
   ],
   "source": [
    "# 2D 8x1 array\n",
    "np.reshape(unidim_array, (8,1))"
   ]
  },
  {
   "cell_type": "code",
   "execution_count": 32,
   "id": "c6c3aedb-3d91-4a44-8b86-e0db29284627",
   "metadata": {},
   "outputs": [
    {
     "data": {
      "text/plain": [
       "array([[0.    , 0.2   , 0.4   , 0.5996, 0.8   , 1.    , 1.199 , 1.399 ]],\n",
       "      dtype=float16)"
      ]
     },
     "execution_count": 32,
     "metadata": {},
     "output_type": "execute_result"
    }
   ],
   "source": [
    "# 2D 1x8 array\n",
    "np.reshape(unidim_array, (1,8))"
   ]
  },
  {
   "cell_type": "code",
   "execution_count": 33,
   "id": "c89792b9-1510-46c2-bf03-401db7406794",
   "metadata": {},
   "outputs": [
    {
     "data": {
      "text/plain": [
       "array([[0.    , 0.2   , 0.4   , 0.5996],\n",
       "       [0.8   , 1.    , 1.199 , 1.399 ]], dtype=float16)"
      ]
     },
     "execution_count": 33,
     "metadata": {},
     "output_type": "execute_result"
    }
   ],
   "source": [
    "# 2D 2x4 array\n",
    "np.reshape(unidim_array, (2,4))"
   ]
  },
  {
   "cell_type": "code",
   "execution_count": 34,
   "id": "a42df155-5526-4c8d-8fec-5c45f11050ca",
   "metadata": {},
   "outputs": [
    {
     "data": {
      "text/plain": [
       "array([[[0.    , 0.2   ],\n",
       "        [0.4   , 0.5996]],\n",
       "\n",
       "       [[0.8   , 1.    ],\n",
       "        [1.199 , 1.399 ]]], dtype=float16)"
      ]
     },
     "execution_count": 34,
     "metadata": {},
     "output_type": "execute_result"
    }
   ],
   "source": [
    "# 2D 2x2x2 array\n",
    "np.reshape(unidim_array, (2,2,2))"
   ]
  },
  {
   "cell_type": "markdown",
   "id": "7a2a49ee-5dcb-4b85-bb61-ca0c0a2ee928",
   "metadata": {},
   "source": [
    "### 4) Structured arrays"
   ]
  },
  {
   "cell_type": "code",
   "execution_count": 35,
   "id": "edbcbc05-aa59-40e9-a83c-3309abdd2e04",
   "metadata": {},
   "outputs": [
    {
     "name": "stdout",
     "output_type": "stream",
     "text": [
      "[('John', 25, 85.5) ('Alice', 30, 92.3) ('Bob', 28, 77.8)]\n"
     ]
    }
   ],
   "source": [
    "# Define the data types for the structured array\n",
    "dt = np.dtype([('name', np.str_, 20), ('age', np.int32), ('score', np.float64)])\n",
    "\n",
    "# Create a structured array\n",
    "data = np.array([('John', 25, 85.5), ('Alice', 30, 92.3), ('Bob', 28, 77.8)], dtype=dt)\n",
    "print(data)"
   ]
  },
  {
   "cell_type": "code",
   "execution_count": 36,
   "id": "bf7e69a9-7722-44c8-9092-cee3635d3f99",
   "metadata": {},
   "outputs": [
    {
     "name": "stdout",
     "output_type": "stream",
     "text": [
      "Name: ['John' 'Alice' 'Bob']\n",
      "Age: [25 30 28]\n",
      "Score: [85.5 92.3 77.8]\n"
     ]
    }
   ],
   "source": [
    "# Access and print specific fields of the structured array\n",
    "print(\"Name:\", data['name'])\n",
    "print(\"Age:\", data['age'])\n",
    "print(\"Score:\", data['score'])"
   ]
  },
  {
   "cell_type": "markdown",
   "id": "ed22711c-f4ef-4a35-b521-e934b1f62e0f",
   "metadata": {},
   "source": [
    "This is very useful for complex datasets, although for that it is better to use the `pandas` package which is built upon `numpy` and for a more versatile manipulation of complex datasets."
   ]
  },
  {
   "cell_type": "markdown",
   "id": "af98ef95-b94a-454e-a89c-1620b753397c",
   "metadata": {},
   "source": [
    "<h3>5) Universal Functions (ufuncs)</h3>"
   ]
  },
  {
   "cell_type": "markdown",
   "id": "dc6b650e-1c95-4d6c-8b91-fb380665b70d",
   "metadata": {},
   "source": [
    "#### a) Basic numpy functions"
   ]
  },
  {
   "cell_type": "code",
   "execution_count": 37,
   "id": "d03e4461-b28c-442b-ae5e-3487ab79a8ad",
   "metadata": {},
   "outputs": [
    {
     "name": "stdout",
     "output_type": "stream",
     "text": [
      "Minimum Value: 12\n",
      "Maximum Value: 90\n",
      "Mean: 48.285714285714285\n",
      "Standard Deviation: 26.331481894787277\n",
      "Variance: 693.3469387755102\n"
     ]
    }
   ],
   "source": [
    "# Create a sample array\n",
    "arr = np.array([23, 56, 12, 90, 45, 78, 34])\n",
    "\n",
    "# Find the minimum value in the array\n",
    "min_value = np.min(arr)\n",
    "print(\"Minimum Value:\", min_value)\n",
    "\n",
    "# Find the maximum value in the array\n",
    "max_value = np.max(arr)\n",
    "print(\"Maximum Value:\", max_value)\n",
    "\n",
    "# Calculate the mean of the array\n",
    "mean_value = np.mean(arr)\n",
    "print(\"Mean:\", mean_value)\n",
    "\n",
    "# Calculate the standard deviation of the array\n",
    "std_value = np.std(arr)\n",
    "print(\"Standard Deviation:\", std_value)\n",
    "\n",
    "# Calculate the variance of the array\n",
    "var_value = np.var(arr)\n",
    "print(\"Variance:\", var_value)"
   ]
  },
  {
   "cell_type": "code",
   "execution_count": 38,
   "id": "66c6f108-2817-46cb-aadd-eda07f1e4eaa",
   "metadata": {},
   "outputs": [
    {
     "data": {
      "text/plain": [
       "array([10, 11, 12])"
      ]
     },
     "execution_count": 38,
     "metadata": {},
     "output_type": "execute_result"
    }
   ],
   "source": [
    "np.max(my_matrix, axis=0)"
   ]
  },
  {
   "cell_type": "code",
   "execution_count": 39,
   "id": "1fecb345-3e9b-441e-8d37-aedb8d1ec531",
   "metadata": {},
   "outputs": [
    {
     "data": {
      "text/plain": [
       "array([[ 1,  2,  3],\n",
       "       [ 4,  5,  6],\n",
       "       [ 7,  8,  9],\n",
       "       [10, 11, 12]])"
      ]
     },
     "execution_count": 39,
     "metadata": {},
     "output_type": "execute_result"
    }
   ],
   "source": [
    "my_matrix"
   ]
  },
  {
   "cell_type": "code",
   "execution_count": 40,
   "id": "8f14e777-6965-4beb-9bf0-7f2d4e73b3ac",
   "metadata": {},
   "outputs": [
    {
     "data": {
      "text/plain": [
       "array([ 3.74165739,  8.77496439, 13.92838828, 19.10497317])"
      ]
     },
     "execution_count": 40,
     "metadata": {},
     "output_type": "execute_result"
    }
   ],
   "source": [
    "np.linalg.norm(my_matrix, axis=1)"
   ]
  },
  {
   "cell_type": "markdown",
   "id": "4215913e-b3b8-423d-b83d-9aa7c25244b2",
   "metadata": {},
   "source": [
    "#### b) Adding, Subtracting, Multiplying, and Dividing by a Number, using broadcasting\n",
    "\n",
    "Broadcasting refers to how numpy treats arrays with different dimension during arithmetic operations which lead to certain constraints, the smaller array is broadcast across the larger array so that they have compatible shapes."
   ]
  },
  {
   "cell_type": "code",
   "execution_count": 41,
   "id": "9eee1c81-999f-4809-b182-e4bb55a4aece",
   "metadata": {},
   "outputs": [
    {
     "name": "stdout",
     "output_type": "stream",
     "text": [
      "Addition Result: [11 12 13 14 15]\n",
      "Subtraction Result: [-2 -1  0  1  2]\n",
      "Multiplication Result: [ 2  4  6  8 10]\n",
      "Division Result: [0.5 1.  1.5 2.  2.5]\n"
     ]
    }
   ],
   "source": [
    "# Create a sample array\n",
    "arr = np.array([1, 2, 3, 4, 5])\n",
    "\n",
    "# Add a number to each element\n",
    "result_add = np.add(arr, 10)\n",
    "print(\"Addition Result:\", result_add)\n",
    "\n",
    "# Subtract a number from each element\n",
    "result_subtract = np.subtract(arr, 3)\n",
    "print(\"Subtraction Result:\", result_subtract)\n",
    "\n",
    "# Multiply each element by a number\n",
    "result_multiply = np.multiply(arr, 2)\n",
    "print(\"Multiplication Result:\", result_multiply)\n",
    "\n",
    "# Divide each element by a number\n",
    "result_divide = np.divide(arr, 2)\n",
    "print(\"Division Result:\", result_divide)"
   ]
  },
  {
   "cell_type": "markdown",
   "id": "fe5e43f2-098c-470d-9b79-e785258c035e",
   "metadata": {},
   "source": [
    "#### c) Adding, Subtracting arrays"
   ]
  },
  {
   "cell_type": "code",
   "execution_count": 42,
   "id": "5747dc16-5f40-4a63-8d17-b6b2286be70f",
   "metadata": {},
   "outputs": [
    {
     "name": "stdout",
     "output_type": "stream",
     "text": [
      "[ 2  4  6  8 10]\n",
      "[0 0 0 0 0]\n"
     ]
    }
   ],
   "source": [
    "# Just sum them up\n",
    "print(arr+arr)\n",
    "\n",
    "# Same for sustraction\n",
    "print(arr-arr)"
   ]
  },
  {
   "cell_type": "code",
   "execution_count": 43,
   "id": "2a0d0cf9-d0c7-40f7-ab7f-1ccfa110f238",
   "metadata": {},
   "outputs": [],
   "source": [
    "my_new_matrix = np.arange(12).reshape(-1,3).astype(np.float64)"
   ]
  },
  {
   "cell_type": "markdown",
   "id": "3000c76a-8df3-42b7-ab27-954f07644aa2",
   "metadata": {},
   "source": [
    "#### d) Multiplying Two Arrays"
   ]
  },
  {
   "cell_type": "code",
   "execution_count": 44,
   "id": "4df045be-3266-48fa-a2dc-fef09cff3090",
   "metadata": {},
   "outputs": [
    {
     "name": "stdout",
     "output_type": "stream",
     "text": [
      "(2, 3)\n",
      "(3, 2)\n",
      "[[10 13]\n",
      " [28 40]]\n",
      "[[ 3  4  5]\n",
      " [ 9 14 19]\n",
      " [15 24 33]]\n"
     ]
    }
   ],
   "source": [
    "# Create a 2D 2x3 sample array\n",
    "arr1 = np.array(np.reshape(np.arange(0,6,1), (2,3)))\n",
    "print(np.shape(arr1))\n",
    "\n",
    "# Create a 2D 3x2 sample array\n",
    "arr2 = np.array(np.reshape(np.arange(0,6,1), (3,2)))\n",
    "print(np.shape(arr2))\n",
    "\n",
    "# Multiply them\n",
    "print(np.matmul(arr1,arr2))\n",
    "\n",
    "# Note that the opposite gives a matrix with a different shape\n",
    "print(np.matmul(arr2,arr1))"
   ]
  },
  {
   "cell_type": "markdown",
   "id": "a8e63e7a-5321-4932-909b-b8fa3f536e32",
   "metadata": {},
   "source": [
    "#### e) Multiplying and dividing two arrays ELEMENT-WISE"
   ]
  },
  {
   "cell_type": "code",
   "execution_count": 45,
   "id": "5b0991a8-d214-4b8a-a55b-020c97efbbf0",
   "metadata": {},
   "outputs": [
    {
     "name": "stdout",
     "output_type": "stream",
     "text": [
      "Element-wise Multiplication Result: [ 2  8 18 32 50]\n",
      "Element-wise Division Result: [0.5 0.5 0.5 0.5 0.5]\n"
     ]
    }
   ],
   "source": [
    "# Create two sample arrays\n",
    "arr1 = np.array([1, 2, 3, 4, 5])\n",
    "arr2 = np.array([2, 4, 6, 8, 10])\n",
    "\n",
    "# Multiply the arrays element-wise\n",
    "result_multiply_arrays = np.multiply(arr1, arr2)\n",
    "print(\"Element-wise Multiplication Result:\", result_multiply_arrays)\n",
    "\n",
    "# Divide the arrays element-wise\n",
    "result_multiply_arrays = np.divide(arr1, arr2)\n",
    "print(\"Element-wise Division Result:\", result_multiply_arrays)"
   ]
  },
  {
   "cell_type": "markdown",
   "id": "250f34eb-2371-46b1-bbbb-2d4a92c8f4ae",
   "metadata": {},
   "source": [
    "#### f) Using apply_along_axis and Defining a Custom Function"
   ]
  },
  {
   "cell_type": "code",
   "execution_count": 46,
   "id": "ff924739-135f-45c4-b05c-ba4d280975df",
   "metadata": {},
   "outputs": [
    {
     "name": "stdout",
     "output_type": "stream",
     "text": [
      "Apply along Axis Result: [2. 5. 8.]\n"
     ]
    }
   ],
   "source": [
    "# Define a custom function\n",
    "def custom_function_average(row):\n",
    "    return np.sum(row) / len(row)\n",
    "\n",
    "# Create a 2D array\n",
    "arr_2d = np.array([[1, 2, 3],\n",
    "                   [4, 5, 6],\n",
    "                   [7, 8, 9]])\n",
    "\n",
    "# Apply the custom function along the rows (axis=1)\n",
    "result_apply_along_axis = np.apply_along_axis(custom_function_average, axis=1, arr=arr_2d)\n",
    "print(\"Apply along Axis Result:\", result_apply_along_axis)"
   ]
  },
  {
   "cell_type": "markdown",
   "id": "8a13bd39-c7b8-4069-af28-e2e5c0c547e9",
   "metadata": {},
   "source": [
    "<h4>Boolean arrays</h4>\n",
    "\n",
    "Numpy arrays can also be booleans. We can use arrays as indices."
   ]
  },
  {
   "cell_type": "code",
   "execution_count": 47,
   "id": "28289399-1160-463f-a1b9-e8b8bb290606",
   "metadata": {},
   "outputs": [],
   "source": [
    "my_new_matrix = np.arange(12).reshape(4,-1).astype(np.float64)"
   ]
  },
  {
   "cell_type": "code",
   "execution_count": 48,
   "id": "077f4aa3-5f26-4013-8d1d-b44c42fa30f4",
   "metadata": {},
   "outputs": [],
   "source": [
    "my_new_matrix[my_new_matrix==0] = np.inf"
   ]
  },
  {
   "cell_type": "code",
   "execution_count": 49,
   "id": "260a764f-fe30-4f34-aed4-7bd859012d56",
   "metadata": {},
   "outputs": [
    {
     "name": "stdout",
     "output_type": "stream",
     "text": [
      "Result: [3 4 5]\n"
     ]
    }
   ],
   "source": [
    "# Create a sample array\n",
    "arr = np.array([1, 2, 3, 4, 5])\n",
    "\n",
    "# Create a boolean mask based on a condition\n",
    "mask = arr > 2\n",
    "\n",
    "# Use the boolean mask to index the array\n",
    "result = arr[mask]\n",
    "\n",
    "# Print the result\n",
    "print(\"Result:\", result)"
   ]
  },
  {
   "cell_type": "markdown",
   "id": "91a8914b-b5a6-4ea9-941c-4e3f23c2ac5f",
   "metadata": {},
   "source": [
    "Numpy arrays can also be booleans. We can use arrays as indices"
   ]
  },
  {
   "cell_type": "markdown",
   "id": "6f773a71-6152-43bb-9a12-093ba388b5b7",
   "metadata": {},
   "source": [
    "<h4>Univariate linear regression</h4>"
   ]
  },
  {
   "cell_type": "markdown",
   "id": "3ccf6232-55f1-4090-9005-10f2be91b11f",
   "metadata": {},
   "source": [
    "We want to use a linear model to estimate the price of a house given its surface in square meters. We are given the following data:"
   ]
  },
  {
   "cell_type": "code",
   "execution_count": 50,
   "id": "68c025b8-059f-401e-a3e4-87e0df29a7e1",
   "metadata": {},
   "outputs": [],
   "source": [
    "square_meters = np.array([50, 51, 62, 78, 81, 85, 101, 102, 120, 135, 141, 170])\n",
    "price = np.array([\n",
    "    180000,\n",
    "    172000,\n",
    "    240000,\n",
    "    340000,\n",
    "    315000,\n",
    "    320000,\n",
    "    400000,\n",
    "    410000,\n",
    "    410000,\n",
    "    535000,\n",
    "    560000,\n",
    "    700000,\n",
    "])"
   ]
  },
  {
   "cell_type": "markdown",
   "id": "fb7e3434-b6d4-43cb-b82d-8b8d10f10209",
   "metadata": {},
   "source": [
    "**1 - Do a scatter plot with your data showing the price of each house**"
   ]
  },
  {
   "cell_type": "markdown",
   "id": "576fa308-cf41-442b-b97d-d8127460c7fa",
   "metadata": {},
   "source": [
    "https://matplotlib.org/stable/api/_as_gen/matplotlib.pyplot.scatter.html\n",
    "https://matplotlib.org/stable/api/_as_gen/matplotlib.pyplot.plot.html"
   ]
  },
  {
   "cell_type": "code",
   "execution_count": 51,
   "id": "268651a1-b568-4194-9f1e-c4d4144db118",
   "metadata": {},
   "outputs": [
    {
     "data": {
      "text/plain": [
       "Text(0.5, 1.02, 'House price')"
      ]
     },
     "execution_count": 51,
     "metadata": {},
     "output_type": "execute_result"
    },
    {
     "data": {
      "image/png": "[encoded data removed]",
      "text/plain": [
       "<Figure size 432x288 with 1 Axes>"
      ]
     },
     "metadata": {
      "needs_background": "light"
     },
     "output_type": "display_data"
    }
   ],
   "source": [
    "import matplotlib.pyplot as plt\n",
    "# your code goes here\n",
    "# for subscript 2 use \\u00b2\n",
    "plt.scatter(square_meters, price, marker='x', c='k', s=64)\n",
    "plt.xlabel('square meters (m\\u00b2)', fontsize=16)\n",
    "plt.ylabel('price (hryvnia)', fontsize=16)\n",
    "plt.title('House price', fontsize=20, y=1.02)"
   ]
  },
  {
   "cell_type": "markdown",
   "id": "78dce3c8-c6c3-4982-80be-77e75e9d6e9e",
   "metadata": {},
   "source": [
    "In our linear regression model:\n",
    "\n",
    "\\begin{equation}\n",
    "\\hat{y} = ax + b\n",
    "\\end{equation}\n",
    "\n",
    "we can compute the coefficients $a$ and $b$ following the ordinary least squares method using the following expressions:\n",
    "\\begin{equation}\n",
    "a = \\frac{\\sum_{i=0}^n(x_i+\\bar{x})(y_i-\\bar{y})}{\\sum_{i=0}^n(x_i-\\bar{x})^2}\n",
    "\\end{equation}\n",
    "\n",
    "\\begin{equation}\n",
    "b = \\bar{y} - a\\bar{x}\n",
    "\\end{equation}\n",
    "\n",
    "$\\bar{x} = mean(x)$, $\\bar{y} = mean(y)$"
   ]
  },
  {
   "cell_type": "markdown",
   "id": "e0b2fd88-9bbe-4f1f-b6e7-c3ce832afabf",
   "metadata": {},
   "source": [
    "**2 - Compute the coefficients $a$ and $b$ and plot the estimation of the house prices on top of the scatter plot**"
   ]
  },
  {
   "cell_type": "code",
   "execution_count": 52,
   "id": "7236b387-4882-44db-b44d-f05e40d9c62d",
   "metadata": {},
   "outputs": [],
   "source": [
    "def compute_linear_regression_coef(X, y):\n",
    "    numerator_a = np.sum((X + np.mean(X))*(price - np.mean(y)))\n",
    "    denominator_a = np.sum((X - np.mean(X))**2)\n",
    "    a = numerator_a / denominator_a\n",
    "    b = np.mean(y) - a * np.mean(X)\n",
    "    return a, b\n",
    "\n",
    "def estimate_price(X, a, b):\n",
    "    return a * X + b\n",
    "\n",
    "a, b = compute_linear_regression_coef(square_meters, price)\n",
    "y_pred = estimate_price(square_meters, a, b)"
   ]
  },
  {
   "cell_type": "code",
   "execution_count": 53,
   "id": "46683d30-64c2-454d-849d-d934d483d6ae",
   "metadata": {},
   "outputs": [
    {
     "data": {
      "text/plain": [
       "Text(0.5, 1.02, 'House price')"
      ]
     },
     "execution_count": 53,
     "metadata": {},
     "output_type": "execute_result"
    },
    {
     "data": {
      "image/png": "[encoded data removed]",
      "text/plain": [
       "<Figure size 432x288 with 1 Axes>"
      ]
     },
     "metadata": {
      "needs_background": "light"
     },
     "output_type": "display_data"
    }
   ],
   "source": [
    "import matplotlib.pyplot as plt\n",
    "plt.scatter(square_meters, price, marker='x', c='k', s=64)\n",
    "plt.plot(square_meters, y_pred, c='r')\n",
    "plt.xlabel('square meters (m\\u00b2)', fontsize=16)\n",
    "plt.ylabel('price (hryvnia)', fontsize=16)\n",
    "plt.title('House price', fontsize=20, y=1.02)"
   ]
  },
  {
   "cell_type": "markdown",
   "id": "4111669d-701a-4d0b-8d2d-cf58be9afed2",
   "metadata": {},
   "source": [
    "<h4>Sklearn linear regression</h4>"
   ]
  },
  {
   "cell_type": "markdown",
   "id": "3c54458d-bb66-47fb-957a-088090fc8723",
   "metadata": {},
   "source": [
    "We will now use the build-in linear regression model from Sklearn. Taken from the documentation page https://scikit-learn.org/stable/modules/generated/sklearn.linear_model.LinearRegression.html:\n",
    "\n",
    "\"Ordinary least squares Linear Regression.\n",
    "\n",
    "LinearRegression fits a linear model with coefficients w = (w1, …, wp) to minimize the residual sum of squares between the observed targets in the dataset, and the targets predicted by the linear approximation.\""
   ]
  },
  {
   "cell_type": "code",
   "execution_count": 54,
   "id": "923a2b69-2cbb-404c-8d67-82a050037959",
   "metadata": {},
   "outputs": [
    {
     "data": {
      "text/plain": [
       "array([[ 50],\n",
       "       [ 51],\n",
       "       [ 62],\n",
       "       [ 78],\n",
       "       [ 81],\n",
       "       [ 85],\n",
       "       [101],\n",
       "       [102],\n",
       "       [120],\n",
       "       [135],\n",
       "       [141],\n",
       "       [170]])"
      ]
     },
     "execution_count": 54,
     "metadata": {},
     "output_type": "execute_result"
    }
   ],
   "source": [
    "square_meters.reshape(-1,1)"
   ]
  },
  {
   "cell_type": "code",
   "execution_count": 55,
   "id": "4a9a858a-1371-4fbb-b44e-ad56dec1e554",
   "metadata": {},
   "outputs": [],
   "source": [
    "from sklearn.linear_model import LinearRegression\n",
    "\n",
    "linear_regression = LinearRegression()\n",
    "X = square_meters.reshape(-1,1)\n",
    "y = price\n",
    "linear_regression.fit(X, y)\n",
    "y_pred = linear_regression.predict(X)"
   ]
  },
  {
   "cell_type": "code",
   "execution_count": 56,
   "id": "4a825a94-f1a2-4301-8ba6-41202dfbd043",
   "metadata": {},
   "outputs": [
    {
     "data": {
      "text/plain": [
       "Text(0.5, 1.02, 'House price')"
      ]
     },
     "execution_count": 56,
     "metadata": {},
     "output_type": "execute_result"
    },
    {
     "data": {
      "image/png": "[encoded data removed]",
      "text/plain": [
       "<Figure size 432x288 with 1 Axes>"
      ]
     },
     "metadata": {
      "needs_background": "light"
     },
     "output_type": "display_data"
    }
   ],
   "source": [
    "plt.scatter(square_meters, price, marker='x', c='k', s=64)\n",
    "plt.plot(square_meters, y_pred, c='r')\n",
    "plt.xlabel('square meters (m\\u00b2)', fontsize=16)\n",
    "plt.ylabel('price (hryvnia)', fontsize=16)\n",
    "plt.title('House price', fontsize=20, y=1.02)"
   ]
  },
  {
   "cell_type": "code",
   "execution_count": 57,
   "id": "e9b5a6bb-bb46-44a2-8dc8-9550987bfd3f",
   "metadata": {},
   "outputs": [
    {
     "name": "stdout",
     "output_type": "stream",
     "text": [
      "4137.629991012969\n",
      "-23654.405785937677\n"
     ]
    }
   ],
   "source": [
    "print(a)\n",
    "print(b)"
   ]
  },
  {
   "cell_type": "code",
   "execution_count": 58,
   "id": "25f0f0d1-a73d-4b68-b245-4f1979ee09a6",
   "metadata": {},
   "outputs": [
    {
     "data": {
      "text/plain": [
       "array([4137.62999101])"
      ]
     },
     "execution_count": 58,
     "metadata": {},
     "output_type": "execute_result"
    }
   ],
   "source": [
    "linear_regression.coef_"
   ]
  },
  {
   "cell_type": "code",
   "execution_count": 59,
   "id": "b9b39ea6-1fca-4ec2-8ad8-6ff385765651",
   "metadata": {},
   "outputs": [
    {
     "data": {
      "text/plain": [
       "-23654.405785937503"
      ]
     },
     "execution_count": 59,
     "metadata": {},
     "output_type": "execute_result"
    }
   ],
   "source": [
    "linear_regression.intercept_"
   ]
  },
  {
   "cell_type": "markdown",
   "id": "1af53791-a18f-472f-b7db-ff37834bfb3c",
   "metadata": {
    "tags": []
   },
   "source": [
    "<h5>Extra exercise</h5>"
   ]
  },
  {
   "cell_type": "markdown",
   "id": "d2fbf3cd-df85-4f06-b03e-a41b59290003",
   "metadata": {},
   "source": [
    "Write your own univariate linear model class. It should have two methods: a `fit` method that allows you to fit your model given some X and y (it should update the attributes `a` and `b`) and a predict method in which you can use the trained model to predict new y given X. Create an instance of the class, fit it with `square_meters`, `price` data and predict the  price for the following houses:"
   ]
  },
  {
   "cell_type": "code",
   "execution_count": 60,
   "id": "916ef600-4aca-487d-8019-119af384aa75",
   "metadata": {},
   "outputs": [],
   "source": [
    "new_houses = np.array([66, 72, 128, 425])"
   ]
  },
  {
   "cell_type": "markdown",
   "id": "4d269ad7-b882-4678-a90b-da2eb5f3f9c7",
   "metadata": {},
   "source": [
    "Do you get the same coefficients as before?"
   ]
  },
  {
   "cell_type": "code",
   "execution_count": 61,
   "id": "af5c67f8-2375-4221-8288-efcca77f7709",
   "metadata": {},
   "outputs": [
    {
     "name": "stdout",
     "output_type": "stream",
     "text": [
      "4137.629991012969\n",
      "-23654.405785937677\n"
     ]
    }
   ],
   "source": [
    "class LinearModel:\n",
    "    def __init__(self):\n",
    "        self.a = 0\n",
    "        self.b = 0\n",
    "    \n",
    "    def fit(self, X, y):\n",
    "        # write your code here\n",
    "        X, y = X.flatten(), y.flatten()\n",
    "        numerator_a = np.sum((X + np.mean(X))*(price - np.mean(y)))\n",
    "        denominator_a = np.sum((X - np.mean(X))**2)\n",
    "        self.a = numerator_a / denominator_a\n",
    "        self.b = np.mean(y) - self.a * np.mean(X)\n",
    "    \n",
    "    def predict(self, X):\n",
    "        # write your code here\n",
    "        return self.a * X.flatten() + self.b\n",
    "    \n",
    "linear_model = LinearModel()\n",
    "linear_model.fit(X, y)\n",
    "print(linear_model.a)\n",
    "print(linear_model.b)\n",
    "y_pred = linear_model.predict(X)"
   ]
  },
  {
   "cell_type": "code",
   "execution_count": 62,
   "id": "8693e448-5d1d-4455-8fd8-5ec6fb4c43be",
   "metadata": {},
   "outputs": [
    {
     "data": {
      "text/plain": [
       "Text(0.5, 1.02, 'House price')"
      ]
     },
     "execution_count": 62,
     "metadata": {},
     "output_type": "execute_result"
    },
    {
     "data": {
      "image/png": "[encoded data removed]",
      "text/plain": [
       "<Figure size 432x288 with 1 Axes>"
      ]
     },
     "metadata": {
      "needs_background": "light"
     },
     "output_type": "display_data"
    }
   ],
   "source": [
    "plt.scatter(square_meters, price, marker='x', c='k', s=64)\n",
    "plt.plot(square_meters, y_pred, c='r')\n",
    "plt.xlabel('square meters (m\\u00b2)', fontsize=16)\n",
    "plt.ylabel('price (hryvnia)', fontsize=16)\n",
    "plt.title('House price', fontsize=20, y=1.02)"
   ]
  },
  {
   "cell_type": "code",
   "execution_count": 63,
   "id": "29f863b7-1358-44b1-9ae0-43574029c7eb",
   "metadata": {},
   "outputs": [
    {
     "name": "stdout",
     "output_type": "stream",
     "text": [
      "new houses square meters: [ 66  72 128 425]\n",
      "new houses price (hryvnia): [ 249429.17362092  274254.953567    505962.23306372 1734838.34039457]\n"
     ]
    }
   ],
   "source": [
    "print('new houses square meters:', new_houses)\n",
    "print('new houses price (hryvnia):', linear_model.predict(new_houses))"
   ]
  },
  {
   "cell_type": "markdown",
   "id": "eb454221-52db-4765-844b-6fe717a3bd7a",
   "metadata": {},
   "source": [
    "<h4>Mean squared error</h4>"
   ]
  },
  {
   "cell_type": "markdown",
   "id": "174d07d6-de2d-49d7-b78b-d5c47c9fd490",
   "metadata": {},
   "source": [
    "The mean squared error is defined as follows:\n",
    "\n",
    "\\begin{equation}\n",
    "\\frac{1}{n}\\sum_{i=0}^{n}(Y_i - \\hat{Y}_i)^2\n",
    "\\end{equation}"
   ]
  },
  {
   "cell_type": "markdown",
   "id": "bd30d5a5-287c-4b15-abc6-9349ce93f591",
   "metadata": {},
   "source": [
    "**1 - Compute the mean squared error of the linear regression model that we just fitted**"
   ]
  },
  {
   "cell_type": "code",
   "execution_count": 64,
   "id": "b2b47c1a-e9bb-4f6d-9d07-19cc717c5354",
   "metadata": {},
   "outputs": [
    {
     "data": {
      "text/plain": [
       "548215663.8279055"
      ]
     },
     "execution_count": 64,
     "metadata": {},
     "output_type": "execute_result"
    }
   ],
   "source": [
    "mean_squared_error_model = np.mean((price - y_pred)**2)\n",
    "mean_squared_error_model"
   ]
  },
  {
   "cell_type": "code",
   "execution_count": 65,
   "id": "bec5eb22-d56f-4bd0-886f-36303313ad29",
   "metadata": {},
   "outputs": [
    {
     "data": {
      "text/plain": [
       "23414.005719395933"
      ]
     },
     "execution_count": 65,
     "metadata": {},
     "output_type": "execute_result"
    }
   ],
   "source": [
    "root_mean_squared_error_model = np.sqrt(mean_squared_error_model)\n",
    "root_mean_squared_error_model"
   ]
  },
  {
   "cell_type": "code",
   "execution_count": 66,
   "id": "786cdd71-0bda-4c72-b459-51da5c1992ed",
   "metadata": {},
   "outputs": [
    {
     "data": {
      "text/plain": [
       "0.043259068640620624"
      ]
     },
     "execution_count": 66,
     "metadata": {},
     "output_type": "execute_result"
    }
   ],
   "source": [
    "mean_absolute_percentage_error = np.mean(np.abs((y - y_pred) / y))\n",
    "mean_absolute_percentage_error"
   ]
  },
  {
   "cell_type": "markdown",
   "id": "16a01e90-a98d-4eaa-83f9-4e08b3d18188",
   "metadata": {},
   "source": [
    "**2 - Use sklearn's mean squared error function and compare the results with the previous one**"
   ]
  },
  {
   "cell_type": "code",
   "execution_count": 67,
   "id": "07016951-c91a-4cd0-bf20-ecaec21eb2b9",
   "metadata": {},
   "outputs": [],
   "source": [
    "from sklearn.metrics import mean_squared_error"
   ]
  },
  {
   "cell_type": "code",
   "execution_count": 68,
   "id": "1fe28610-e73d-44a3-a918-9b03798d54bb",
   "metadata": {},
   "outputs": [
    {
     "name": "stdout",
     "output_type": "stream",
     "text": [
      "548215663.8279055\n"
     ]
    }
   ],
   "source": [
    "msem = mean_squared_error(y, y_pred)\n",
    "print(msem)"
   ]
  },
  {
   "cell_type": "markdown",
   "id": "3264242d-d6f6-43a2-92f1-df9c12585a7d",
   "metadata": {},
   "source": [
    "<h4>Coefficient of determination</h4>"
   ]
  },
  {
   "cell_type": "markdown",
   "id": "e8e711f3-d702-46a7-9c35-222e848098be",
   "metadata": {},
   "source": [
    "Calculate the coefficient of determination $R^2$ of the model"
   ]
  },
  {
   "cell_type": "code",
   "execution_count": 69,
   "id": "140d0278-42d6-4511-9235-67acd162e038",
   "metadata": {},
   "outputs": [
    {
     "data": {
      "text/plain": [
       "0.9759267402301178"
      ]
     },
     "execution_count": 69,
     "metadata": {},
     "output_type": "execute_result"
    }
   ],
   "source": [
    "r_2 = 1 - (mean_squared_error_model / np.var(y))\n",
    "r_2"
   ]
  },
  {
   "cell_type": "code",
   "execution_count": 70,
   "id": "927a6cdf-309c-43b8-9b06-96fdd93dfafe",
   "metadata": {},
   "outputs": [
    {
     "data": {
      "text/plain": [
       "0.9759267402301178"
      ]
     },
     "execution_count": 70,
     "metadata": {},
     "output_type": "execute_result"
    }
   ],
   "source": [
    "from sklearn.metrics import r2_score\n",
    "r2 = r2_score(y, y_pred)\n",
    "r2"
   ]
  },
  {
   "cell_type": "markdown",
   "id": "33da94bb-452a-45d4-86e9-8d34da4ead10",
   "metadata": {
    "tags": []
   },
   "source": [
    "<h4> Pandas </h4>"
   ]
  },
  {
   "cell_type": "markdown",
   "id": "91ef5009-cf62-4256-949b-38ecdcc06dc3",
   "metadata": {},
   "source": [
    "The two primary data structures in pandas as Series and Dataframes, which allow for efficient handling and manipulation of tabular data. Let's see how we can use pandas to load and treat data from a dataset of breast tumor cells."
   ]
  },
  {
   "cell_type": "code",
   "execution_count": 71,
   "id": "5906c60d-af95-4805-a0a4-cc64ad77132e",
   "metadata": {},
   "outputs": [],
   "source": [
    "import pandas as pd\n",
    "\n",
    "breast_cancer = pd.read_csv('breast_cancer.csv')"
   ]
  },
  {
   "cell_type": "code",
   "execution_count": 72,
   "id": "5ddf840c-21e6-4b02-a596-0602aeee6861",
   "metadata": {},
   "outputs": [
    {
     "data": {
      "text/html": [
       "<div>\n",
       "<style scoped>\n",
       "    .dataframe tbody tr th:only-of-type {\n",
       "        vertical-align: middle;\n",
       "    }\n",
       "\n",
       "    .dataframe tbody tr th {\n",
       "        vertical-align: top;\n",
       "    }\n",
       "\n",
       "    .dataframe thead th {\n",
       "        text-align: right;\n",
       "    }\n",
       "</style>\n",
       "<table border=\"1\" class=\"dataframe\">\n",
       "  <thead>\n",
       "    <tr style=\"text-align: right;\">\n",
       "      <th></th>\n",
       "      <th>x.radius_mean</th>\n",
       "      <th>x.texture_mean</th>\n",
       "      <th>x.perimeter_mean</th>\n",
       "      <th>x.area_mean</th>\n",
       "      <th>x.smoothness_mean</th>\n",
       "      <th>x.compactness_mean</th>\n",
       "      <th>x.concavity_mean</th>\n",
       "      <th>x.concave_pts_mean</th>\n",
       "      <th>x.symmetry_mean</th>\n",
       "      <th>x.fractal_dim_mean</th>\n",
       "      <th>...</th>\n",
       "      <th>x.texture_worst</th>\n",
       "      <th>x.perimeter_worst</th>\n",
       "      <th>x.area_worst</th>\n",
       "      <th>x.smoothness_worst</th>\n",
       "      <th>x.compactness_worst</th>\n",
       "      <th>x.concavity_worst</th>\n",
       "      <th>x.concave_pts_worst</th>\n",
       "      <th>x.symmetry_worst</th>\n",
       "      <th>x.fractal_dim_worst</th>\n",
       "      <th>y</th>\n",
       "    </tr>\n",
       "  </thead>\n",
       "  <tbody>\n",
       "    <tr>\n",
       "      <th>0</th>\n",
       "      <td>13.540</td>\n",
       "      <td>14.36</td>\n",
       "      <td>87.46</td>\n",
       "      <td>566.3</td>\n",
       "      <td>0.09779</td>\n",
       "      <td>0.08129</td>\n",
       "      <td>0.06664</td>\n",
       "      <td>0.047810</td>\n",
       "      <td>0.1885</td>\n",
       "      <td>0.05766</td>\n",
       "      <td>...</td>\n",
       "      <td>19.26</td>\n",
       "      <td>99.70</td>\n",
       "      <td>711.2</td>\n",
       "      <td>0.14400</td>\n",
       "      <td>0.17730</td>\n",
       "      <td>0.23900</td>\n",
       "      <td>0.12880</td>\n",
       "      <td>0.2977</td>\n",
       "      <td>0.07259</td>\n",
       "      <td>B</td>\n",
       "    </tr>\n",
       "    <tr>\n",
       "      <th>1</th>\n",
       "      <td>13.080</td>\n",
       "      <td>15.71</td>\n",
       "      <td>85.63</td>\n",
       "      <td>520.0</td>\n",
       "      <td>0.10750</td>\n",
       "      <td>0.12700</td>\n",
       "      <td>0.04568</td>\n",
       "      <td>0.031100</td>\n",
       "      <td>0.1967</td>\n",
       "      <td>0.06811</td>\n",
       "      <td>...</td>\n",
       "      <td>20.49</td>\n",
       "      <td>96.09</td>\n",
       "      <td>630.5</td>\n",
       "      <td>0.13120</td>\n",
       "      <td>0.27760</td>\n",
       "      <td>0.18900</td>\n",
       "      <td>0.07283</td>\n",
       "      <td>0.3184</td>\n",
       "      <td>0.08183</td>\n",
       "      <td>B</td>\n",
       "    </tr>\n",
       "    <tr>\n",
       "      <th>2</th>\n",
       "      <td>9.504</td>\n",
       "      <td>12.44</td>\n",
       "      <td>60.34</td>\n",
       "      <td>273.9</td>\n",
       "      <td>0.10240</td>\n",
       "      <td>0.06492</td>\n",
       "      <td>0.02956</td>\n",
       "      <td>0.020760</td>\n",
       "      <td>0.1815</td>\n",
       "      <td>0.06905</td>\n",
       "      <td>...</td>\n",
       "      <td>15.66</td>\n",
       "      <td>65.13</td>\n",
       "      <td>314.9</td>\n",
       "      <td>0.13240</td>\n",
       "      <td>0.11480</td>\n",
       "      <td>0.08867</td>\n",
       "      <td>0.06227</td>\n",
       "      <td>0.2450</td>\n",
       "      <td>0.07773</td>\n",
       "      <td>B</td>\n",
       "    </tr>\n",
       "    <tr>\n",
       "      <th>3</th>\n",
       "      <td>13.030</td>\n",
       "      <td>18.42</td>\n",
       "      <td>82.61</td>\n",
       "      <td>523.8</td>\n",
       "      <td>0.08983</td>\n",
       "      <td>0.03766</td>\n",
       "      <td>0.02562</td>\n",
       "      <td>0.029230</td>\n",
       "      <td>0.1467</td>\n",
       "      <td>0.05863</td>\n",
       "      <td>...</td>\n",
       "      <td>22.81</td>\n",
       "      <td>84.46</td>\n",
       "      <td>545.9</td>\n",
       "      <td>0.09701</td>\n",
       "      <td>0.04619</td>\n",
       "      <td>0.04833</td>\n",
       "      <td>0.05013</td>\n",
       "      <td>0.1987</td>\n",
       "      <td>0.06169</td>\n",
       "      <td>B</td>\n",
       "    </tr>\n",
       "    <tr>\n",
       "      <th>4</th>\n",
       "      <td>8.196</td>\n",
       "      <td>16.84</td>\n",
       "      <td>51.71</td>\n",
       "      <td>201.9</td>\n",
       "      <td>0.08600</td>\n",
       "      <td>0.05943</td>\n",
       "      <td>0.01588</td>\n",
       "      <td>0.005917</td>\n",
       "      <td>0.1769</td>\n",
       "      <td>0.06503</td>\n",
       "      <td>...</td>\n",
       "      <td>21.96</td>\n",
       "      <td>57.26</td>\n",
       "      <td>242.2</td>\n",
       "      <td>0.12970</td>\n",
       "      <td>0.13570</td>\n",
       "      <td>0.06880</td>\n",
       "      <td>0.02564</td>\n",
       "      <td>0.3105</td>\n",
       "      <td>0.07409</td>\n",
       "      <td>B</td>\n",
       "    </tr>\n",
       "    <tr>\n",
       "      <th>...</th>\n",
       "      <td>...</td>\n",
       "      <td>...</td>\n",
       "      <td>...</td>\n",
       "      <td>...</td>\n",
       "      <td>...</td>\n",
       "      <td>...</td>\n",
       "      <td>...</td>\n",
       "      <td>...</td>\n",
       "      <td>...</td>\n",
       "      <td>...</td>\n",
       "      <td>...</td>\n",
       "      <td>...</td>\n",
       "      <td>...</td>\n",
       "      <td>...</td>\n",
       "      <td>...</td>\n",
       "      <td>...</td>\n",
       "      <td>...</td>\n",
       "      <td>...</td>\n",
       "      <td>...</td>\n",
       "      <td>...</td>\n",
       "      <td>...</td>\n",
       "    </tr>\n",
       "    <tr>\n",
       "      <th>564</th>\n",
       "      <td>20.920</td>\n",
       "      <td>25.09</td>\n",
       "      <td>143.00</td>\n",
       "      <td>1347.0</td>\n",
       "      <td>0.10990</td>\n",
       "      <td>0.22360</td>\n",
       "      <td>0.31740</td>\n",
       "      <td>0.147400</td>\n",
       "      <td>0.2149</td>\n",
       "      <td>0.06879</td>\n",
       "      <td>...</td>\n",
       "      <td>29.41</td>\n",
       "      <td>179.10</td>\n",
       "      <td>1819.0</td>\n",
       "      <td>0.14070</td>\n",
       "      <td>0.41860</td>\n",
       "      <td>0.65990</td>\n",
       "      <td>0.25420</td>\n",
       "      <td>0.2929</td>\n",
       "      <td>0.09873</td>\n",
       "      <td>M</td>\n",
       "    </tr>\n",
       "    <tr>\n",
       "      <th>565</th>\n",
       "      <td>21.560</td>\n",
       "      <td>22.39</td>\n",
       "      <td>142.00</td>\n",
       "      <td>1479.0</td>\n",
       "      <td>0.11100</td>\n",
       "      <td>0.11590</td>\n",
       "      <td>0.24390</td>\n",
       "      <td>0.138900</td>\n",
       "      <td>0.1726</td>\n",
       "      <td>0.05623</td>\n",
       "      <td>...</td>\n",
       "      <td>26.40</td>\n",
       "      <td>166.10</td>\n",
       "      <td>2027.0</td>\n",
       "      <td>0.14100</td>\n",
       "      <td>0.21130</td>\n",
       "      <td>0.41070</td>\n",
       "      <td>0.22160</td>\n",
       "      <td>0.2060</td>\n",
       "      <td>0.07115</td>\n",
       "      <td>M</td>\n",
       "    </tr>\n",
       "    <tr>\n",
       "      <th>566</th>\n",
       "      <td>20.130</td>\n",
       "      <td>28.25</td>\n",
       "      <td>131.20</td>\n",
       "      <td>1261.0</td>\n",
       "      <td>0.09780</td>\n",
       "      <td>0.10340</td>\n",
       "      <td>0.14400</td>\n",
       "      <td>0.097910</td>\n",
       "      <td>0.1752</td>\n",
       "      <td>0.05533</td>\n",
       "      <td>...</td>\n",
       "      <td>38.25</td>\n",
       "      <td>155.00</td>\n",
       "      <td>1731.0</td>\n",
       "      <td>0.11660</td>\n",
       "      <td>0.19220</td>\n",
       "      <td>0.32150</td>\n",
       "      <td>0.16280</td>\n",
       "      <td>0.2572</td>\n",
       "      <td>0.06637</td>\n",
       "      <td>M</td>\n",
       "    </tr>\n",
       "    <tr>\n",
       "      <th>567</th>\n",
       "      <td>16.600</td>\n",
       "      <td>28.08</td>\n",
       "      <td>108.30</td>\n",
       "      <td>858.1</td>\n",
       "      <td>0.08455</td>\n",
       "      <td>0.10230</td>\n",
       "      <td>0.09251</td>\n",
       "      <td>0.053020</td>\n",
       "      <td>0.1590</td>\n",
       "      <td>0.05648</td>\n",
       "      <td>...</td>\n",
       "      <td>34.12</td>\n",
       "      <td>126.70</td>\n",
       "      <td>1124.0</td>\n",
       "      <td>0.11390</td>\n",
       "      <td>0.30940</td>\n",
       "      <td>0.34030</td>\n",
       "      <td>0.14180</td>\n",
       "      <td>0.2218</td>\n",
       "      <td>0.07820</td>\n",
       "      <td>M</td>\n",
       "    </tr>\n",
       "    <tr>\n",
       "      <th>568</th>\n",
       "      <td>20.600</td>\n",
       "      <td>29.33</td>\n",
       "      <td>140.10</td>\n",
       "      <td>1265.0</td>\n",
       "      <td>0.11780</td>\n",
       "      <td>0.27700</td>\n",
       "      <td>0.35140</td>\n",
       "      <td>0.152000</td>\n",
       "      <td>0.2397</td>\n",
       "      <td>0.07016</td>\n",
       "      <td>...</td>\n",
       "      <td>39.42</td>\n",
       "      <td>184.60</td>\n",
       "      <td>1821.0</td>\n",
       "      <td>0.16500</td>\n",
       "      <td>0.86810</td>\n",
       "      <td>0.93870</td>\n",
       "      <td>0.26500</td>\n",
       "      <td>0.4087</td>\n",
       "      <td>0.12400</td>\n",
       "      <td>M</td>\n",
       "    </tr>\n",
       "  </tbody>\n",
       "</table>\n",
       "<p>569 rows × 31 columns</p>\n",
       "</div>"
      ],
      "text/plain": [
       "     x.radius_mean  x.texture_mean  x.perimeter_mean  x.area_mean  \\\n",
       "0           13.540           14.36             87.46        566.3   \n",
       "1           13.080           15.71             85.63        520.0   \n",
       "2            9.504           12.44             60.34        273.9   \n",
       "3           13.030           18.42             82.61        523.8   \n",
       "4            8.196           16.84             51.71        201.9   \n",
       "..             ...             ...               ...          ...   \n",
       "564         20.920           25.09            143.00       1347.0   \n",
       "565         21.560           22.39            142.00       1479.0   \n",
       "566         20.130           28.25            131.20       1261.0   \n",
       "567         16.600           28.08            108.30        858.1   \n",
       "568         20.600           29.33            140.10       1265.0   \n",
       "\n",
       "     x.smoothness_mean  x.compactness_mean  x.concavity_mean  \\\n",
       "0              0.09779             0.08129           0.06664   \n",
       "1              0.10750             0.12700           0.04568   \n",
       "2              0.10240             0.06492           0.02956   \n",
       "3              0.08983             0.03766           0.02562   \n",
       "4              0.08600             0.05943           0.01588   \n",
       "..                 ...                 ...               ...   \n",
       "564            0.10990             0.22360           0.31740   \n",
       "565            0.11100             0.11590           0.24390   \n",
       "566            0.09780             0.10340           0.14400   \n",
       "567            0.08455             0.10230           0.09251   \n",
       "568            0.11780             0.27700           0.35140   \n",
       "\n",
       "     x.concave_pts_mean  x.symmetry_mean  x.fractal_dim_mean  ...  \\\n",
       "0              0.047810           0.1885             0.05766  ...   \n",
       "1              0.031100           0.1967             0.06811  ...   \n",
       "2              0.020760           0.1815             0.06905  ...   \n",
       "3              0.029230           0.1467             0.05863  ...   \n",
       "4              0.005917           0.1769             0.06503  ...   \n",
       "..                  ...              ...                 ...  ...   \n",
       "564            0.147400           0.2149             0.06879  ...   \n",
       "565            0.138900           0.1726             0.05623  ...   \n",
       "566            0.097910           0.1752             0.05533  ...   \n",
       "567            0.053020           0.1590             0.05648  ...   \n",
       "568            0.152000           0.2397             0.07016  ...   \n",
       "\n",
       "     x.texture_worst  x.perimeter_worst  x.area_worst  x.smoothness_worst  \\\n",
       "0              19.26              99.70         711.2             0.14400   \n",
       "1              20.49              96.09         630.5             0.13120   \n",
       "2              15.66              65.13         314.9             0.13240   \n",
       "3              22.81              84.46         545.9             0.09701   \n",
       "4              21.96              57.26         242.2             0.12970   \n",
       "..               ...                ...           ...                 ...   \n",
       "564            29.41             179.10        1819.0             0.14070   \n",
       "565            26.40             166.10        2027.0             0.14100   \n",
       "566            38.25             155.00        1731.0             0.11660   \n",
       "567            34.12             126.70        1124.0             0.11390   \n",
       "568            39.42             184.60        1821.0             0.16500   \n",
       "\n",
       "     x.compactness_worst  x.concavity_worst  x.concave_pts_worst  \\\n",
       "0                0.17730            0.23900              0.12880   \n",
       "1                0.27760            0.18900              0.07283   \n",
       "2                0.11480            0.08867              0.06227   \n",
       "3                0.04619            0.04833              0.05013   \n",
       "4                0.13570            0.06880              0.02564   \n",
       "..                   ...                ...                  ...   \n",
       "564              0.41860            0.65990              0.25420   \n",
       "565              0.21130            0.41070              0.22160   \n",
       "566              0.19220            0.32150              0.16280   \n",
       "567              0.30940            0.34030              0.14180   \n",
       "568              0.86810            0.93870              0.26500   \n",
       "\n",
       "     x.symmetry_worst  x.fractal_dim_worst  y  \n",
       "0              0.2977              0.07259  B  \n",
       "1              0.3184              0.08183  B  \n",
       "2              0.2450              0.07773  B  \n",
       "3              0.1987              0.06169  B  \n",
       "4              0.3105              0.07409  B  \n",
       "..                ...                  ... ..  \n",
       "564            0.2929              0.09873  M  \n",
       "565            0.2060              0.07115  M  \n",
       "566            0.2572              0.06637  M  \n",
       "567            0.2218              0.07820  M  \n",
       "568            0.4087              0.12400  M  \n",
       "\n",
       "[569 rows x 31 columns]"
      ]
     },
     "execution_count": 72,
     "metadata": {},
     "output_type": "execute_result"
    }
   ],
   "source": [
    "breast_cancer"
   ]
  },
  {
   "cell_type": "markdown",
   "id": "8fb425bc-9070-43a7-8efd-4f748c66153c",
   "metadata": {},
   "source": [
    "Each row in the table is an observation, and each column is a characteristic. In our example, the columns are characteristics of cell nuclei in breast tumors. The last column represents the target. 'M' means that the observation corresponds to malignant tumor, while 'B' means that the tumor is benign."
   ]
  },
  {
   "cell_type": "code",
   "execution_count": 73,
   "id": "1b8d8249-8269-46c4-9ae9-3dff1fcf76d7",
   "metadata": {},
   "outputs": [
    {
     "data": {
      "text/plain": [
       "Index(['x.radius_mean', 'x.texture_mean', 'x.perimeter_mean', 'x.area_mean',\n",
       "       'x.smoothness_mean', 'x.compactness_mean', 'x.concavity_mean',\n",
       "       'x.concave_pts_mean', 'x.symmetry_mean', 'x.fractal_dim_mean',\n",
       "       'x.radius_se', 'x.texture_se', 'x.perimeter_se', 'x.area_se',\n",
       "       'x.smoothness_se', 'x.compactness_se', 'x.concavity_se',\n",
       "       'x.concave_pts_se', 'x.symmetry_se', 'x.fractal_dim_se',\n",
       "       'x.radius_worst', 'x.texture_worst', 'x.perimeter_worst',\n",
       "       'x.area_worst', 'x.smoothness_worst', 'x.compactness_worst',\n",
       "       'x.concavity_worst', 'x.concave_pts_worst', 'x.symmetry_worst',\n",
       "       'x.fractal_dim_worst', 'y'],\n",
       "      dtype='object')"
      ]
     },
     "execution_count": 73,
     "metadata": {},
     "output_type": "execute_result"
    }
   ],
   "source": [
    "breast_cancer.columns"
   ]
  },
  {
   "cell_type": "markdown",
   "id": "f6efc60f-3841-41d6-a92f-46819804b4de",
   "metadata": {
    "tags": []
   },
   "source": [
    "<h4> Train/test split </h4>\n",
    "We want to split the data randomly and select 80% for train and 20% for test. Shuffle the columns (X) and select the first 80% for train and the last 20% for test (hint: use np.random.shuffle)"
   ]
  },
  {
   "cell_type": "code",
   "execution_count": 74,
   "id": "0f5c405a-0211-4979-9e20-3a1d196fbf9a",
   "metadata": {},
   "outputs": [],
   "source": [
    "data = breast_cancer.to_numpy()"
   ]
  },
  {
   "cell_type": "code",
   "execution_count": 75,
   "id": "78eec45d-c746-46c6-97ba-264251822450",
   "metadata": {},
   "outputs": [],
   "source": [
    "data[:,-1][data[:,-1] == 'B'] = 0\n",
    "data[:,-1][data[:,-1] == 'M'] = 1\n",
    "data = data.astype(np.float32)"
   ]
  },
  {
   "cell_type": "code",
   "execution_count": 76,
   "id": "6af4c3a5-0ac2-4aa4-a4c0-8d2af4351bed",
   "metadata": {},
   "outputs": [],
   "source": [
    "from sklearn.model_selection import train_test_split\n",
    "\n",
    "X = data[:,:-1]\n",
    "y = data[:,-1]\n",
    "X_train, X_test, y_train, y_test = train_test_split(X, y, test_size=0.2, stratify=y)"
   ]
  },
  {
   "cell_type": "markdown",
   "id": "92e191b2-e774-4f88-98f9-19be4b6546cd",
   "metadata": {
    "tags": []
   },
   "source": [
    "<h4>Data standardization</h4>"
   ]
  },
  {
   "cell_type": "markdown",
   "id": "4c781078-049d-4af8-88fb-f7a51a103f41",
   "metadata": {},
   "source": [
    "It is generally a good practice to standardize data that is normally distributed so that it has mean = 0 and standard deviation = 1"
   ]
  },
  {
   "cell_type": "code",
   "execution_count": 77,
   "id": "7438d449-7bfb-4726-9bf5-d692ec819cf7",
   "metadata": {},
   "outputs": [],
   "source": [
    "train_mean = np.mean(X_train, axis=0)\n",
    "train_std = np.std(X_train, axis=0)\n",
    "X_train = (X_train - train_mean) / train_std\n",
    "X_test = (X_test - train_mean) / train_std"
   ]
  },
  {
   "cell_type": "markdown",
   "id": "2057f95a-b77b-46de-bc30-c4547f73890c",
   "metadata": {},
   "source": [
    "<h4>Logistic regression classifier</h4>"
   ]
  },
  {
   "cell_type": "code",
   "execution_count": 78,
   "id": "bff96bfc-a867-4faf-9633-c7b0d268354a",
   "metadata": {},
   "outputs": [],
   "source": [
    "from sklearn.linear_model import LogisticRegression\n",
    "\n",
    "logistic_classifier = LogisticRegression()\n",
    "logistic_classifier.fit(X_train, y_train)\n",
    "y_pred = logistic_classifier.predict(X_test)"
   ]
  },
  {
   "cell_type": "markdown",
   "id": "9c5f71ac-ff03-40c7-ab9d-035759c99b24",
   "metadata": {},
   "source": [
    "<h4> Metrics </h4>"
   ]
  },
  {
   "cell_type": "markdown",
   "id": "2484dffc-db35-45a3-972f-655baead04cd",
   "metadata": {},
   "source": [
    "Accuracy, precision, recall, F1 score"
   ]
  },
  {
   "cell_type": "code",
   "execution_count": 79,
   "id": "2184f585-228a-47f7-9276-2897ffe67f22",
   "metadata": {},
   "outputs": [],
   "source": [
    "TP = np.sum(y_pred * y_test)\n",
    "TN = np.sum((1 - y_pred) * (1 - y_test))\n",
    "FP = np.sum(y_pred * (1 - y_test))\n",
    "FN = np.sum((1 - y_pred) * y_test)\n",
    "\n",
    "accuracy = (TP + TN) / (TP + TN + FP + FN)\n",
    "precision = TP / (TP + FP)\n",
    "recall = TP / (FN + TP)\n",
    "f1 = (2 * precision * recall) / (precision + recall)"
   ]
  },
  {
   "cell_type": "code",
   "execution_count": 80,
   "id": "a2c57963-bd52-4217-82f8-c9bd1feac7c5",
   "metadata": {},
   "outputs": [
    {
     "name": "stdout",
     "output_type": "stream",
     "text": [
      "calculated accuracy: 0.95614034\n",
      "calculated precision: 0.974359\n",
      "calculated recall: 0.9047619\n",
      "calculated f1_score: 0.9382716384607751\n"
     ]
    }
   ],
   "source": [
    "print('calculated accuracy:', accuracy)\n",
    "print('calculated precision:', precision)\n",
    "print('calculated recall:', recall)\n",
    "print('calculated f1_score:', f1)"
   ]
  },
  {
   "cell_type": "code",
   "execution_count": 81,
   "id": "8f44990f-c779-43ed-9a41-512a4e33fb39",
   "metadata": {},
   "outputs": [],
   "source": [
    "from sklearn.metrics import accuracy_score, precision_score, recall_score, f1_score"
   ]
  },
  {
   "cell_type": "code",
   "execution_count": 82,
   "id": "f25506a0-38a6-4335-bb8d-31586943f522",
   "metadata": {},
   "outputs": [
    {
     "name": "stdout",
     "output_type": "stream",
     "text": [
      "sklearn accuracy: 0.956140350877193\n",
      "sklearn precision: 0.9743589743589743\n",
      "sklearn recall: 0.9047619047619048\n",
      "sklearn f1_score: 0.9382716049382716\n"
     ]
    }
   ],
   "source": [
    "print('sklearn accuracy:', accuracy_score(y_test, y_pred))\n",
    "print('sklearn precision:', precision_score(y_test, y_pred))\n",
    "print('sklearn recall:', recall_score(y_test, y_pred))\n",
    "print('sklearn f1_score:', f1_score(y_test, y_pred))"
   ]
  },
  {
   "cell_type": "markdown",
   "id": "cff6a7e2-db0a-4f62-9b4f-fecf2e45d836",
   "metadata": {},
   "source": [
    "<h5>Extra exercise</h5>\n",
    "Build your own standard scaler and normal scaler. "
   ]
  },
  {
   "cell_type": "code",
   "execution_count": 83,
   "id": "64e2f3f4-341c-4d5a-a4b7-57fe31033461",
   "metadata": {},
   "outputs": [],
   "source": [
    "from typing import Optional\n",
    "\n",
    "class StandardScaler:\n",
    "    def __init__(\n",
    "        self,\n",
    "        mean: Optional[float],\n",
    "        std: Optional[float],\n",
    "    ) -> None:\n",
    "        self.mean = mean\n",
    "        self.std = std\n",
    "\n",
    "    def fit(self, X):\n",
    "        #write your code here (solved)\n",
    "        self.mean = np.mean(X, axis=0)\n",
    "        self.std = np.std(X, axis=0)\n",
    "    \n",
    "    def transform(self, X):\n",
    "        #write your code here (solved)\n",
    "        return (X - self.mean) / self.std\n",
    "        \n",
    "    def fit_transform(self, X):\n",
    "        #write your code here (solved)\n",
    "        self.fit(X)\n",
    "        return self.transform(X)"
   ]
  },
  {
   "cell_type": "code",
   "execution_count": 84,
   "id": "a965e9b1-fd11-4f94-b463-1b0bb5d16416",
   "metadata": {},
   "outputs": [],
   "source": [
    "class NormalScaler:\n",
    "    def __init__(\n",
    "        self,\n",
    "        max_value: Optional[float],\n",
    "        min_value: Optional[float],\n",
    "    ) -> None:\n",
    "        self.max_value = max_value\n",
    "        self.min_value = min_value\n",
    "\n",
    "    def fit(self, X):\n",
    "        #write your code here (solved)\n",
    "        self.max_value = np.max(X)\n",
    "        self.min_value = np.min(X)\n",
    "    \n",
    "    def transform(self, X):\n",
    "        #write your code here (solved)\n",
    "        return X - self.min_value / (self.max_value - self.min_value)\n",
    "        \n",
    "    def fit_transform(self, X):\n",
    "        self.fit(X)\n",
    "        return self.transform(X)"
   ]
  },
  {
   "cell_type": "markdown",
   "id": "befdeae8-d4c1-4029-870a-978ace9d4642",
   "metadata": {},
   "source": [
    "<h4>Exercise</h4>\n",
    "Train a logistic classifier with the data from the 'heart.csv' dataset.\n",
    "\n",
    "- Use pandas to load the dataset\n",
    "\n",
    "- Select the columns for X and the target y\n",
    "\n",
    "- Split the data in train and test splits with sklearn train_test_split function:\n",
    "https://scikit-learn.org/stable/modules/generated/sklearn.model_selection.train_test_split.html\n",
    "- Standardize X_train and X_test using Sklearn's standard scaler: \n",
    "https://scikit-learn.org/stable/modules/generated/sklearn.preprocessing.StandardScaler.html\n",
    "\n",
    "- Use Sklearn's LogisticClassifier:\n",
    "https://scikit-learn.org/stable/modules/generated/sklearn.linear_model.LogisticRegression.html\n",
    "\n",
    "- Compute the accuracy and recall on the test set with sklearn metrics:\n",
    "https://scikit-learn.org/stable/modules/generated/sklearn.metrics.accuracy_score.html\n",
    "https://scikit-learn.org/stable/modules/generated/sklearn.metrics.recall_score.html\n",
    "\n",
    "- Show the confusion matrix on the test set:\n",
    "https://scikit-learn.org/stable/modules/generated/sklearn.metrics.confusion_matrix.html"
   ]
  },
  {
   "cell_type": "code",
   "execution_count": null,
   "id": "1f01dbf7-2adf-43e7-9684-9bb60e7b36a7",
   "metadata": {},
   "outputs": [],
   "source": []
  }
 ],
 "metadata": {
  "kernelspec": {
   "display_name": "Python 3 (ipykernel)",
   "language": "python",
   "name": "python3"
  },
  "language_info": {
   "codemirror_mode": {
    "name": "ipython",
    "version": 3
   },
   "file_extension": ".py",
   "mimetype": "text/x-python",
   "name": "python",
   "nbconvert_exporter": "python",
   "pygments_lexer": "ipython3",
   "version": "3.8.10"
  }
 },
 "nbformat": 4,
 "nbformat_minor": 5
}
