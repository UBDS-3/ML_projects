{
 "cells": [
  {
   "cell_type": "markdown",
   "id": "f6c90f93-839f-492d-9e28-ed980cf2b061",
   "metadata": {},
   "source": [
    "<h3>Neural Network in Keras</h3>"
   ]
  },
  {
   "cell_type": "code",
   "execution_count": 2,
   "id": "ca240cd5-569a-48d4-ad06-b402c432f42b",
   "metadata": {},
   "outputs": [
    {
     "name": "stderr",
     "output_type": "stream",
     "text": [
      "2023-07-07 08:34:26.009981: I tensorflow/core/platform/cpu_feature_guard.cc:182] This TensorFlow binary is optimized to use available CPU instructions in performance-critical operations.\n",
      "To enable the following instructions: AVX2 FMA, in other operations, rebuild TensorFlow with the appropriate compiler flags.\n"
     ]
    }
   ],
   "source": [
    "import numpy as np\n",
    "import keras\n",
    "\n",
    "from keras.datasets import mnist\n",
    "\n",
    "from keras.models import Sequential\n",
    "from keras.layers import Dense\n",
    "from keras.optimizers import SGD  # Stochastic Gradient Descend \n",
    "\n",
    "from matplotlib import pyplot as plt\n",
    "%matplotlib inline"
   ]
  },
  {
   "cell_type": "markdown",
   "id": "f0ce7e52-a170-4474-b4b2-316c3dcb5625",
   "metadata": {},
   "source": [
    "<h4>Load the data</h4>"
   ]
  },
  {
   "cell_type": "code",
   "execution_count": 3,
   "id": "84bcfa06-b03d-4be2-96d3-d2b7d9a82aa1",
   "metadata": {},
   "outputs": [],
   "source": [
    "(X_train, y_train), (X_valid, y_valid) = mnist.load_data()"
   ]
  },
  {
   "cell_type": "code",
   "execution_count": 11,
   "id": "bd219358-2d08-4c36-9ccc-e3a4f8f730dc",
   "metadata": {},
   "outputs": [
    {
     "data": {
      "text/plain": [
       "<matplotlib.image.AxesImage at 0x7fc1cfbcc310>"
      ]
     },
     "execution_count": 11,
     "metadata": {},
     "output_type": "execute_result"
    },
    {
     "data": {
      "image/png": "[encoded data removed]",
      "text/plain": [
       "<Figure size 432x288 with 1 Axes>"
      ]
     },
     "metadata": {
      "needs_background": "light"
     },
     "output_type": "display_data"
    }
   ],
   "source": [
    "plt.imshow(X_valid[0], cmap='Greys')"
   ]
  },
  {
   "cell_type": "code",
   "execution_count": null,
   "id": "0e9afe9b-03d8-42a8-81f9-c4025f6a520e",
   "metadata": {},
   "outputs": [],
   "source": [
    "X_train.shape"
   ]
  },
  {
   "cell_type": "code",
   "execution_count": null,
   "id": "1e659432-bd59-40e2-bfec-244322492efa",
   "metadata": {},
   "outputs": [],
   "source": [
    "y_train.shape"
   ]
  },
  {
   "cell_type": "code",
   "execution_count": null,
   "id": "5122a624-5d12-431e-bf60-6fa044707411",
   "metadata": {},
   "outputs": [],
   "source": [
    "X_valid.shape"
   ]
  },
  {
   "cell_type": "code",
   "execution_count": null,
   "id": "9d7de287-999b-42ad-87f5-ade733f369ee",
   "metadata": {},
   "outputs": [],
   "source": [
    "y_valid.shape"
   ]
  },
  {
   "cell_type": "code",
   "execution_count": null,
   "id": "d12fc051-951f-465e-b86b-ec002f8443c2",
   "metadata": {},
   "outputs": [],
   "source": [
    "plt.figure(figsize=(10,10))\n",
    "for k in range(12):\n",
    "    plt.subplot(3, 4, k+1)\n",
    "    plt.imshow(X_train[k], cmap='Greys')\n",
    "    plt.axis('off')\n",
    "plt.tight_layout()\n",
    "plt.show()"
   ]
  },
  {
   "cell_type": "code",
   "execution_count": null,
   "id": "4b8a8822-9223-4538-b94b-58b485e6dda0",
   "metadata": {},
   "outputs": [],
   "source": [
    "plt.imshow(X_valid[0], cmap='Greys')\n",
    "plt.show()"
   ]
  },
  {
   "cell_type": "code",
   "execution_count": 51,
   "id": "5de13825-852a-4d2b-9e28-7c4524ac45a7",
   "metadata": {},
   "outputs": [],
   "source": [
    "from keras.models import Sequential\n",
    "from keras.layers import Dense\n",
    "from keras.optimizers import SGD  # Stochastic Gradient Descend "
   ]
  },
  {
   "cell_type": "code",
   "execution_count": 152,
   "id": "2d6f7a61-8622-4dc1-b92d-325a6b90b412",
   "metadata": {},
   "outputs": [],
   "source": [
    "model = Sequential()\n",
    "\n",
    "# your code goes here\n",
    "model.add(Dense(128, activation='sigmoid', input_shape=(784,)))\n",
    "model.add(Dense(64, activation='sigmoid'))\n",
    "model.add(Dense(32, activation='sigmoid'))\n",
    "model.add(Dense(10, activation='softmax'))"
   ]
  },
  {
   "cell_type": "code",
   "execution_count": null,
   "id": "a3f7235e-da6b-4e84-b656-244c9874b9b2",
   "metadata": {},
   "outputs": [],
   "source": [
    "model.compile(\n",
    "    loss='categorical_crossentropy',\n",
    "    optimizer=SGD(lr=0.1),  # lr = learning rate\n",
    "    metrics=['accuracy']\n",
    ")"
   ]
  },
  {
   "cell_type": "code",
   "execution_count": null,
   "id": "0ddf83f2-c188-4c3c-8e6f-76050cdd6832",
   "metadata": {},
   "outputs": [],
   "source": [
    "history = model.fit( # your code goes here\n",
    ")"
   ]
  },
  {
   "cell_type": "code",
   "execution_count": null,
   "id": "d10a778b-bb73-40ea-841b-cf8d3cc4151a",
   "metadata": {},
   "outputs": [],
   "source": [
    "y_pred = model.predict(X_valid\n",
    ")"
   ]
  },
  {
   "cell_type": "markdown",
   "id": "a6bcb484-6d74-48c6-ab1a-0811abef0ab3",
   "metadata": {},
   "source": [
    "#### Test for a few predictions"
   ]
  },
  {
   "cell_type": "code",
   "execution_count": null,
   "id": "2d617d37-d633-4c6c-bb79-2ab0326bab4b",
   "metadata": {},
   "outputs": [],
   "source": [
    "n = 33\n",
    "print(\"Prediction: \", y_pred[n].argmax(), \"Confidence: \", np.amax(y_pred[0]))\n",
    "print(\"Actual value: \", y_valid[n].argmax())\n",
    "plt.imshow(X_valid[n].reshape(28,28))"
   ]
  },
  {
   "cell_type": "code",
   "execution_count": null,
   "id": "0b5c3ead-eeb9-4a53-8992-e12f33217302",
   "metadata": {},
   "outputs": [],
   "source": [
    "y_pred[0]"
   ]
  },
  {
   "cell_type": "code",
   "execution_count": null,
   "id": "f105a67f-5d2d-4aad-ae06-51497474347f",
   "metadata": {},
   "outputs": [],
   "source": [
    "n = 1\n",
    "print(\"Prediction: \", y_pred[n].argmax(), \"Confidence: \", np.amax(y_pred[n]))\n",
    "print(\"Actual value: \", y_valid[n].argmax())"
   ]
  },
  {
   "cell_type": "code",
   "execution_count": null,
   "id": "9954f968-65d5-47f2-a00b-00fd4d2da739",
   "metadata": {},
   "outputs": [],
   "source": []
  }
 ],
 "metadata": {
  "kernelspec": {
   "display_name": "Python 3 (ipykernel)",
   "language": "python",
   "name": "python3"
  },
  "language_info": {
   "codemirror_mode": {
    "name": "ipython",
    "version": 3
   },
   "file_extension": ".py",
   "mimetype": "text/x-python",
   "name": "python",
   "nbconvert_exporter": "python",
   "pygments_lexer": "ipython3",
   "version": "3.8.10"
  }
 },
 "nbformat": 4,
 "nbformat_minor": 5
}
